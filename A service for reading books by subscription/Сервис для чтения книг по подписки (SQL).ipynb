{
 "cells": [
  {
   "cell_type": "markdown",
   "metadata": {},
   "source": [
    "# Проект: Сервис для чтения книг по подписки."
   ]
  },
  {
   "cell_type": "markdown",
   "metadata": {},
   "source": [
    "Цель: сформулировать ценностное предложение для создания нового продукта.\n",
    "\n",
    "Задачи: \n",
    "- проанализировать базу данных с книгами\n",
    "- найдем вышедшие книги в текущем столетии, \n",
    "- посчитаем количество обзоров и среднюю оценку книг\n",
    "- выделим из популярных авторов, автора с самыми высокими оценками\n",
    "- выявим среднее количество обзоров от пользователей, которые активно их оставляют\n"
   ]
  },
  {
   "cell_type": "code",
   "execution_count": 37,
   "metadata": {},
   "outputs": [
    {
     "data": {
      "text/html": [
       "<div>\n",
       "<style scoped>\n",
       "    .dataframe tbody tr th:only-of-type {\n",
       "        vertical-align: middle;\n",
       "    }\n",
       "\n",
       "    .dataframe tbody tr th {\n",
       "        vertical-align: top;\n",
       "    }\n",
       "\n",
       "    .dataframe thead th {\n",
       "        text-align: right;\n",
       "    }\n",
       "</style>\n",
       "<table border=\"1\" class=\"dataframe\">\n",
       "  <thead>\n",
       "    <tr style=\"text-align: right;\">\n",
       "      <th></th>\n",
       "      <th>book_id</th>\n",
       "      <th>author_id</th>\n",
       "      <th>title</th>\n",
       "      <th>num_pages</th>\n",
       "      <th>publication_date</th>\n",
       "      <th>publisher_id</th>\n",
       "    </tr>\n",
       "  </thead>\n",
       "  <tbody>\n",
       "    <tr>\n",
       "      <th>0</th>\n",
       "      <td>1</td>\n",
       "      <td>546</td>\n",
       "      <td>'Salem's Lot</td>\n",
       "      <td>594</td>\n",
       "      <td>2005-11-01</td>\n",
       "      <td>93</td>\n",
       "    </tr>\n",
       "    <tr>\n",
       "      <th>1</th>\n",
       "      <td>2</td>\n",
       "      <td>465</td>\n",
       "      <td>1 000 Places to See Before You Die</td>\n",
       "      <td>992</td>\n",
       "      <td>2003-05-22</td>\n",
       "      <td>336</td>\n",
       "    </tr>\n",
       "    <tr>\n",
       "      <th>2</th>\n",
       "      <td>3</td>\n",
       "      <td>407</td>\n",
       "      <td>13 Little Blue Envelopes (Little Blue Envelope...</td>\n",
       "      <td>322</td>\n",
       "      <td>2010-12-21</td>\n",
       "      <td>135</td>\n",
       "    </tr>\n",
       "    <tr>\n",
       "      <th>3</th>\n",
       "      <td>4</td>\n",
       "      <td>82</td>\n",
       "      <td>1491: New Revelations of the Americas Before C...</td>\n",
       "      <td>541</td>\n",
       "      <td>2006-10-10</td>\n",
       "      <td>309</td>\n",
       "    </tr>\n",
       "    <tr>\n",
       "      <th>4</th>\n",
       "      <td>5</td>\n",
       "      <td>125</td>\n",
       "      <td>1776</td>\n",
       "      <td>386</td>\n",
       "      <td>2006-07-04</td>\n",
       "      <td>268</td>\n",
       "    </tr>\n",
       "  </tbody>\n",
       "</table>\n",
       "</div>"
      ],
      "text/plain": [
       "   book_id  author_id                                              title  \\\n",
       "0        1        546                                       'Salem's Lot   \n",
       "1        2        465                 1 000 Places to See Before You Die   \n",
       "2        3        407  13 Little Blue Envelopes (Little Blue Envelope...   \n",
       "3        4         82  1491: New Revelations of the Americas Before C...   \n",
       "4        5        125                                               1776   \n",
       "\n",
       "   num_pages publication_date  publisher_id  \n",
       "0        594       2005-11-01            93  \n",
       "1        992       2003-05-22           336  \n",
       "2        322       2010-12-21           135  \n",
       "3        541       2006-10-10           309  \n",
       "4        386       2006-07-04           268  "
      ]
     },
     "execution_count": 37,
     "metadata": {},
     "output_type": "execute_result"
    }
   ],
   "source": [
    "# импортируем библиотеки\n",
    "import pandas as pd\n",
    "import sqlalchemy as sa\n",
    "from sqlalchemy import text, create_engine\n",
    "# устанавливаем параметры\n",
    "db_config = {'user': 'praktikum_student', # имя пользователя\n",
    "'pwd': 'Sdf4$2;d-d30pp', # пароль\n",
    "'host': 'rc1b-wcoijxj3yxfsf3fs.mdb.yandexcloud.net',\n",
    "'port': 6432, # порт подключения\n",
    "'db': 'data-analyst-final-project-db'} # название базы данных\n",
    "connection_string = 'postgresql://{user}:{pwd}@{host}:{port}/{db}'.format(**db_config)\n",
    "# сохраняем коннектор\n",
    "engine = create_engine(connection_string, connect_args={'sslmode':'require'})\n",
    "# чтобы выполнить SQL-запрос, используем Pandas\n",
    "query = '''SELECT * FROM books LIMIT 5'''\n",
    "con=engine.connect()\n",
    "pd.io.sql.read_sql(sql=text(query), con = con)\n"
   ]
  },
  {
   "cell_type": "code",
   "execution_count": 38,
   "metadata": {},
   "outputs": [],
   "source": [
    "def get_sql_data(query:str, engine:sa.engine.base.Engine=engine) -> pd.DataFrame:\n",
    "    with engine.connect() as con:\n",
    "        return pd.read_sql(sql=sa.text(query), con=con)"
   ]
  },
  {
   "cell_type": "code",
   "execution_count": 39,
   "metadata": {},
   "outputs": [],
   "source": [
    "def sql_table_info(table):\n",
    "    query = '''\n",
    "               SELECT * FROM {}'''.format(table)"
   ]
  },
  {
   "cell_type": "code",
   "execution_count": 40,
   "metadata": {},
   "outputs": [
    {
     "data": {
      "text/html": [
       "<div>\n",
       "<style scoped>\n",
       "    .dataframe tbody tr th:only-of-type {\n",
       "        vertical-align: middle;\n",
       "    }\n",
       "\n",
       "    .dataframe tbody tr th {\n",
       "        vertical-align: top;\n",
       "    }\n",
       "\n",
       "    .dataframe thead th {\n",
       "        text-align: right;\n",
       "    }\n",
       "</style>\n",
       "<table border=\"1\" class=\"dataframe\">\n",
       "  <thead>\n",
       "    <tr style=\"text-align: right;\">\n",
       "      <th></th>\n",
       "      <th>author_id</th>\n",
       "      <th>author</th>\n",
       "    </tr>\n",
       "  </thead>\n",
       "  <tbody>\n",
       "    <tr>\n",
       "      <th>0</th>\n",
       "      <td>1</td>\n",
       "      <td>A.S. Byatt</td>\n",
       "    </tr>\n",
       "    <tr>\n",
       "      <th>1</th>\n",
       "      <td>2</td>\n",
       "      <td>Aesop/Laura Harris/Laura Gibbs</td>\n",
       "    </tr>\n",
       "    <tr>\n",
       "      <th>2</th>\n",
       "      <td>3</td>\n",
       "      <td>Agatha Christie</td>\n",
       "    </tr>\n",
       "    <tr>\n",
       "      <th>3</th>\n",
       "      <td>4</td>\n",
       "      <td>Alan Brennert</td>\n",
       "    </tr>\n",
       "    <tr>\n",
       "      <th>4</th>\n",
       "      <td>5</td>\n",
       "      <td>Alan Moore/David   Lloyd</td>\n",
       "    </tr>\n",
       "  </tbody>\n",
       "</table>\n",
       "</div>"
      ],
      "text/plain": [
       "   author_id                          author\n",
       "0          1                      A.S. Byatt\n",
       "1          2  Aesop/Laura Harris/Laura Gibbs\n",
       "2          3                 Agatha Christie\n",
       "3          4                   Alan Brennert\n",
       "4          5        Alan Moore/David   Lloyd"
      ]
     },
     "execution_count": 40,
     "metadata": {},
     "output_type": "execute_result"
    }
   ],
   "source": [
    "query = '''SELECT * FROM authors LIMIT 5'''\n",
    "con=engine.connect()\n",
    "pd.io.sql.read_sql(sql=text(query), con = con)"
   ]
  },
  {
   "cell_type": "code",
   "execution_count": 41,
   "metadata": {},
   "outputs": [
    {
     "data": {
      "text/html": [
       "<div>\n",
       "<style scoped>\n",
       "    .dataframe tbody tr th:only-of-type {\n",
       "        vertical-align: middle;\n",
       "    }\n",
       "\n",
       "    .dataframe tbody tr th {\n",
       "        vertical-align: top;\n",
       "    }\n",
       "\n",
       "    .dataframe thead th {\n",
       "        text-align: right;\n",
       "    }\n",
       "</style>\n",
       "<table border=\"1\" class=\"dataframe\">\n",
       "  <thead>\n",
       "    <tr style=\"text-align: right;\">\n",
       "      <th></th>\n",
       "      <th>publisher_id</th>\n",
       "      <th>publisher</th>\n",
       "    </tr>\n",
       "  </thead>\n",
       "  <tbody>\n",
       "    <tr>\n",
       "      <th>0</th>\n",
       "      <td>1</td>\n",
       "      <td>Ace</td>\n",
       "    </tr>\n",
       "    <tr>\n",
       "      <th>1</th>\n",
       "      <td>2</td>\n",
       "      <td>Ace Book</td>\n",
       "    </tr>\n",
       "    <tr>\n",
       "      <th>2</th>\n",
       "      <td>3</td>\n",
       "      <td>Ace Books</td>\n",
       "    </tr>\n",
       "    <tr>\n",
       "      <th>3</th>\n",
       "      <td>4</td>\n",
       "      <td>Ace Hardcover</td>\n",
       "    </tr>\n",
       "    <tr>\n",
       "      <th>4</th>\n",
       "      <td>5</td>\n",
       "      <td>Addison Wesley Publishing Company</td>\n",
       "    </tr>\n",
       "  </tbody>\n",
       "</table>\n",
       "</div>"
      ],
      "text/plain": [
       "   publisher_id                          publisher\n",
       "0             1                                Ace\n",
       "1             2                           Ace Book\n",
       "2             3                          Ace Books\n",
       "3             4                      Ace Hardcover\n",
       "4             5  Addison Wesley Publishing Company"
      ]
     },
     "execution_count": 41,
     "metadata": {},
     "output_type": "execute_result"
    }
   ],
   "source": [
    "query = '''SELECT * FROM publishers LIMIT 5'''\n",
    "con=engine.connect()\n",
    "pd.io.sql.read_sql(sql=text(query), con = con)"
   ]
  },
  {
   "cell_type": "code",
   "execution_count": 42,
   "metadata": {},
   "outputs": [
    {
     "data": {
      "text/html": [
       "<div>\n",
       "<style scoped>\n",
       "    .dataframe tbody tr th:only-of-type {\n",
       "        vertical-align: middle;\n",
       "    }\n",
       "\n",
       "    .dataframe tbody tr th {\n",
       "        vertical-align: top;\n",
       "    }\n",
       "\n",
       "    .dataframe thead th {\n",
       "        text-align: right;\n",
       "    }\n",
       "</style>\n",
       "<table border=\"1\" class=\"dataframe\">\n",
       "  <thead>\n",
       "    <tr style=\"text-align: right;\">\n",
       "      <th></th>\n",
       "      <th>rating_id</th>\n",
       "      <th>book_id</th>\n",
       "      <th>username</th>\n",
       "      <th>rating</th>\n",
       "    </tr>\n",
       "  </thead>\n",
       "  <tbody>\n",
       "    <tr>\n",
       "      <th>0</th>\n",
       "      <td>1</td>\n",
       "      <td>1</td>\n",
       "      <td>ryanfranco</td>\n",
       "      <td>4</td>\n",
       "    </tr>\n",
       "    <tr>\n",
       "      <th>1</th>\n",
       "      <td>2</td>\n",
       "      <td>1</td>\n",
       "      <td>grantpatricia</td>\n",
       "      <td>2</td>\n",
       "    </tr>\n",
       "    <tr>\n",
       "      <th>2</th>\n",
       "      <td>3</td>\n",
       "      <td>1</td>\n",
       "      <td>brandtandrea</td>\n",
       "      <td>5</td>\n",
       "    </tr>\n",
       "    <tr>\n",
       "      <th>3</th>\n",
       "      <td>4</td>\n",
       "      <td>2</td>\n",
       "      <td>lorichen</td>\n",
       "      <td>3</td>\n",
       "    </tr>\n",
       "    <tr>\n",
       "      <th>4</th>\n",
       "      <td>5</td>\n",
       "      <td>2</td>\n",
       "      <td>mariokeller</td>\n",
       "      <td>2</td>\n",
       "    </tr>\n",
       "  </tbody>\n",
       "</table>\n",
       "</div>"
      ],
      "text/plain": [
       "   rating_id  book_id       username  rating\n",
       "0          1        1     ryanfranco       4\n",
       "1          2        1  grantpatricia       2\n",
       "2          3        1   brandtandrea       5\n",
       "3          4        2       lorichen       3\n",
       "4          5        2    mariokeller       2"
      ]
     },
     "execution_count": 42,
     "metadata": {},
     "output_type": "execute_result"
    }
   ],
   "source": [
    "query = '''SELECT * FROM ratings LIMIT 5'''\n",
    "con=engine.connect()\n",
    "pd.io.sql.read_sql(sql=text(query), con = con)"
   ]
  },
  {
   "cell_type": "code",
   "execution_count": 43,
   "metadata": {},
   "outputs": [
    {
     "data": {
      "text/html": [
       "<div>\n",
       "<style scoped>\n",
       "    .dataframe tbody tr th:only-of-type {\n",
       "        vertical-align: middle;\n",
       "    }\n",
       "\n",
       "    .dataframe tbody tr th {\n",
       "        vertical-align: top;\n",
       "    }\n",
       "\n",
       "    .dataframe thead th {\n",
       "        text-align: right;\n",
       "    }\n",
       "</style>\n",
       "<table border=\"1\" class=\"dataframe\">\n",
       "  <thead>\n",
       "    <tr style=\"text-align: right;\">\n",
       "      <th></th>\n",
       "      <th>review_id</th>\n",
       "      <th>book_id</th>\n",
       "      <th>username</th>\n",
       "      <th>text</th>\n",
       "    </tr>\n",
       "  </thead>\n",
       "  <tbody>\n",
       "    <tr>\n",
       "      <th>0</th>\n",
       "      <td>1</td>\n",
       "      <td>1</td>\n",
       "      <td>brandtandrea</td>\n",
       "      <td>Mention society tell send professor analysis. ...</td>\n",
       "    </tr>\n",
       "    <tr>\n",
       "      <th>1</th>\n",
       "      <td>2</td>\n",
       "      <td>1</td>\n",
       "      <td>ryanfranco</td>\n",
       "      <td>Foot glass pretty audience hit themselves. Amo...</td>\n",
       "    </tr>\n",
       "    <tr>\n",
       "      <th>2</th>\n",
       "      <td>3</td>\n",
       "      <td>2</td>\n",
       "      <td>lorichen</td>\n",
       "      <td>Listen treat keep worry. Miss husband tax but ...</td>\n",
       "    </tr>\n",
       "    <tr>\n",
       "      <th>3</th>\n",
       "      <td>4</td>\n",
       "      <td>3</td>\n",
       "      <td>johnsonamanda</td>\n",
       "      <td>Finally month interesting blue could nature cu...</td>\n",
       "    </tr>\n",
       "    <tr>\n",
       "      <th>4</th>\n",
       "      <td>5</td>\n",
       "      <td>3</td>\n",
       "      <td>scotttamara</td>\n",
       "      <td>Nation purpose heavy give wait song will. List...</td>\n",
       "    </tr>\n",
       "  </tbody>\n",
       "</table>\n",
       "</div>"
      ],
      "text/plain": [
       "   review_id  book_id       username  \\\n",
       "0          1        1   brandtandrea   \n",
       "1          2        1     ryanfranco   \n",
       "2          3        2       lorichen   \n",
       "3          4        3  johnsonamanda   \n",
       "4          5        3    scotttamara   \n",
       "\n",
       "                                                text  \n",
       "0  Mention society tell send professor analysis. ...  \n",
       "1  Foot glass pretty audience hit themselves. Amo...  \n",
       "2  Listen treat keep worry. Miss husband tax but ...  \n",
       "3  Finally month interesting blue could nature cu...  \n",
       "4  Nation purpose heavy give wait song will. List...  "
      ]
     },
     "execution_count": 43,
     "metadata": {},
     "output_type": "execute_result"
    }
   ],
   "source": [
    "query = '''SELECT * FROM reviews LIMIT 5'''\n",
    "con=engine.connect()\n",
    "pd.io.sql.read_sql(sql=text(query), con = con)"
   ]
  },
  {
   "cell_type": "code",
   "execution_count": 44,
   "metadata": {},
   "outputs": [
    {
     "data": {
      "text/html": [
       "<div>\n",
       "<style scoped>\n",
       "    .dataframe tbody tr th:only-of-type {\n",
       "        vertical-align: middle;\n",
       "    }\n",
       "\n",
       "    .dataframe tbody tr th {\n",
       "        vertical-align: top;\n",
       "    }\n",
       "\n",
       "    .dataframe thead th {\n",
       "        text-align: right;\n",
       "    }\n",
       "</style>\n",
       "<table border=\"1\" class=\"dataframe\">\n",
       "  <thead>\n",
       "    <tr style=\"text-align: right;\">\n",
       "      <th></th>\n",
       "      <th>count</th>\n",
       "    </tr>\n",
       "  </thead>\n",
       "  <tbody>\n",
       "    <tr>\n",
       "      <th>0</th>\n",
       "      <td>2793</td>\n",
       "    </tr>\n",
       "  </tbody>\n",
       "</table>\n",
       "</div>"
      ],
      "text/plain": [
       "   count\n",
       "0   2793"
      ]
     },
     "execution_count": 44,
     "metadata": {},
     "output_type": "execute_result"
    }
   ],
   "source": [
    "query = '''SELECT COUNT(review_id)\n",
    "FROM reviews;'''\n",
    "get_sql_data(query)"
   ]
  },
  {
   "cell_type": "markdown",
   "metadata": {},
   "source": [
    "Сколько же книг вышло после 1 января 2000 года.\n"
   ]
  },
  {
   "cell_type": "code",
   "execution_count": 45,
   "metadata": {},
   "outputs": [
    {
     "data": {
      "text/html": [
       "<div>\n",
       "<style scoped>\n",
       "    .dataframe tbody tr th:only-of-type {\n",
       "        vertical-align: middle;\n",
       "    }\n",
       "\n",
       "    .dataframe tbody tr th {\n",
       "        vertical-align: top;\n",
       "    }\n",
       "\n",
       "    .dataframe thead th {\n",
       "        text-align: right;\n",
       "    }\n",
       "</style>\n",
       "<table border=\"1\" class=\"dataframe\">\n",
       "  <thead>\n",
       "    <tr style=\"text-align: right;\">\n",
       "      <th></th>\n",
       "      <th>count</th>\n",
       "    </tr>\n",
       "  </thead>\n",
       "  <tbody>\n",
       "    <tr>\n",
       "      <th>0</th>\n",
       "      <td>821</td>\n",
       "    </tr>\n",
       "  </tbody>\n",
       "</table>\n",
       "</div>"
      ],
      "text/plain": [
       "   count\n",
       "0    821"
      ]
     },
     "execution_count": 45,
     "metadata": {},
     "output_type": "execute_result"
    }
   ],
   "source": [
    "query = '''SELECT COUNT(DISTINCT book_id)\n",
    "FROM books\n",
    "WHERE publication_date >= '2000-01-01';'''\n",
    "get_sql_data(query)"
   ]
  },
  {
   "cell_type": "markdown",
   "metadata": {},
   "source": [
    "Этот параметр позволит разработчикам составить представление сколько всего книг вышло в этом веке, как быстро появляются и издаются новые книги. "
   ]
  },
  {
   "cell_type": "markdown",
   "metadata": {},
   "source": [
    "Для каждой книги посчитаем количество обзоров и среднюю оценку.\n"
   ]
  },
  {
   "cell_type": "code",
   "execution_count": 46,
   "metadata": {},
   "outputs": [
    {
     "data": {
      "text/html": [
       "<div>\n",
       "<style scoped>\n",
       "    .dataframe tbody tr th:only-of-type {\n",
       "        vertical-align: middle;\n",
       "    }\n",
       "\n",
       "    .dataframe tbody tr th {\n",
       "        vertical-align: top;\n",
       "    }\n",
       "\n",
       "    .dataframe thead th {\n",
       "        text-align: right;\n",
       "    }\n",
       "</style>\n",
       "<table border=\"1\" class=\"dataframe\">\n",
       "  <thead>\n",
       "    <tr style=\"text-align: right;\">\n",
       "      <th></th>\n",
       "      <th>sum</th>\n",
       "    </tr>\n",
       "  </thead>\n",
       "  <tbody>\n",
       "    <tr>\n",
       "      <th>0</th>\n",
       "      <td>26167.0</td>\n",
       "    </tr>\n",
       "  </tbody>\n",
       "</table>\n",
       "</div>"
      ],
      "text/plain": [
       "       sum\n",
       "0  26167.0"
      ]
     },
     "execution_count": 46,
     "metadata": {},
     "output_type": "execute_result"
    }
   ],
   "source": [
    "query = '''WITH a AS (SELECT  b.title,\n",
    "                  COUNT(r.review_id) count_review,\n",
    "                  AVG(a.rating)\n",
    "           FROM books AS b LEFT JOIN reviews AS r ON b.book_id = r.book_id\n",
    "           LEFT JOIN ratings AS a ON b.book_id = a.book_id\n",
    "           GROUP BY b.book_id\n",
    "           ORDER BY COUNT(r.review_id) DESC)\n",
    "           SELECT SUM(count_review)\n",
    "           FROM a\n",
    "'''\n",
    "get_sql_data(query)"
   ]
  },
  {
   "cell_type": "code",
   "execution_count": 47,
   "metadata": {},
   "outputs": [
    {
     "data": {
      "text/html": [
       "<div>\n",
       "<style scoped>\n",
       "    .dataframe tbody tr th:only-of-type {\n",
       "        vertical-align: middle;\n",
       "    }\n",
       "\n",
       "    .dataframe tbody tr th {\n",
       "        vertical-align: top;\n",
       "    }\n",
       "\n",
       "    .dataframe thead th {\n",
       "        text-align: right;\n",
       "    }\n",
       "</style>\n",
       "<table border=\"1\" class=\"dataframe\">\n",
       "  <thead>\n",
       "    <tr style=\"text-align: right;\">\n",
       "      <th></th>\n",
       "      <th>sum</th>\n",
       "    </tr>\n",
       "  </thead>\n",
       "  <tbody>\n",
       "    <tr>\n",
       "      <th>0</th>\n",
       "      <td>2793.0</td>\n",
       "    </tr>\n",
       "  </tbody>\n",
       "</table>\n",
       "</div>"
      ],
      "text/plain": [
       "      sum\n",
       "0  2793.0"
      ]
     },
     "execution_count": 47,
     "metadata": {},
     "output_type": "execute_result"
    }
   ],
   "source": [
    "query = '''WITH a AS (SELECT  b.title,\n",
    "                  COUNT(DISTINCT r.review_id) count_review,\n",
    "                  AVG(a.rating)\n",
    "           FROM books AS b LEFT JOIN reviews AS r ON b.book_id = r.book_id\n",
    "           LEFT JOIN ratings AS a ON b.book_id = a.book_id\n",
    "           GROUP BY b.book_id\n",
    "           ORDER BY COUNT(r.review_id) DESC)\n",
    "           SELECT SUM(count_review)\n",
    "           FROM a\n",
    "'''\n",
    "get_sql_data(query)"
   ]
  },
  {
   "cell_type": "code",
   "execution_count": 48,
   "metadata": {},
   "outputs": [
    {
     "data": {
      "text/html": [
       "<div>\n",
       "<style scoped>\n",
       "    .dataframe tbody tr th:only-of-type {\n",
       "        vertical-align: middle;\n",
       "    }\n",
       "\n",
       "    .dataframe tbody tr th {\n",
       "        vertical-align: top;\n",
       "    }\n",
       "\n",
       "    .dataframe thead th {\n",
       "        text-align: right;\n",
       "    }\n",
       "</style>\n",
       "<table border=\"1\" class=\"dataframe\">\n",
       "  <thead>\n",
       "    <tr style=\"text-align: right;\">\n",
       "      <th></th>\n",
       "      <th>title</th>\n",
       "      <th>count_review</th>\n",
       "      <th>avg</th>\n",
       "    </tr>\n",
       "  </thead>\n",
       "  <tbody>\n",
       "    <tr>\n",
       "      <th>0</th>\n",
       "      <td>Twilight (Twilight  #1)</td>\n",
       "      <td>7</td>\n",
       "      <td>3.662500</td>\n",
       "    </tr>\n",
       "    <tr>\n",
       "      <th>1</th>\n",
       "      <td>The Hobbit  or There and Back Again</td>\n",
       "      <td>6</td>\n",
       "      <td>4.125000</td>\n",
       "    </tr>\n",
       "    <tr>\n",
       "      <th>2</th>\n",
       "      <td>The Catcher in the Rye</td>\n",
       "      <td>6</td>\n",
       "      <td>3.825581</td>\n",
       "    </tr>\n",
       "    <tr>\n",
       "      <th>3</th>\n",
       "      <td>Harry Potter and the Prisoner of Azkaban (Harr...</td>\n",
       "      <td>6</td>\n",
       "      <td>4.414634</td>\n",
       "    </tr>\n",
       "    <tr>\n",
       "      <th>4</th>\n",
       "      <td>Harry Potter and the Chamber of Secrets (Harry...</td>\n",
       "      <td>6</td>\n",
       "      <td>4.287500</td>\n",
       "    </tr>\n",
       "    <tr>\n",
       "      <th>5</th>\n",
       "      <td>Angels &amp; Demons (Robert Langdon  #1)</td>\n",
       "      <td>5</td>\n",
       "      <td>3.678571</td>\n",
       "    </tr>\n",
       "    <tr>\n",
       "      <th>6</th>\n",
       "      <td>Harry Potter and the Order of the Phoenix (Har...</td>\n",
       "      <td>5</td>\n",
       "      <td>4.186667</td>\n",
       "    </tr>\n",
       "    <tr>\n",
       "      <th>7</th>\n",
       "      <td>The Lightning Thief (Percy Jackson and the Oly...</td>\n",
       "      <td>6</td>\n",
       "      <td>4.080645</td>\n",
       "    </tr>\n",
       "    <tr>\n",
       "      <th>8</th>\n",
       "      <td>Animal Farm</td>\n",
       "      <td>5</td>\n",
       "      <td>3.729730</td>\n",
       "    </tr>\n",
       "    <tr>\n",
       "      <th>9</th>\n",
       "      <td>The Fellowship of the Ring (The Lord of the Ri...</td>\n",
       "      <td>5</td>\n",
       "      <td>4.391892</td>\n",
       "    </tr>\n",
       "  </tbody>\n",
       "</table>\n",
       "</div>"
      ],
      "text/plain": [
       "                                               title  count_review       avg\n",
       "0                            Twilight (Twilight  #1)             7  3.662500\n",
       "1                The Hobbit  or There and Back Again             6  4.125000\n",
       "2                             The Catcher in the Rye             6  3.825581\n",
       "3  Harry Potter and the Prisoner of Azkaban (Harr...             6  4.414634\n",
       "4  Harry Potter and the Chamber of Secrets (Harry...             6  4.287500\n",
       "5               Angels & Demons (Robert Langdon  #1)             5  3.678571\n",
       "6  Harry Potter and the Order of the Phoenix (Har...             5  4.186667\n",
       "7  The Lightning Thief (Percy Jackson and the Oly...             6  4.080645\n",
       "8                                        Animal Farm             5  3.729730\n",
       "9  The Fellowship of the Ring (The Lord of the Ri...             5  4.391892"
      ]
     },
     "execution_count": 48,
     "metadata": {},
     "output_type": "execute_result"
    }
   ],
   "source": [
    "query = '''SELECT  b.title,\n",
    "                  COUNT(DISTINCT r.review_id) count_review,\n",
    "                  AVG(a.rating)\n",
    "           FROM books AS b LEFT JOIN reviews AS r ON b.book_id = r.book_id\n",
    "           LEFT JOIN ratings AS a ON b.book_id = a.book_id\n",
    "           GROUP BY b.book_id\n",
    "           ORDER BY COUNT(r.review_id) DESC\n",
    "           LIMIT 10;\n",
    "'''\n",
    "get_sql_data(query)"
   ]
  },
  {
   "cell_type": "markdown",
   "metadata": {},
   "source": [
    "Видно, что есть у самых популярных книг, не всегда высокие оценки. Книга может вызывать среди читателей неоднозначное мнение, что может способствовать ее горячему обсуждению и, следовательно, популярности произведения. "
   ]
  },
  {
   "cell_type": "markdown",
   "metadata": {},
   "source": [
    "Издательство, которое выпустило наибольшее число книг толще 50 страниц (исключим брошюры из анализа).\n"
   ]
  },
  {
   "cell_type": "code",
   "execution_count": 49,
   "metadata": {},
   "outputs": [
    {
     "data": {
      "text/html": [
       "<div>\n",
       "<style scoped>\n",
       "    .dataframe tbody tr th:only-of-type {\n",
       "        vertical-align: middle;\n",
       "    }\n",
       "\n",
       "    .dataframe tbody tr th {\n",
       "        vertical-align: top;\n",
       "    }\n",
       "\n",
       "    .dataframe thead th {\n",
       "        text-align: right;\n",
       "    }\n",
       "</style>\n",
       "<table border=\"1\" class=\"dataframe\">\n",
       "  <thead>\n",
       "    <tr style=\"text-align: right;\">\n",
       "      <th></th>\n",
       "      <th>publisher</th>\n",
       "      <th>count</th>\n",
       "    </tr>\n",
       "  </thead>\n",
       "  <tbody>\n",
       "    <tr>\n",
       "      <th>0</th>\n",
       "      <td>Penguin Books</td>\n",
       "      <td>42</td>\n",
       "    </tr>\n",
       "  </tbody>\n",
       "</table>\n",
       "</div>"
      ],
      "text/plain": [
       "       publisher  count\n",
       "0  Penguin Books     42"
      ]
     },
     "execution_count": 49,
     "metadata": {},
     "output_type": "execute_result"
    }
   ],
   "source": [
    "query = '''SELECT p.publisher, \n",
    "                  COUNT(b.book_id)\n",
    "           FROM books AS b LEFT JOIN publishers AS p ON b.publisher_id = p.publisher_id\n",
    "           WHERE b.num_pages > 50\n",
    "           GROUP BY p.publisher\n",
    "           ORDER BY COUNT(b.book_id) DESC\n",
    "           LIMIT 1;\n",
    "'''\n",
    "get_sql_data(query)"
   ]
  },
  {
   "cell_type": "markdown",
   "metadata": {},
   "source": [
    "Это издательство активнее других печатает новые произведения авторов. Оно выпустило 42 новых книги. "
   ]
  },
  {
   "cell_type": "markdown",
   "metadata": {},
   "source": [
    "Автор с самой высокой средней оценкой книг(будет учитывать книги с 50 и более оценками)"
   ]
  },
  {
   "cell_type": "code",
   "execution_count": 50,
   "metadata": {},
   "outputs": [
    {
     "data": {
      "text/html": [
       "<div>\n",
       "<style scoped>\n",
       "    .dataframe tbody tr th:only-of-type {\n",
       "        vertical-align: middle;\n",
       "    }\n",
       "\n",
       "    .dataframe tbody tr th {\n",
       "        vertical-align: top;\n",
       "    }\n",
       "\n",
       "    .dataframe thead th {\n",
       "        text-align: right;\n",
       "    }\n",
       "</style>\n",
       "<table border=\"1\" class=\"dataframe\">\n",
       "  <thead>\n",
       "    <tr style=\"text-align: right;\">\n",
       "      <th></th>\n",
       "      <th>author</th>\n",
       "      <th>avg</th>\n",
       "    </tr>\n",
       "  </thead>\n",
       "  <tbody>\n",
       "    <tr>\n",
       "      <th>0</th>\n",
       "      <td>J.K. Rowling/Mary GrandPré</td>\n",
       "      <td>4.283844</td>\n",
       "    </tr>\n",
       "  </tbody>\n",
       "</table>\n",
       "</div>"
      ],
      "text/plain": [
       "                       author       avg\n",
       "0  J.K. Rowling/Mary GrandPré  4.283844"
      ]
     },
     "execution_count": 50,
     "metadata": {},
     "output_type": "execute_result"
    }
   ],
   "source": [
    "query = '''WITH a AS (SELECT book_id, \n",
    "                             AVG(rating) AS rating\n",
    "                      FROM ratings\n",
    "                      GROUP BY book_id\n",
    "                      HAVING COUNT(rating_id) > 50\n",
    "                      ORDER BY AVG(rating))\n",
    "        SELECT au.author,\n",
    "               AVG(a.rating)\n",
    "        FROM books AS b INNER JOIN a ON b.book_id=a.book_id\n",
    "        LEFT JOIN authors AS au ON b.author_id = au.author_id\n",
    "        \n",
    "        GROUP BY au.author\n",
    "        ORDER BY AVG(a.rating) DESC\n",
    "        LIMIT 1;\n",
    "'''\n",
    "get_sql_data(query)"
   ]
  },
  {
   "cell_type": "markdown",
   "metadata": {},
   "source": [
    "Предпочтениями публики в 21 веке пользуется писательница Дж. Роулинг. Ее книги набрали самые высокие оценки среди пользователей."
   ]
  },
  {
   "cell_type": "markdown",
   "metadata": {},
   "source": [
    "Среднее количество обзоров от пользователей, которые поставили больше 48 оценок."
   ]
  },
  {
   "cell_type": "code",
   "execution_count": 51,
   "metadata": {},
   "outputs": [
    {
     "data": {
      "text/html": [
       "<div>\n",
       "<style scoped>\n",
       "    .dataframe tbody tr th:only-of-type {\n",
       "        vertical-align: middle;\n",
       "    }\n",
       "\n",
       "    .dataframe tbody tr th {\n",
       "        vertical-align: top;\n",
       "    }\n",
       "\n",
       "    .dataframe thead th {\n",
       "        text-align: right;\n",
       "    }\n",
       "</style>\n",
       "<table border=\"1\" class=\"dataframe\">\n",
       "  <thead>\n",
       "    <tr style=\"text-align: right;\">\n",
       "      <th></th>\n",
       "      <th>avg</th>\n",
       "    </tr>\n",
       "  </thead>\n",
       "  <tbody>\n",
       "    <tr>\n",
       "      <th>0</th>\n",
       "      <td>24.0</td>\n",
       "    </tr>\n",
       "  </tbody>\n",
       "</table>\n",
       "</div>"
      ],
      "text/plain": [
       "    avg\n",
       "0  24.0"
      ]
     },
     "execution_count": 51,
     "metadata": {},
     "output_type": "execute_result"
    }
   ],
   "source": [
    "query = '''WITH a AS \n",
    "          (SELECT username, \n",
    "                  COUNT(review_id) AS user_count\n",
    "           FROM reviews\n",
    "           WHERE username IN (SELECT username\n",
    "                              FROM ratings \n",
    "                              GROUP BY username\n",
    "                              HAVING COUNT(rating) > 48)\n",
    "          GROUP BY username)\n",
    "          SELECT AVG(user_count)\n",
    "          FROM a;\n",
    "'''\n",
    "get_sql_data(query)"
   ]
  },
  {
   "cell_type": "markdown",
   "metadata": {},
   "source": [
    "Активные читатели в среднем оставили 24 обзора на произведения."
   ]
  },
  {
   "cell_type": "markdown",
   "metadata": {},
   "source": [
    "Выводы:\n",
    "\n",
    "\n",
    "    Мы получили цифры, на которые могут ориентироваться разработчики. Насколько много нужно закладывать серверов для продажи подписки с сервисами. Сколько нужно закладывать под отзывы на произведения и тд. \n",
    "    Очень популярные произведения не всегда обладают высокими оценками - это специфика книжного рынка.\n",
    "    Самым понравившимся писателем на сегодня является Дж. Роулинг.\n",
    "    Издательство, которое чаще всего издает новые произведения - Penguin Books. На это издательство можно ориентироваться либо за ним следить, чтобы сервис не теряя конкурентного преимущества и тоже покупал и публиковал новинки. "
   ]
  }
 ],
 "metadata": {
  "ExecuteTimeLog": [
   {
    "duration": 8632,
    "start_time": "2024-04-30T06:02:46.524Z"
   },
   {
    "duration": 74,
    "start_time": "2024-04-30T06:08:59.880Z"
   },
   {
    "duration": 73,
    "start_time": "2024-04-30T10:30:23.997Z"
   },
   {
    "duration": 126,
    "start_time": "2024-04-30T19:25:38.404Z"
   },
   {
    "duration": 70,
    "start_time": "2024-04-30T19:26:38.292Z"
   },
   {
    "duration": 87,
    "start_time": "2024-04-30T19:35:18.812Z"
   },
   {
    "duration": 9,
    "start_time": "2024-04-30T19:38:59.911Z"
   },
   {
    "duration": 69,
    "start_time": "2024-04-30T19:39:28.959Z"
   },
   {
    "duration": 4,
    "start_time": "2024-04-30T19:39:40.503Z"
   },
   {
    "duration": 3,
    "start_time": "2024-04-30T19:43:01.016Z"
   },
   {
    "duration": 8368,
    "start_time": "2024-04-30T20:00:00.211Z"
   },
   {
    "duration": 68,
    "start_time": "2024-04-30T20:19:51.681Z"
   },
   {
    "duration": 47,
    "start_time": "2024-04-30T20:21:15.127Z"
   },
   {
    "duration": 2,
    "start_time": "2024-04-30T20:21:16.424Z"
   },
   {
    "duration": 3,
    "start_time": "2024-04-30T20:26:28.144Z"
   },
   {
    "duration": 33,
    "start_time": "2024-04-30T20:27:03.727Z"
   },
   {
    "duration": 28,
    "start_time": "2024-04-30T21:05:07.469Z"
   },
   {
    "duration": 26,
    "start_time": "2024-04-30T21:06:18.289Z"
   },
   {
    "duration": 23,
    "start_time": "2024-04-30T21:06:56.163Z"
   },
   {
    "duration": 41,
    "start_time": "2024-05-01T05:34:28.617Z"
   },
   {
    "duration": 5506,
    "start_time": "2024-05-01T05:34:36.938Z"
   },
   {
    "duration": 0,
    "start_time": "2024-05-01T05:34:42.446Z"
   },
   {
    "duration": 1,
    "start_time": "2024-05-01T05:34:42.446Z"
   },
   {
    "duration": 0,
    "start_time": "2024-05-01T05:34:42.447Z"
   },
   {
    "duration": 0,
    "start_time": "2024-05-01T05:34:42.448Z"
   },
   {
    "duration": 0,
    "start_time": "2024-05-01T05:34:42.449Z"
   },
   {
    "duration": 0,
    "start_time": "2024-05-01T05:34:42.450Z"
   },
   {
    "duration": 0,
    "start_time": "2024-05-01T05:34:42.451Z"
   },
   {
    "duration": 6,
    "start_time": "2024-05-01T05:35:54.447Z"
   },
   {
    "duration": 3,
    "start_time": "2024-05-01T05:35:59.279Z"
   },
   {
    "duration": 2,
    "start_time": "2024-05-01T05:35:59.791Z"
   },
   {
    "duration": 133,
    "start_time": "2024-05-01T05:36:03.487Z"
   },
   {
    "duration": 62,
    "start_time": "2024-05-01T05:36:06.839Z"
   },
   {
    "duration": 64,
    "start_time": "2024-05-01T05:36:09.991Z"
   },
   {
    "duration": 51,
    "start_time": "2024-05-01T05:39:14.661Z"
   },
   {
    "duration": 51,
    "start_time": "2024-05-01T05:39:24.171Z"
   },
   {
    "duration": 52,
    "start_time": "2024-05-01T05:39:29.786Z"
   },
   {
    "duration": 202,
    "start_time": "2024-05-01T05:42:26.679Z"
   },
   {
    "duration": 5724,
    "start_time": "2024-05-01T19:15:52.190Z"
   },
   {
    "duration": 174,
    "start_time": "2024-05-01T19:15:58.238Z"
   },
   {
    "duration": 0,
    "start_time": "2024-05-01T19:15:58.414Z"
   },
   {
    "duration": 0,
    "start_time": "2024-05-01T19:15:58.415Z"
   },
   {
    "duration": 0,
    "start_time": "2024-05-01T19:15:58.416Z"
   },
   {
    "duration": 0,
    "start_time": "2024-05-01T19:15:58.417Z"
   },
   {
    "duration": 0,
    "start_time": "2024-05-01T19:15:58.418Z"
   },
   {
    "duration": 0,
    "start_time": "2024-05-01T19:15:58.419Z"
   },
   {
    "duration": 0,
    "start_time": "2024-05-01T19:15:58.420Z"
   },
   {
    "duration": 3,
    "start_time": "2024-05-01T19:16:18.668Z"
   },
   {
    "duration": 3,
    "start_time": "2024-05-01T19:16:20.132Z"
   },
   {
    "duration": 126,
    "start_time": "2024-05-01T19:16:21.525Z"
   },
   {
    "duration": 62,
    "start_time": "2024-05-01T19:16:24.852Z"
   },
   {
    "duration": 49,
    "start_time": "2024-05-01T19:16:39.490Z"
   },
   {
    "duration": 63,
    "start_time": "2024-05-01T19:16:41.259Z"
   },
   {
    "duration": 69,
    "start_time": "2024-05-01T19:49:11.119Z"
   },
   {
    "duration": 44951,
    "start_time": "2024-05-01T19:49:46.768Z"
   },
   {
    "duration": 54,
    "start_time": "2024-05-01T19:51:03.595Z"
   },
   {
    "duration": 69,
    "start_time": "2024-05-01T19:51:18.477Z"
   },
   {
    "duration": 60,
    "start_time": "2024-05-01T19:52:14.909Z"
   },
   {
    "duration": 68,
    "start_time": "2024-05-01T19:52:26.828Z"
   },
   {
    "duration": 50,
    "start_time": "2024-05-01T19:52:35.716Z"
   },
   {
    "duration": 56,
    "start_time": "2024-05-01T19:52:43.339Z"
   },
   {
    "duration": 63,
    "start_time": "2024-05-01T20:14:21.767Z"
   },
   {
    "duration": 58,
    "start_time": "2024-05-01T20:15:04.536Z"
   },
   {
    "duration": 51,
    "start_time": "2024-05-01T20:15:34.062Z"
   },
   {
    "duration": 63,
    "start_time": "2024-05-01T20:24:09.858Z"
   },
   {
    "duration": 59,
    "start_time": "2024-05-01T20:24:29.930Z"
   },
   {
    "duration": 75,
    "start_time": "2024-05-01T20:27:07.800Z"
   },
   {
    "duration": 53,
    "start_time": "2024-05-01T20:27:56.819Z"
   },
   {
    "duration": 72,
    "start_time": "2024-05-01T20:28:18.759Z"
   },
   {
    "duration": 56,
    "start_time": "2024-05-01T20:29:20.318Z"
   },
   {
    "duration": 63,
    "start_time": "2024-05-01T20:46:57.115Z"
   },
   {
    "duration": 61,
    "start_time": "2024-05-01T20:49:51.544Z"
   },
   {
    "duration": 55,
    "start_time": "2024-05-01T20:50:40.716Z"
   },
   {
    "duration": 53,
    "start_time": "2024-05-01T20:51:25.941Z"
   },
   {
    "duration": 69,
    "start_time": "2024-05-01T20:53:18.144Z"
   },
   {
    "duration": 53,
    "start_time": "2024-05-01T20:53:42.817Z"
   },
   {
    "duration": 71,
    "start_time": "2024-05-01T20:58:17.777Z"
   },
   {
    "duration": 6706,
    "start_time": "2024-05-02T06:21:20.393Z"
   },
   {
    "duration": 0,
    "start_time": "2024-05-02T06:21:27.101Z"
   },
   {
    "duration": 0,
    "start_time": "2024-05-02T06:21:27.102Z"
   },
   {
    "duration": 0,
    "start_time": "2024-05-02T06:21:27.104Z"
   },
   {
    "duration": 0,
    "start_time": "2024-05-02T06:21:27.105Z"
   },
   {
    "duration": 0,
    "start_time": "2024-05-02T06:21:27.106Z"
   },
   {
    "duration": 0,
    "start_time": "2024-05-02T06:21:27.107Z"
   },
   {
    "duration": 0,
    "start_time": "2024-05-02T06:21:27.108Z"
   },
   {
    "duration": 3,
    "start_time": "2024-05-02T06:21:32.174Z"
   },
   {
    "duration": 3,
    "start_time": "2024-05-02T06:21:32.939Z"
   },
   {
    "duration": 119,
    "start_time": "2024-05-02T06:21:34.397Z"
   },
   {
    "duration": 62,
    "start_time": "2024-05-02T06:21:40.299Z"
   },
   {
    "duration": 51,
    "start_time": "2024-05-02T06:21:41.701Z"
   },
   {
    "duration": 54,
    "start_time": "2024-05-02T06:21:44.987Z"
   },
   {
    "duration": 52,
    "start_time": "2024-05-02T06:21:47.908Z"
   },
   {
    "duration": 54,
    "start_time": "2024-05-02T07:00:09.079Z"
   },
   {
    "duration": 68,
    "start_time": "2024-05-02T07:00:27.089Z"
   },
   {
    "duration": 53,
    "start_time": "2024-05-02T07:00:43.224Z"
   },
   {
    "duration": 54,
    "start_time": "2024-05-02T07:01:51.872Z"
   },
   {
    "duration": 55,
    "start_time": "2024-05-02T07:02:00.686Z"
   },
   {
    "duration": 210,
    "start_time": "2024-05-02T07:06:10.841Z"
   },
   {
    "duration": 55,
    "start_time": "2024-05-02T07:12:10.056Z"
   },
   {
    "duration": 2,
    "start_time": "2024-05-02T07:12:26.887Z"
   },
   {
    "duration": 124,
    "start_time": "2024-05-02T07:13:27.413Z"
   },
   {
    "duration": 48,
    "start_time": "2024-05-02T07:14:01.471Z"
   },
   {
    "duration": 49,
    "start_time": "2024-05-02T07:14:16.108Z"
   },
   {
    "duration": 48,
    "start_time": "2024-05-02T07:15:14.572Z"
   },
   {
    "duration": 49,
    "start_time": "2024-05-02T07:15:17.819Z"
   },
   {
    "duration": 63,
    "start_time": "2024-05-02T07:15:19.868Z"
   },
   {
    "duration": 52,
    "start_time": "2024-05-02T07:15:23.868Z"
   },
   {
    "duration": 55,
    "start_time": "2024-05-02T07:15:25.123Z"
   },
   {
    "duration": 55,
    "start_time": "2024-05-02T07:15:27.812Z"
   },
   {
    "duration": 50,
    "start_time": "2024-05-02T07:15:31.316Z"
   },
   {
    "duration": 60,
    "start_time": "2024-05-02T07:16:16.659Z"
   },
   {
    "duration": 222,
    "start_time": "2024-05-02T08:07:19.332Z"
   },
   {
    "duration": 3,
    "start_time": "2024-05-02T08:07:19.556Z"
   },
   {
    "duration": 15,
    "start_time": "2024-05-02T08:07:19.561Z"
   },
   {
    "duration": 149,
    "start_time": "2024-05-02T08:07:19.577Z"
   },
   {
    "duration": 49,
    "start_time": "2024-05-02T08:07:19.728Z"
   },
   {
    "duration": 50,
    "start_time": "2024-05-02T08:07:19.779Z"
   },
   {
    "duration": 52,
    "start_time": "2024-05-02T08:07:19.831Z"
   },
   {
    "duration": 50,
    "start_time": "2024-05-02T08:07:19.884Z"
   },
   {
    "duration": 64,
    "start_time": "2024-05-02T08:07:19.936Z"
   },
   {
    "duration": 50,
    "start_time": "2024-05-02T08:07:20.001Z"
   },
   {
    "duration": 57,
    "start_time": "2024-05-02T08:07:20.052Z"
   },
   {
    "duration": 53,
    "start_time": "2024-05-02T08:07:20.110Z"
   },
   {
    "duration": 53,
    "start_time": "2024-05-02T08:07:20.165Z"
   },
   {
    "duration": 67,
    "start_time": "2024-05-02T08:47:16.056Z"
   },
   {
    "duration": 53,
    "start_time": "2024-05-02T08:48:38.470Z"
   },
   {
    "duration": 55,
    "start_time": "2024-05-02T08:49:48.972Z"
   },
   {
    "duration": 52,
    "start_time": "2024-05-02T08:50:17.906Z"
   },
   {
    "duration": 8175,
    "start_time": "2024-05-02T10:52:48.449Z"
   },
   {
    "duration": 5,
    "start_time": "2024-05-02T10:52:56.627Z"
   },
   {
    "duration": 52,
    "start_time": "2024-05-02T10:52:56.634Z"
   },
   {
    "duration": 59,
    "start_time": "2024-05-02T10:52:56.688Z"
   },
   {
    "duration": 10,
    "start_time": "2024-05-02T10:52:56.750Z"
   },
   {
    "duration": 25,
    "start_time": "2024-05-02T10:52:56.761Z"
   },
   {
    "duration": 36,
    "start_time": "2024-05-02T10:52:56.788Z"
   },
   {
    "duration": 28,
    "start_time": "2024-05-02T10:52:56.826Z"
   },
   {
    "duration": 89,
    "start_time": "2024-05-02T10:52:56.856Z"
   },
   {
    "duration": 12,
    "start_time": "2024-05-02T10:52:56.947Z"
   },
   {
    "duration": 34,
    "start_time": "2024-05-02T10:52:56.960Z"
   },
   {
    "duration": 51,
    "start_time": "2024-05-02T10:52:56.995Z"
   },
   {
    "duration": 37,
    "start_time": "2024-05-02T10:53:17.504Z"
   },
   {
    "duration": 42,
    "start_time": "2024-05-02T11:12:02.690Z"
   },
   {
    "duration": 5924,
    "start_time": "2024-05-02T11:12:14.146Z"
   },
   {
    "duration": 2,
    "start_time": "2024-05-02T11:12:20.072Z"
   },
   {
    "duration": 15,
    "start_time": "2024-05-02T11:12:20.075Z"
   },
   {
    "duration": 141,
    "start_time": "2024-05-02T11:12:20.091Z"
   },
   {
    "duration": 50,
    "start_time": "2024-05-02T11:12:20.234Z"
   },
   {
    "duration": 53,
    "start_time": "2024-05-02T11:12:20.286Z"
   },
   {
    "duration": 55,
    "start_time": "2024-05-02T11:12:20.341Z"
   },
   {
    "duration": 51,
    "start_time": "2024-05-02T11:12:20.397Z"
   },
   {
    "duration": 85,
    "start_time": "2024-05-02T11:12:20.449Z"
   },
   {
    "duration": 0,
    "start_time": "2024-05-02T11:12:20.535Z"
   },
   {
    "duration": 0,
    "start_time": "2024-05-02T11:12:20.536Z"
   },
   {
    "duration": 0,
    "start_time": "2024-05-02T11:12:20.537Z"
   },
   {
    "duration": 88,
    "start_time": "2024-05-02T11:12:53.319Z"
   },
   {
    "duration": 57,
    "start_time": "2024-05-02T11:14:05.173Z"
   },
   {
    "duration": 55,
    "start_time": "2024-05-02T11:14:09.981Z"
   },
   {
    "duration": 53,
    "start_time": "2024-05-02T11:14:19.316Z"
   },
   {
    "duration": 104,
    "start_time": "2024-05-02T11:18:51.510Z"
   },
   {
    "duration": 52,
    "start_time": "2024-05-02T11:19:25.597Z"
   },
   {
    "duration": 87,
    "start_time": "2024-05-02T11:20:14.286Z"
   },
   {
    "duration": 90,
    "start_time": "2024-05-02T11:20:35.419Z"
   },
   {
    "duration": 85,
    "start_time": "2024-05-02T11:21:16.907Z"
   },
   {
    "duration": 51,
    "start_time": "2024-05-02T11:23:31.918Z"
   },
   {
    "duration": 57,
    "start_time": "2024-05-02T11:27:03.827Z"
   },
   {
    "duration": 58,
    "start_time": "2024-05-02T11:27:29.514Z"
   },
   {
    "duration": 60,
    "start_time": "2024-05-02T11:31:30.940Z"
   },
   {
    "duration": 62,
    "start_time": "2024-05-02T11:31:52.980Z"
   },
   {
    "duration": 61,
    "start_time": "2024-05-02T11:41:06.087Z"
   },
   {
    "duration": 64,
    "start_time": "2024-05-02T11:41:15.213Z"
   },
   {
    "duration": 53,
    "start_time": "2024-05-02T11:41:30.262Z"
   },
   {
    "duration": 59,
    "start_time": "2024-05-02T11:59:53.916Z"
   },
   {
    "duration": 60,
    "start_time": "2024-05-02T12:01:22.746Z"
   },
   {
    "duration": 61,
    "start_time": "2024-05-02T12:02:21.728Z"
   },
   {
    "duration": 86,
    "start_time": "2024-05-02T12:02:41.296Z"
   },
   {
    "duration": 60,
    "start_time": "2024-05-02T12:04:20.693Z"
   },
   {
    "duration": 59,
    "start_time": "2024-05-02T12:04:33.773Z"
   },
   {
    "duration": 61,
    "start_time": "2024-05-02T12:05:00.580Z"
   },
   {
    "duration": 62,
    "start_time": "2024-05-02T12:05:26.212Z"
   },
   {
    "duration": 60,
    "start_time": "2024-05-02T12:05:32.788Z"
   },
   {
    "duration": 59,
    "start_time": "2024-05-02T12:06:09.378Z"
   },
   {
    "duration": 60,
    "start_time": "2024-05-02T12:06:38.906Z"
   },
   {
    "duration": 57,
    "start_time": "2024-05-02T12:08:33.064Z"
   },
   {
    "duration": 7828,
    "start_time": "2024-05-02T13:43:22.216Z"
   },
   {
    "duration": 3,
    "start_time": "2024-05-02T13:43:30.047Z"
   },
   {
    "duration": 27,
    "start_time": "2024-05-02T13:43:30.051Z"
   },
   {
    "duration": 77,
    "start_time": "2024-05-02T13:43:30.080Z"
   },
   {
    "duration": 26,
    "start_time": "2024-05-02T13:43:30.159Z"
   },
   {
    "duration": 43,
    "start_time": "2024-05-02T13:43:30.186Z"
   },
   {
    "duration": 23,
    "start_time": "2024-05-02T13:43:30.230Z"
   },
   {
    "duration": 19,
    "start_time": "2024-05-02T13:43:30.255Z"
   },
   {
    "duration": 38,
    "start_time": "2024-05-02T13:43:30.276Z"
   },
   {
    "duration": 55,
    "start_time": "2024-05-02T13:43:30.315Z"
   },
   {
    "duration": 62,
    "start_time": "2024-05-02T13:43:30.372Z"
   },
   {
    "duration": 33,
    "start_time": "2024-05-02T13:43:30.436Z"
   },
   {
    "duration": 66,
    "start_time": "2024-05-02T13:43:30.471Z"
   },
   {
    "duration": 36,
    "start_time": "2024-05-02T13:43:30.539Z"
   },
   {
    "duration": 17,
    "start_time": "2024-05-02T13:43:53.372Z"
   },
   {
    "duration": 18,
    "start_time": "2024-05-02T13:44:14.538Z"
   },
   {
    "duration": 87,
    "start_time": "2024-05-02T13:49:41.901Z"
   },
   {
    "duration": 17,
    "start_time": "2024-05-02T13:50:07.461Z"
   },
   {
    "duration": 17,
    "start_time": "2024-05-02T13:50:30.076Z"
   },
   {
    "duration": 17,
    "start_time": "2024-05-02T13:52:41.944Z"
   },
   {
    "duration": 18,
    "start_time": "2024-05-02T13:52:51.167Z"
   },
   {
    "duration": 19,
    "start_time": "2024-05-02T13:56:10.048Z"
   },
   {
    "duration": 18,
    "start_time": "2024-05-02T13:57:17.709Z"
   },
   {
    "duration": 26,
    "start_time": "2024-05-02T13:58:49.731Z"
   },
   {
    "duration": 29,
    "start_time": "2024-05-02T14:02:47.342Z"
   },
   {
    "duration": 16,
    "start_time": "2024-05-02T14:03:40.947Z"
   },
   {
    "duration": 18,
    "start_time": "2024-05-02T14:04:09.657Z"
   },
   {
    "duration": 19,
    "start_time": "2024-05-02T14:04:27.322Z"
   },
   {
    "duration": 19,
    "start_time": "2024-05-02T14:04:35.937Z"
   },
   {
    "duration": 24,
    "start_time": "2024-05-02T14:05:23.065Z"
   },
   {
    "duration": 23,
    "start_time": "2024-05-02T14:07:35.429Z"
   },
   {
    "duration": 21,
    "start_time": "2024-05-02T14:07:51.427Z"
   },
   {
    "duration": 21,
    "start_time": "2024-05-02T14:07:57.196Z"
   },
   {
    "duration": 17,
    "start_time": "2024-05-02T14:09:57.353Z"
   },
   {
    "duration": 18,
    "start_time": "2024-05-02T14:09:59.625Z"
   },
   {
    "duration": 22,
    "start_time": "2024-05-02T14:10:02.840Z"
   },
   {
    "duration": 53,
    "start_time": "2024-05-02T14:11:16.202Z"
   },
   {
    "duration": 3,
    "start_time": "2024-05-02T14:11:16.257Z"
   },
   {
    "duration": 18,
    "start_time": "2024-05-02T14:11:16.261Z"
   },
   {
    "duration": 46,
    "start_time": "2024-05-02T14:11:16.280Z"
   },
   {
    "duration": 10,
    "start_time": "2024-05-02T14:11:16.328Z"
   },
   {
    "duration": 18,
    "start_time": "2024-05-02T14:11:16.340Z"
   },
   {
    "duration": 17,
    "start_time": "2024-05-02T14:11:16.360Z"
   },
   {
    "duration": 10,
    "start_time": "2024-05-02T14:11:16.378Z"
   },
   {
    "duration": 9,
    "start_time": "2024-05-02T14:11:16.389Z"
   },
   {
    "duration": 17,
    "start_time": "2024-05-02T14:11:16.400Z"
   },
   {
    "duration": 26,
    "start_time": "2024-05-02T14:11:16.418Z"
   },
   {
    "duration": 25,
    "start_time": "2024-05-02T14:11:16.445Z"
   },
   {
    "duration": 20,
    "start_time": "2024-05-02T14:11:16.471Z"
   },
   {
    "duration": 14,
    "start_time": "2024-05-02T14:11:16.493Z"
   },
   {
    "duration": 13,
    "start_time": "2024-05-02T14:11:16.508Z"
   }
  ],
  "kernelspec": {
   "display_name": "Python 3 (ipykernel)",
   "language": "python",
   "name": "python3"
  },
  "language_info": {
   "codemirror_mode": {
    "name": "ipython",
    "version": 3
   },
   "file_extension": ".py",
   "mimetype": "text/x-python",
   "name": "python",
   "nbconvert_exporter": "python",
   "pygments_lexer": "ipython3",
   "version": "3.9.5"
  },
  "toc": {
   "base_numbering": 1,
   "nav_menu": {},
   "number_sections": true,
   "sideBar": true,
   "skip_h1_title": true,
   "title_cell": "Table of Contents",
   "title_sidebar": "Contents",
   "toc_cell": false,
   "toc_position": {},
   "toc_section_display": true,
   "toc_window_display": true
  }
 },
 "nbformat": 4,
 "nbformat_minor": 2
}
