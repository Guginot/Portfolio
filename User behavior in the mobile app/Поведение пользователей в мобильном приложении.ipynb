{
 "cells": [
  {
   "cell_type": "markdown",
   "metadata": {},
   "source": [
    "# Проект: Поведение пользователей в мобильном приложении, где продаются подукты"
   ]
  },
  {
   "cell_type": "markdown",
   "metadata": {},
   "source": [
    "Цель исследования: изучение результатов а/а/б тестирования. \n",
    "\n",
    "В начале ознакомимся с данными и проверим их на ошибки, пропуски, дубликаты. Исправим их и приведем к виду, который требуется для более детального изучения данных и для дальнейшего использования. \n",
    "\n",
    "Затем изучим данные более детально: за какой период они нам доступны. Выберем корректный период. Изучим более детально группы теста. \n",
    "\n",
    "Затем построим пользовательскую воронку и изучим, сколько пользователей переходят на следующий шаг. \n",
    "\n",
    "Проведем статистические тесты а/а для групп 246 и 247. Зафиксируем результат. Выявим причины. Затем проведем тест в/б для групп 246, 247 и 248. Затем посмотрим, различаются ли в сумму 246 и 247 от контрольной группы. Зафиксируем результат. Выявим причины. Сравним результаты. Сделаем выводы продолжать ли тест или нет."
   ]
  },
  {
   "cell_type": "markdown",
   "metadata": {},
   "source": [
    "## Подготовка данных"
   ]
  },
  {
   "cell_type": "code",
   "execution_count": 82,
   "metadata": {},
   "outputs": [],
   "source": [
    "import pandas as pd\n",
    "import datetime as dt\n",
    "import numpy as np\n",
    "import matplotlib.pyplot as plt\n",
    "from pandas.plotting import register_matplotlib_converters\n",
    "import warnings\n",
    "import scipy.stats as stats\n",
    "import math as mth\n",
    "from scipy import stats as st\n",
    "import plotly.express as px\n",
    "import plotly.graph_objects as go\n"
   ]
  },
  {
   "cell_type": "code",
   "execution_count": 83,
   "metadata": {},
   "outputs": [],
   "source": [
    "data = pd.read_csv('/datasets/logs_exp.csv')"
   ]
  },
  {
   "cell_type": "code",
   "execution_count": 84,
   "metadata": {},
   "outputs": [
    {
     "data": {
      "text/html": [
       "<div>\n",
       "<style scoped>\n",
       "    .dataframe tbody tr th:only-of-type {\n",
       "        vertical-align: middle;\n",
       "    }\n",
       "\n",
       "    .dataframe tbody tr th {\n",
       "        vertical-align: top;\n",
       "    }\n",
       "\n",
       "    .dataframe thead th {\n",
       "        text-align: right;\n",
       "    }\n",
       "</style>\n",
       "<table border=\"1\" class=\"dataframe\">\n",
       "  <thead>\n",
       "    <tr style=\"text-align: right;\">\n",
       "      <th></th>\n",
       "      <th>EventName\\tDeviceIDHash\\tEventTimestamp\\tExpId</th>\n",
       "    </tr>\n",
       "  </thead>\n",
       "  <tbody>\n",
       "    <tr>\n",
       "      <th>0</th>\n",
       "      <td>MainScreenAppear\\t4575588528974610257\\t1564029...</td>\n",
       "    </tr>\n",
       "    <tr>\n",
       "      <th>1</th>\n",
       "      <td>MainScreenAppear\\t7416695313311560658\\t1564053...</td>\n",
       "    </tr>\n",
       "    <tr>\n",
       "      <th>2</th>\n",
       "      <td>PaymentScreenSuccessful\\t3518123091307005509\\t...</td>\n",
       "    </tr>\n",
       "    <tr>\n",
       "      <th>3</th>\n",
       "      <td>CartScreenAppear\\t3518123091307005509\\t1564054...</td>\n",
       "    </tr>\n",
       "    <tr>\n",
       "      <th>4</th>\n",
       "      <td>PaymentScreenSuccessful\\t6217807653094995999\\t...</td>\n",
       "    </tr>\n",
       "  </tbody>\n",
       "</table>\n",
       "</div>"
      ],
      "text/plain": [
       "      EventName\\tDeviceIDHash\\tEventTimestamp\\tExpId\n",
       "0  MainScreenAppear\\t4575588528974610257\\t1564029...\n",
       "1  MainScreenAppear\\t7416695313311560658\\t1564053...\n",
       "2  PaymentScreenSuccessful\\t3518123091307005509\\t...\n",
       "3  CartScreenAppear\\t3518123091307005509\\t1564054...\n",
       "4  PaymentScreenSuccessful\\t6217807653094995999\\t..."
      ]
     },
     "execution_count": 84,
     "metadata": {},
     "output_type": "execute_result"
    }
   ],
   "source": [
    "data.head()"
   ]
  },
  {
   "cell_type": "code",
   "execution_count": 85,
   "metadata": {},
   "outputs": [],
   "source": [
    "data = pd.read_csv('/datasets/logs_exp.csv', sep='\\t')"
   ]
  },
  {
   "cell_type": "code",
   "execution_count": 86,
   "metadata": {},
   "outputs": [
    {
     "data": {
      "text/html": [
       "<div>\n",
       "<style scoped>\n",
       "    .dataframe tbody tr th:only-of-type {\n",
       "        vertical-align: middle;\n",
       "    }\n",
       "\n",
       "    .dataframe tbody tr th {\n",
       "        vertical-align: top;\n",
       "    }\n",
       "\n",
       "    .dataframe thead th {\n",
       "        text-align: right;\n",
       "    }\n",
       "</style>\n",
       "<table border=\"1\" class=\"dataframe\">\n",
       "  <thead>\n",
       "    <tr style=\"text-align: right;\">\n",
       "      <th></th>\n",
       "      <th>EventName</th>\n",
       "      <th>DeviceIDHash</th>\n",
       "      <th>EventTimestamp</th>\n",
       "      <th>ExpId</th>\n",
       "    </tr>\n",
       "  </thead>\n",
       "  <tbody>\n",
       "    <tr>\n",
       "      <th>0</th>\n",
       "      <td>MainScreenAppear</td>\n",
       "      <td>4575588528974610257</td>\n",
       "      <td>1564029816</td>\n",
       "      <td>246</td>\n",
       "    </tr>\n",
       "    <tr>\n",
       "      <th>1</th>\n",
       "      <td>MainScreenAppear</td>\n",
       "      <td>7416695313311560658</td>\n",
       "      <td>1564053102</td>\n",
       "      <td>246</td>\n",
       "    </tr>\n",
       "    <tr>\n",
       "      <th>2</th>\n",
       "      <td>PaymentScreenSuccessful</td>\n",
       "      <td>3518123091307005509</td>\n",
       "      <td>1564054127</td>\n",
       "      <td>248</td>\n",
       "    </tr>\n",
       "    <tr>\n",
       "      <th>3</th>\n",
       "      <td>CartScreenAppear</td>\n",
       "      <td>3518123091307005509</td>\n",
       "      <td>1564054127</td>\n",
       "      <td>248</td>\n",
       "    </tr>\n",
       "    <tr>\n",
       "      <th>4</th>\n",
       "      <td>PaymentScreenSuccessful</td>\n",
       "      <td>6217807653094995999</td>\n",
       "      <td>1564055322</td>\n",
       "      <td>248</td>\n",
       "    </tr>\n",
       "  </tbody>\n",
       "</table>\n",
       "</div>"
      ],
      "text/plain": [
       "                 EventName         DeviceIDHash  EventTimestamp  ExpId\n",
       "0         MainScreenAppear  4575588528974610257      1564029816    246\n",
       "1         MainScreenAppear  7416695313311560658      1564053102    246\n",
       "2  PaymentScreenSuccessful  3518123091307005509      1564054127    248\n",
       "3         CartScreenAppear  3518123091307005509      1564054127    248\n",
       "4  PaymentScreenSuccessful  6217807653094995999      1564055322    248"
      ]
     },
     "execution_count": 86,
     "metadata": {},
     "output_type": "execute_result"
    }
   ],
   "source": [
    "data.head()"
   ]
  },
  {
   "cell_type": "code",
   "execution_count": 87,
   "metadata": {},
   "outputs": [
    {
     "name": "stdout",
     "output_type": "stream",
     "text": [
      "<class 'pandas.core.frame.DataFrame'>\n",
      "RangeIndex: 244126 entries, 0 to 244125\n",
      "Data columns (total 4 columns):\n",
      " #   Column          Non-Null Count   Dtype \n",
      "---  ------          --------------   ----- \n",
      " 0   EventName       244126 non-null  object\n",
      " 1   DeviceIDHash    244126 non-null  int64 \n",
      " 2   EventTimestamp  244126 non-null  int64 \n",
      " 3   ExpId           244126 non-null  int64 \n",
      "dtypes: int64(3), object(1)\n",
      "memory usage: 7.5+ MB\n"
     ]
    }
   ],
   "source": [
    "data.info()"
   ]
  },
  {
   "cell_type": "code",
   "execution_count": 88,
   "metadata": {},
   "outputs": [],
   "source": [
    "data.rename(columns=str.lower, inplace=True)"
   ]
  },
  {
   "cell_type": "code",
   "execution_count": 89,
   "metadata": {},
   "outputs": [
    {
     "data": {
      "text/html": [
       "<div>\n",
       "<style scoped>\n",
       "    .dataframe tbody tr th:only-of-type {\n",
       "        vertical-align: middle;\n",
       "    }\n",
       "\n",
       "    .dataframe tbody tr th {\n",
       "        vertical-align: top;\n",
       "    }\n",
       "\n",
       "    .dataframe thead th {\n",
       "        text-align: right;\n",
       "    }\n",
       "</style>\n",
       "<table border=\"1\" class=\"dataframe\">\n",
       "  <thead>\n",
       "    <tr style=\"text-align: right;\">\n",
       "      <th></th>\n",
       "      <th>eventname</th>\n",
       "      <th>deviceidhash</th>\n",
       "      <th>eventtimestamp</th>\n",
       "      <th>expid</th>\n",
       "    </tr>\n",
       "  </thead>\n",
       "  <tbody>\n",
       "    <tr>\n",
       "      <th>0</th>\n",
       "      <td>MainScreenAppear</td>\n",
       "      <td>4575588528974610257</td>\n",
       "      <td>1564029816</td>\n",
       "      <td>246</td>\n",
       "    </tr>\n",
       "    <tr>\n",
       "      <th>1</th>\n",
       "      <td>MainScreenAppear</td>\n",
       "      <td>7416695313311560658</td>\n",
       "      <td>1564053102</td>\n",
       "      <td>246</td>\n",
       "    </tr>\n",
       "    <tr>\n",
       "      <th>2</th>\n",
       "      <td>PaymentScreenSuccessful</td>\n",
       "      <td>3518123091307005509</td>\n",
       "      <td>1564054127</td>\n",
       "      <td>248</td>\n",
       "    </tr>\n",
       "    <tr>\n",
       "      <th>3</th>\n",
       "      <td>CartScreenAppear</td>\n",
       "      <td>3518123091307005509</td>\n",
       "      <td>1564054127</td>\n",
       "      <td>248</td>\n",
       "    </tr>\n",
       "    <tr>\n",
       "      <th>4</th>\n",
       "      <td>PaymentScreenSuccessful</td>\n",
       "      <td>6217807653094995999</td>\n",
       "      <td>1564055322</td>\n",
       "      <td>248</td>\n",
       "    </tr>\n",
       "  </tbody>\n",
       "</table>\n",
       "</div>"
      ],
      "text/plain": [
       "                 eventname         deviceidhash  eventtimestamp  expid\n",
       "0         MainScreenAppear  4575588528974610257      1564029816    246\n",
       "1         MainScreenAppear  7416695313311560658      1564053102    246\n",
       "2  PaymentScreenSuccessful  3518123091307005509      1564054127    248\n",
       "3         CartScreenAppear  3518123091307005509      1564054127    248\n",
       "4  PaymentScreenSuccessful  6217807653094995999      1564055322    248"
      ]
     },
     "execution_count": 89,
     "metadata": {},
     "output_type": "execute_result"
    }
   ],
   "source": [
    "data.head()"
   ]
  },
  {
   "cell_type": "code",
   "execution_count": 90,
   "metadata": {},
   "outputs": [
    {
     "data": {
      "text/plain": [
       "eventname         0\n",
       "deviceidhash      0\n",
       "eventtimestamp    0\n",
       "expid             0\n",
       "dtype: int64"
      ]
     },
     "execution_count": 90,
     "metadata": {},
     "output_type": "execute_result"
    }
   ],
   "source": [
    "data.isnull().sum()"
   ]
  },
  {
   "cell_type": "code",
   "execution_count": 91,
   "metadata": {},
   "outputs": [
    {
     "data": {
      "text/plain": [
       "413"
      ]
     },
     "execution_count": 91,
     "metadata": {},
     "output_type": "execute_result"
    }
   ],
   "source": [
    "data.duplicated().sum()"
   ]
  },
  {
   "cell_type": "markdown",
   "metadata": {},
   "source": [
    "Дубликаты составляют меньше процента, поэтому их можно удалить. "
   ]
  },
  {
   "cell_type": "code",
   "execution_count": 92,
   "metadata": {},
   "outputs": [],
   "source": [
    "data.drop_duplicates(inplace=True)"
   ]
  },
  {
   "cell_type": "code",
   "execution_count": 93,
   "metadata": {},
   "outputs": [
    {
     "data": {
      "text/plain": [
       "0"
      ]
     },
     "execution_count": 93,
     "metadata": {},
     "output_type": "execute_result"
    }
   ],
   "source": [
    "data.duplicated().sum()"
   ]
  },
  {
   "cell_type": "code",
   "execution_count": 94,
   "metadata": {},
   "outputs": [
    {
     "name": "stdout",
     "output_type": "stream",
     "text": [
      "<class 'pandas.core.frame.DataFrame'>\n",
      "Int64Index: 243713 entries, 0 to 244125\n",
      "Data columns (total 4 columns):\n",
      " #   Column          Non-Null Count   Dtype \n",
      "---  ------          --------------   ----- \n",
      " 0   eventname       243713 non-null  object\n",
      " 1   deviceidhash    243713 non-null  int64 \n",
      " 2   eventtimestamp  243713 non-null  int64 \n",
      " 3   expid           243713 non-null  int64 \n",
      "dtypes: int64(3), object(1)\n",
      "memory usage: 9.3+ MB\n"
     ]
    }
   ],
   "source": [
    "data.info()"
   ]
  },
  {
   "cell_type": "code",
   "execution_count": 95,
   "metadata": {},
   "outputs": [],
   "source": [
    "data['eventtimestamp'] = pd.to_datetime(data['eventtimestamp'] , utc = True, unit = 's')"
   ]
  },
  {
   "cell_type": "code",
   "execution_count": 96,
   "metadata": {},
   "outputs": [
    {
     "data": {
      "text/html": [
       "<div>\n",
       "<style scoped>\n",
       "    .dataframe tbody tr th:only-of-type {\n",
       "        vertical-align: middle;\n",
       "    }\n",
       "\n",
       "    .dataframe tbody tr th {\n",
       "        vertical-align: top;\n",
       "    }\n",
       "\n",
       "    .dataframe thead th {\n",
       "        text-align: right;\n",
       "    }\n",
       "</style>\n",
       "<table border=\"1\" class=\"dataframe\">\n",
       "  <thead>\n",
       "    <tr style=\"text-align: right;\">\n",
       "      <th></th>\n",
       "      <th>eventname</th>\n",
       "      <th>deviceidhash</th>\n",
       "      <th>eventtimestamp</th>\n",
       "      <th>expid</th>\n",
       "    </tr>\n",
       "  </thead>\n",
       "  <tbody>\n",
       "    <tr>\n",
       "      <th>0</th>\n",
       "      <td>MainScreenAppear</td>\n",
       "      <td>4575588528974610257</td>\n",
       "      <td>2019-07-25 04:43:36+00:00</td>\n",
       "      <td>246</td>\n",
       "    </tr>\n",
       "    <tr>\n",
       "      <th>1</th>\n",
       "      <td>MainScreenAppear</td>\n",
       "      <td>7416695313311560658</td>\n",
       "      <td>2019-07-25 11:11:42+00:00</td>\n",
       "      <td>246</td>\n",
       "    </tr>\n",
       "    <tr>\n",
       "      <th>2</th>\n",
       "      <td>PaymentScreenSuccessful</td>\n",
       "      <td>3518123091307005509</td>\n",
       "      <td>2019-07-25 11:28:47+00:00</td>\n",
       "      <td>248</td>\n",
       "    </tr>\n",
       "    <tr>\n",
       "      <th>3</th>\n",
       "      <td>CartScreenAppear</td>\n",
       "      <td>3518123091307005509</td>\n",
       "      <td>2019-07-25 11:28:47+00:00</td>\n",
       "      <td>248</td>\n",
       "    </tr>\n",
       "    <tr>\n",
       "      <th>4</th>\n",
       "      <td>PaymentScreenSuccessful</td>\n",
       "      <td>6217807653094995999</td>\n",
       "      <td>2019-07-25 11:48:42+00:00</td>\n",
       "      <td>248</td>\n",
       "    </tr>\n",
       "  </tbody>\n",
       "</table>\n",
       "</div>"
      ],
      "text/plain": [
       "                 eventname         deviceidhash            eventtimestamp  \\\n",
       "0         MainScreenAppear  4575588528974610257 2019-07-25 04:43:36+00:00   \n",
       "1         MainScreenAppear  7416695313311560658 2019-07-25 11:11:42+00:00   \n",
       "2  PaymentScreenSuccessful  3518123091307005509 2019-07-25 11:28:47+00:00   \n",
       "3         CartScreenAppear  3518123091307005509 2019-07-25 11:28:47+00:00   \n",
       "4  PaymentScreenSuccessful  6217807653094995999 2019-07-25 11:48:42+00:00   \n",
       "\n",
       "   expid  \n",
       "0    246  \n",
       "1    246  \n",
       "2    248  \n",
       "3    248  \n",
       "4    248  "
      ]
     },
     "execution_count": 96,
     "metadata": {},
     "output_type": "execute_result"
    }
   ],
   "source": [
    "data.head()"
   ]
  },
  {
   "cell_type": "code",
   "execution_count": 97,
   "metadata": {},
   "outputs": [],
   "source": [
    "data['date'] = data['eventtimestamp'].dt.date"
   ]
  },
  {
   "cell_type": "code",
   "execution_count": 98,
   "metadata": {},
   "outputs": [
    {
     "data": {
      "text/html": [
       "<div>\n",
       "<style scoped>\n",
       "    .dataframe tbody tr th:only-of-type {\n",
       "        vertical-align: middle;\n",
       "    }\n",
       "\n",
       "    .dataframe tbody tr th {\n",
       "        vertical-align: top;\n",
       "    }\n",
       "\n",
       "    .dataframe thead th {\n",
       "        text-align: right;\n",
       "    }\n",
       "</style>\n",
       "<table border=\"1\" class=\"dataframe\">\n",
       "  <thead>\n",
       "    <tr style=\"text-align: right;\">\n",
       "      <th></th>\n",
       "      <th>eventname</th>\n",
       "      <th>deviceidhash</th>\n",
       "      <th>eventtimestamp</th>\n",
       "      <th>expid</th>\n",
       "      <th>date</th>\n",
       "    </tr>\n",
       "  </thead>\n",
       "  <tbody>\n",
       "    <tr>\n",
       "      <th>0</th>\n",
       "      <td>MainScreenAppear</td>\n",
       "      <td>4575588528974610257</td>\n",
       "      <td>2019-07-25 04:43:36+00:00</td>\n",
       "      <td>246</td>\n",
       "      <td>2019-07-25</td>\n",
       "    </tr>\n",
       "    <tr>\n",
       "      <th>1</th>\n",
       "      <td>MainScreenAppear</td>\n",
       "      <td>7416695313311560658</td>\n",
       "      <td>2019-07-25 11:11:42+00:00</td>\n",
       "      <td>246</td>\n",
       "      <td>2019-07-25</td>\n",
       "    </tr>\n",
       "    <tr>\n",
       "      <th>2</th>\n",
       "      <td>PaymentScreenSuccessful</td>\n",
       "      <td>3518123091307005509</td>\n",
       "      <td>2019-07-25 11:28:47+00:00</td>\n",
       "      <td>248</td>\n",
       "      <td>2019-07-25</td>\n",
       "    </tr>\n",
       "    <tr>\n",
       "      <th>3</th>\n",
       "      <td>CartScreenAppear</td>\n",
       "      <td>3518123091307005509</td>\n",
       "      <td>2019-07-25 11:28:47+00:00</td>\n",
       "      <td>248</td>\n",
       "      <td>2019-07-25</td>\n",
       "    </tr>\n",
       "    <tr>\n",
       "      <th>4</th>\n",
       "      <td>PaymentScreenSuccessful</td>\n",
       "      <td>6217807653094995999</td>\n",
       "      <td>2019-07-25 11:48:42+00:00</td>\n",
       "      <td>248</td>\n",
       "      <td>2019-07-25</td>\n",
       "    </tr>\n",
       "  </tbody>\n",
       "</table>\n",
       "</div>"
      ],
      "text/plain": [
       "                 eventname         deviceidhash            eventtimestamp  \\\n",
       "0         MainScreenAppear  4575588528974610257 2019-07-25 04:43:36+00:00   \n",
       "1         MainScreenAppear  7416695313311560658 2019-07-25 11:11:42+00:00   \n",
       "2  PaymentScreenSuccessful  3518123091307005509 2019-07-25 11:28:47+00:00   \n",
       "3         CartScreenAppear  3518123091307005509 2019-07-25 11:28:47+00:00   \n",
       "4  PaymentScreenSuccessful  6217807653094995999 2019-07-25 11:48:42+00:00   \n",
       "\n",
       "   expid        date  \n",
       "0    246  2019-07-25  \n",
       "1    246  2019-07-25  \n",
       "2    248  2019-07-25  \n",
       "3    248  2019-07-25  \n",
       "4    248  2019-07-25  "
      ]
     },
     "execution_count": 98,
     "metadata": {},
     "output_type": "execute_result"
    }
   ],
   "source": [
    "data.head()"
   ]
  },
  {
   "cell_type": "markdown",
   "metadata": {},
   "source": [
    "Данные проверены на ошибки. Названия столбцов приведены к нижнему регистру для удобства В таблицах отсутствуют пропуски. Были удалены дубликаты, которых было совсем немного. В данных были приведены к нужному типу данных. Также был создан дополнительны столбец только с датой для дальнейшей сортировки данных по датам. "
   ]
  },
  {
   "cell_type": "markdown",
   "metadata": {},
   "source": [
    "# Изучение и проверка данных"
   ]
  },
  {
   "cell_type": "markdown",
   "metadata": {},
   "source": [
    "Посчитаем, сколько всего событий у нас зафиксировано в данных."
   ]
  },
  {
   "cell_type": "code",
   "execution_count": 99,
   "metadata": {},
   "outputs": [
    {
     "data": {
      "text/plain": [
       "243713"
      ]
     },
     "execution_count": 99,
     "metadata": {},
     "output_type": "execute_result"
    }
   ],
   "source": [
    "data['eventname'].count()"
   ]
  },
  {
   "cell_type": "markdown",
   "metadata": {},
   "source": [
    "Сколько всего пользователей в логе."
   ]
  },
  {
   "cell_type": "code",
   "execution_count": 100,
   "metadata": {},
   "outputs": [
    {
     "data": {
      "text/plain": [
       "7551"
      ]
     },
     "execution_count": 100,
     "metadata": {},
     "output_type": "execute_result"
    }
   ],
   "source": [
    "len(data['deviceidhash'].unique())"
   ]
  },
  {
   "cell_type": "code",
   "execution_count": 101,
   "metadata": {},
   "outputs": [
    {
     "data": {
      "text/plain": [
       "32.28"
      ]
     },
     "execution_count": 101,
     "metadata": {},
     "output_type": "execute_result"
    }
   ],
   "source": [
    "round(data['eventname'].count() / len(data['deviceidhash'].unique()), 2)"
   ]
  },
  {
   "cell_type": "markdown",
   "metadata": {},
   "source": [
    "Каждый пользователей совершает примерно 32 события. \n",
    "\n",
    "Узнаем за какой период нам доступны данные."
   ]
  },
  {
   "cell_type": "code",
   "execution_count": 102,
   "metadata": {},
   "outputs": [
    {
     "data": {
      "text/plain": [
       "datetime.date(2019, 7, 25)"
      ]
     },
     "execution_count": 102,
     "metadata": {},
     "output_type": "execute_result"
    }
   ],
   "source": [
    "data['date'].min()"
   ]
  },
  {
   "cell_type": "code",
   "execution_count": 103,
   "metadata": {},
   "outputs": [
    {
     "data": {
      "text/plain": [
       "datetime.date(2019, 8, 7)"
      ]
     },
     "execution_count": 103,
     "metadata": {},
     "output_type": "execute_result"
    }
   ],
   "source": [
    "data['date'].max()"
   ]
  },
  {
   "cell_type": "code",
   "execution_count": 104,
   "metadata": {},
   "outputs": [
    {
     "data": {
      "image/png": "[encoded data removed]",
      "text/plain": [
       "<Figure size 1440x720 with 1 Axes>"
      ]
     },
     "metadata": {
      "needs_background": "light"
     },
     "output_type": "display_data"
    }
   ],
   "source": [
    "(\n",
    "data.groupby(['date', 'expid'])['eventname'].count().unstack().plot(kind='bar', \n",
    "stacked=True, color=['blue', 'red', 'yellow'], figsize=(20, 10))\n",
    ")\n",
    "\n",
    "plt.xlabel('Дата')\n",
    "plt.ylabel('Количество событий')\n",
    "plt.title('Количество событий в зависимости от времени в разрезе групп')\n",
    "plt.legend(title='Группы пользователей')\n",
    "\n",
    "plt.show()\n"
   ]
  },
  {
   "cell_type": "markdown",
   "metadata": {},
   "source": [
    "Построив график по дням мы видим сильную разницу в количестве событий по датам. Такая разница не может сформироваться по естественным причинам. Данные по 07.31 не полные. Следует изучать данные с 01.08. Полные данные у нас по группам остались ровно за неделю с 01.08 по 08.07. "
   ]
  },
  {
   "cell_type": "code",
   "execution_count": 105,
   "metadata": {},
   "outputs": [
    {
     "data": {
      "text/html": [
       "<div>\n",
       "<style scoped>\n",
       "    .dataframe tbody tr th:only-of-type {\n",
       "        vertical-align: middle;\n",
       "    }\n",
       "\n",
       "    .dataframe tbody tr th {\n",
       "        vertical-align: top;\n",
       "    }\n",
       "\n",
       "    .dataframe thead th {\n",
       "        text-align: right;\n",
       "    }\n",
       "</style>\n",
       "<table border=\"1\" class=\"dataframe\">\n",
       "  <thead>\n",
       "    <tr style=\"text-align: right;\">\n",
       "      <th></th>\n",
       "      <th>eventname</th>\n",
       "      <th>deviceidhash</th>\n",
       "      <th>eventtimestamp</th>\n",
       "      <th>expid</th>\n",
       "      <th>date</th>\n",
       "    </tr>\n",
       "  </thead>\n",
       "  <tbody>\n",
       "    <tr>\n",
       "      <th>2828</th>\n",
       "      <td>Tutorial</td>\n",
       "      <td>3737462046622621720</td>\n",
       "      <td>2019-08-01 00:07:28+00:00</td>\n",
       "      <td>246</td>\n",
       "      <td>2019-08-01</td>\n",
       "    </tr>\n",
       "    <tr>\n",
       "      <th>2829</th>\n",
       "      <td>MainScreenAppear</td>\n",
       "      <td>3737462046622621720</td>\n",
       "      <td>2019-08-01 00:08:00+00:00</td>\n",
       "      <td>246</td>\n",
       "      <td>2019-08-01</td>\n",
       "    </tr>\n",
       "    <tr>\n",
       "      <th>2830</th>\n",
       "      <td>MainScreenAppear</td>\n",
       "      <td>3737462046622621720</td>\n",
       "      <td>2019-08-01 00:08:55+00:00</td>\n",
       "      <td>246</td>\n",
       "      <td>2019-08-01</td>\n",
       "    </tr>\n",
       "    <tr>\n",
       "      <th>2831</th>\n",
       "      <td>OffersScreenAppear</td>\n",
       "      <td>3737462046622621720</td>\n",
       "      <td>2019-08-01 00:08:58+00:00</td>\n",
       "      <td>246</td>\n",
       "      <td>2019-08-01</td>\n",
       "    </tr>\n",
       "    <tr>\n",
       "      <th>2832</th>\n",
       "      <td>MainScreenAppear</td>\n",
       "      <td>1433840883824088890</td>\n",
       "      <td>2019-08-01 00:08:59+00:00</td>\n",
       "      <td>247</td>\n",
       "      <td>2019-08-01</td>\n",
       "    </tr>\n",
       "  </tbody>\n",
       "</table>\n",
       "</div>"
      ],
      "text/plain": [
       "               eventname         deviceidhash            eventtimestamp  \\\n",
       "2828            Tutorial  3737462046622621720 2019-08-01 00:07:28+00:00   \n",
       "2829    MainScreenAppear  3737462046622621720 2019-08-01 00:08:00+00:00   \n",
       "2830    MainScreenAppear  3737462046622621720 2019-08-01 00:08:55+00:00   \n",
       "2831  OffersScreenAppear  3737462046622621720 2019-08-01 00:08:58+00:00   \n",
       "2832    MainScreenAppear  1433840883824088890 2019-08-01 00:08:59+00:00   \n",
       "\n",
       "      expid        date  \n",
       "2828    246  2019-08-01  \n",
       "2829    246  2019-08-01  \n",
       "2830    246  2019-08-01  \n",
       "2831    246  2019-08-01  \n",
       "2832    247  2019-08-01  "
      ]
     },
     "execution_count": 105,
     "metadata": {},
     "output_type": "execute_result"
    }
   ],
   "source": [
    "data = data[data['date'] > dt.date(2019, 7, 31)]\n",
    "data.head()"
   ]
  },
  {
   "cell_type": "code",
   "execution_count": 106,
   "metadata": {},
   "outputs": [
    {
     "name": "stdout",
     "output_type": "stream",
     "text": [
      "2019-08-01\n",
      "2019-08-07\n"
     ]
    }
   ],
   "source": [
    "print(data['date'].min())\n",
    "print(data['date'].max())"
   ]
  },
  {
   "cell_type": "code",
   "execution_count": 107,
   "metadata": {},
   "outputs": [
    {
     "data": {
      "text/plain": [
       "7534"
      ]
     },
     "execution_count": 107,
     "metadata": {},
     "output_type": "execute_result"
    }
   ],
   "source": [
    "len(data['deviceidhash'].unique())"
   ]
  },
  {
   "cell_type": "code",
   "execution_count": 108,
   "metadata": {},
   "outputs": [
    {
     "data": {
      "text/plain": [
       "240887"
      ]
     },
     "execution_count": 108,
     "metadata": {},
     "output_type": "execute_result"
    }
   ],
   "source": [
    "data['eventname'].count()"
   ]
  },
  {
   "cell_type": "code",
   "execution_count": 109,
   "metadata": {},
   "outputs": [
    {
     "data": {
      "text/plain": [
       "31.97"
      ]
     },
     "execution_count": 109,
     "metadata": {},
     "output_type": "execute_result"
    }
   ],
   "source": [
    "round(data['eventname'].count() / len(data['deviceidhash'].unique()), 2)"
   ]
  },
  {
   "cell_type": "markdown",
   "metadata": {},
   "source": [
    "Обрезав таблицу, по датам с неполными данными, мы видим, что количество событий и пользователей практически не изменилось. В среднем получилось также 32 события на пользователя. "
   ]
  },
  {
   "cell_type": "code",
   "execution_count": 110,
   "metadata": {},
   "outputs": [
    {
     "data": {
      "text/plain": [
       "expid\n",
       "246    79302\n",
       "247    77022\n",
       "248    84563\n",
       "Name: deviceidhash, dtype: int64"
      ]
     },
     "execution_count": 110,
     "metadata": {},
     "output_type": "execute_result"
    }
   ],
   "source": [
    "data.groupby(['expid'])['deviceidhash'].count()"
   ]
  },
  {
   "cell_type": "markdown",
   "metadata": {},
   "source": [
    "Мы видим, что события во всех трех группах присутствуют и имеют не значительную разницу. Можно выделить, что в группе б больше событий чем в других. Посмотрим, отразилось ли это как-то на пользователях. "
   ]
  },
  {
   "cell_type": "code",
   "execution_count": 111,
   "metadata": {},
   "outputs": [
    {
     "data": {
      "text/plain": [
       "expid\n",
       "246    2484\n",
       "247    2513\n",
       "248    2537\n",
       "Name: deviceidhash, dtype: int64"
      ]
     },
     "execution_count": 111,
     "metadata": {},
     "output_type": "execute_result"
    }
   ],
   "source": [
    "data.groupby('expid')['deviceidhash'].nunique()"
   ]
  },
  {
   "cell_type": "markdown",
   "metadata": {},
   "source": [
    "Мы видим, что пользователи всех трех групп также никуда не пропали, после того, как мы обрезали данные. Количество пользователей в группах различное, но насколько это различие существенно, узнаем с помощью тестов. "
   ]
  },
  {
   "cell_type": "code",
   "execution_count": 112,
   "metadata": {},
   "outputs": [
    {
     "name": "stdout",
     "output_type": "stream",
     "text": [
      "expid    0\n",
      "dtype: int64\n"
     ]
    }
   ],
   "source": [
    "print(data.groupby('deviceidhash').agg({'expid' : 'nunique'}).query('expid>1').count())"
   ]
  },
  {
   "cell_type": "markdown",
   "metadata": {},
   "source": [
    "В тесте у нас присутствует группы 246, 247 и 248. 2 группы для а/а теста, последня экспериментальная б соответственно. Были представлены данные с 25.07.19 по 07.08.19. Мы обрезали данные, так как по 07.31. Это не повлияло значительно на группы и сами данные. Были обнаружены неполные данные за несколько первых дней.  Пресечение покупателей в группах тоже проверили, их нет."
   ]
  },
  {
   "cell_type": "markdown",
   "metadata": {},
   "source": [
    "# Воронка событий"
   ]
  },
  {
   "cell_type": "markdown",
   "metadata": {},
   "source": [
    "Рассмотрим какие события выстраиваются в воронку. "
   ]
  },
  {
   "cell_type": "code",
   "execution_count": 113,
   "metadata": {},
   "outputs": [
    {
     "data": {
      "text/plain": [
       "array(['Tutorial', 'MainScreenAppear', 'OffersScreenAppear',\n",
       "       'CartScreenAppear', 'PaymentScreenSuccessful'], dtype=object)"
      ]
     },
     "execution_count": 113,
     "metadata": {},
     "output_type": "execute_result"
    }
   ],
   "source": [
    "data['eventname'].unique()"
   ]
  },
  {
   "cell_type": "code",
   "execution_count": 114,
   "metadata": {},
   "outputs": [
    {
     "name": "stdout",
     "output_type": "stream",
     "text": [
      "                   eventname\n",
      "deviceidhash                \n",
      "9841258664663090           5\n",
      "29094035245869447          5\n",
      "77364241990273403          5\n",
      "84107839139059565          5\n",
      "89078601045475920          5\n"
     ]
    }
   ],
   "source": [
    "print(data.groupby('deviceidhash').agg({'eventname' : 'nunique'}).query('eventname>4').head())"
   ]
  },
  {
   "cell_type": "code",
   "execution_count": 115,
   "metadata": {},
   "outputs": [
    {
     "data": {
      "text/html": [
       "<div>\n",
       "<style scoped>\n",
       "    .dataframe tbody tr th:only-of-type {\n",
       "        vertical-align: middle;\n",
       "    }\n",
       "\n",
       "    .dataframe tbody tr th {\n",
       "        vertical-align: top;\n",
       "    }\n",
       "\n",
       "    .dataframe thead th {\n",
       "        text-align: right;\n",
       "    }\n",
       "</style>\n",
       "<table border=\"1\" class=\"dataframe\">\n",
       "  <thead>\n",
       "    <tr style=\"text-align: right;\">\n",
       "      <th></th>\n",
       "      <th>eventname</th>\n",
       "      <th>deviceidhash</th>\n",
       "      <th>eventtimestamp</th>\n",
       "      <th>expid</th>\n",
       "      <th>date</th>\n",
       "    </tr>\n",
       "  </thead>\n",
       "  <tbody>\n",
       "    <tr>\n",
       "      <th>86464</th>\n",
       "      <td>Tutorial</td>\n",
       "      <td>9841258664663090</td>\n",
       "      <td>2019-08-03 10:47:28+00:00</td>\n",
       "      <td>248</td>\n",
       "      <td>2019-08-03</td>\n",
       "    </tr>\n",
       "    <tr>\n",
       "      <th>86487</th>\n",
       "      <td>MainScreenAppear</td>\n",
       "      <td>9841258664663090</td>\n",
       "      <td>2019-08-03 10:47:59+00:00</td>\n",
       "      <td>248</td>\n",
       "      <td>2019-08-03</td>\n",
       "    </tr>\n",
       "    <tr>\n",
       "      <th>86539</th>\n",
       "      <td>OffersScreenAppear</td>\n",
       "      <td>9841258664663090</td>\n",
       "      <td>2019-08-03 10:49:42+00:00</td>\n",
       "      <td>248</td>\n",
       "      <td>2019-08-03</td>\n",
       "    </tr>\n",
       "    <tr>\n",
       "      <th>86636</th>\n",
       "      <td>CartScreenAppear</td>\n",
       "      <td>9841258664663090</td>\n",
       "      <td>2019-08-03 10:52:15+00:00</td>\n",
       "      <td>248</td>\n",
       "      <td>2019-08-03</td>\n",
       "    </tr>\n",
       "    <tr>\n",
       "      <th>88013</th>\n",
       "      <td>MainScreenAppear</td>\n",
       "      <td>9841258664663090</td>\n",
       "      <td>2019-08-03 11:22:54+00:00</td>\n",
       "      <td>248</td>\n",
       "      <td>2019-08-03</td>\n",
       "    </tr>\n",
       "    <tr>\n",
       "      <th>88046</th>\n",
       "      <td>MainScreenAppear</td>\n",
       "      <td>9841258664663090</td>\n",
       "      <td>2019-08-03 11:23:54+00:00</td>\n",
       "      <td>248</td>\n",
       "      <td>2019-08-03</td>\n",
       "    </tr>\n",
       "    <tr>\n",
       "      <th>88143</th>\n",
       "      <td>MainScreenAppear</td>\n",
       "      <td>9841258664663090</td>\n",
       "      <td>2019-08-03 11:25:38+00:00</td>\n",
       "      <td>248</td>\n",
       "      <td>2019-08-03</td>\n",
       "    </tr>\n",
       "    <tr>\n",
       "      <th>88152</th>\n",
       "      <td>OffersScreenAppear</td>\n",
       "      <td>9841258664663090</td>\n",
       "      <td>2019-08-03 11:25:47+00:00</td>\n",
       "      <td>248</td>\n",
       "      <td>2019-08-03</td>\n",
       "    </tr>\n",
       "    <tr>\n",
       "      <th>88296</th>\n",
       "      <td>OffersScreenAppear</td>\n",
       "      <td>9841258664663090</td>\n",
       "      <td>2019-08-03 11:27:38+00:00</td>\n",
       "      <td>248</td>\n",
       "      <td>2019-08-03</td>\n",
       "    </tr>\n",
       "    <tr>\n",
       "      <th>88309</th>\n",
       "      <td>OffersScreenAppear</td>\n",
       "      <td>9841258664663090</td>\n",
       "      <td>2019-08-03 11:27:51+00:00</td>\n",
       "      <td>248</td>\n",
       "      <td>2019-08-03</td>\n",
       "    </tr>\n",
       "    <tr>\n",
       "      <th>88349</th>\n",
       "      <td>OffersScreenAppear</td>\n",
       "      <td>9841258664663090</td>\n",
       "      <td>2019-08-03 11:28:21+00:00</td>\n",
       "      <td>248</td>\n",
       "      <td>2019-08-03</td>\n",
       "    </tr>\n",
       "    <tr>\n",
       "      <th>103065</th>\n",
       "      <td>MainScreenAppear</td>\n",
       "      <td>9841258664663090</td>\n",
       "      <td>2019-08-03 17:56:58+00:00</td>\n",
       "      <td>248</td>\n",
       "      <td>2019-08-03</td>\n",
       "    </tr>\n",
       "    <tr>\n",
       "      <th>103067</th>\n",
       "      <td>CartScreenAppear</td>\n",
       "      <td>9841258664663090</td>\n",
       "      <td>2019-08-03 17:57:05+00:00</td>\n",
       "      <td>248</td>\n",
       "      <td>2019-08-03</td>\n",
       "    </tr>\n",
       "    <tr>\n",
       "      <th>103071</th>\n",
       "      <td>MainScreenAppear</td>\n",
       "      <td>9841258664663090</td>\n",
       "      <td>2019-08-03 17:57:06+00:00</td>\n",
       "      <td>248</td>\n",
       "      <td>2019-08-03</td>\n",
       "    </tr>\n",
       "    <tr>\n",
       "      <th>103078</th>\n",
       "      <td>OffersScreenAppear</td>\n",
       "      <td>9841258664663090</td>\n",
       "      <td>2019-08-03 17:57:14+00:00</td>\n",
       "      <td>248</td>\n",
       "      <td>2019-08-03</td>\n",
       "    </tr>\n",
       "    <tr>\n",
       "      <th>103087</th>\n",
       "      <td>PaymentScreenSuccessful</td>\n",
       "      <td>9841258664663090</td>\n",
       "      <td>2019-08-03 17:57:27+00:00</td>\n",
       "      <td>248</td>\n",
       "      <td>2019-08-03</td>\n",
       "    </tr>\n",
       "    <tr>\n",
       "      <th>103088</th>\n",
       "      <td>CartScreenAppear</td>\n",
       "      <td>9841258664663090</td>\n",
       "      <td>2019-08-03 17:57:29+00:00</td>\n",
       "      <td>248</td>\n",
       "      <td>2019-08-03</td>\n",
       "    </tr>\n",
       "    <tr>\n",
       "      <th>103115</th>\n",
       "      <td>CartScreenAppear</td>\n",
       "      <td>9841258664663090</td>\n",
       "      <td>2019-08-03 17:58:07+00:00</td>\n",
       "      <td>248</td>\n",
       "      <td>2019-08-03</td>\n",
       "    </tr>\n",
       "    <tr>\n",
       "      <th>103201</th>\n",
       "      <td>MainScreenAppear</td>\n",
       "      <td>9841258664663090</td>\n",
       "      <td>2019-08-03 17:59:55+00:00</td>\n",
       "      <td>248</td>\n",
       "      <td>2019-08-03</td>\n",
       "    </tr>\n",
       "    <tr>\n",
       "      <th>103206</th>\n",
       "      <td>OffersScreenAppear</td>\n",
       "      <td>9841258664663090</td>\n",
       "      <td>2019-08-03 18:00:04+00:00</td>\n",
       "      <td>248</td>\n",
       "      <td>2019-08-03</td>\n",
       "    </tr>\n",
       "    <tr>\n",
       "      <th>103228</th>\n",
       "      <td>CartScreenAppear</td>\n",
       "      <td>9841258664663090</td>\n",
       "      <td>2019-08-03 18:00:38+00:00</td>\n",
       "      <td>248</td>\n",
       "      <td>2019-08-03</td>\n",
       "    </tr>\n",
       "    <tr>\n",
       "      <th>103237</th>\n",
       "      <td>CartScreenAppear</td>\n",
       "      <td>9841258664663090</td>\n",
       "      <td>2019-08-03 18:00:51+00:00</td>\n",
       "      <td>248</td>\n",
       "      <td>2019-08-03</td>\n",
       "    </tr>\n",
       "    <tr>\n",
       "      <th>103348</th>\n",
       "      <td>CartScreenAppear</td>\n",
       "      <td>9841258664663090</td>\n",
       "      <td>2019-08-03 18:03:30+00:00</td>\n",
       "      <td>248</td>\n",
       "      <td>2019-08-03</td>\n",
       "    </tr>\n",
       "    <tr>\n",
       "      <th>196705</th>\n",
       "      <td>MainScreenAppear</td>\n",
       "      <td>9841258664663090</td>\n",
       "      <td>2019-08-06 13:57:41+00:00</td>\n",
       "      <td>248</td>\n",
       "      <td>2019-08-06</td>\n",
       "    </tr>\n",
       "    <tr>\n",
       "      <th>235072</th>\n",
       "      <td>MainScreenAppear</td>\n",
       "      <td>9841258664663090</td>\n",
       "      <td>2019-08-07 15:48:32+00:00</td>\n",
       "      <td>248</td>\n",
       "      <td>2019-08-07</td>\n",
       "    </tr>\n",
       "    <tr>\n",
       "      <th>235073</th>\n",
       "      <td>PaymentScreenSuccessful</td>\n",
       "      <td>9841258664663090</td>\n",
       "      <td>2019-08-07 15:48:35+00:00</td>\n",
       "      <td>248</td>\n",
       "      <td>2019-08-07</td>\n",
       "    </tr>\n",
       "    <tr>\n",
       "      <th>235074</th>\n",
       "      <td>MainScreenAppear</td>\n",
       "      <td>9841258664663090</td>\n",
       "      <td>2019-08-07 15:48:35+00:00</td>\n",
       "      <td>248</td>\n",
       "      <td>2019-08-07</td>\n",
       "    </tr>\n",
       "    <tr>\n",
       "      <th>235075</th>\n",
       "      <td>CartScreenAppear</td>\n",
       "      <td>9841258664663090</td>\n",
       "      <td>2019-08-07 15:48:35+00:00</td>\n",
       "      <td>248</td>\n",
       "      <td>2019-08-07</td>\n",
       "    </tr>\n",
       "    <tr>\n",
       "      <th>235081</th>\n",
       "      <td>OffersScreenAppear</td>\n",
       "      <td>9841258664663090</td>\n",
       "      <td>2019-08-07 15:48:47+00:00</td>\n",
       "      <td>248</td>\n",
       "      <td>2019-08-07</td>\n",
       "    </tr>\n",
       "  </tbody>\n",
       "</table>\n",
       "</div>"
      ],
      "text/plain": [
       "                      eventname      deviceidhash            eventtimestamp  \\\n",
       "86464                  Tutorial  9841258664663090 2019-08-03 10:47:28+00:00   \n",
       "86487          MainScreenAppear  9841258664663090 2019-08-03 10:47:59+00:00   \n",
       "86539        OffersScreenAppear  9841258664663090 2019-08-03 10:49:42+00:00   \n",
       "86636          CartScreenAppear  9841258664663090 2019-08-03 10:52:15+00:00   \n",
       "88013          MainScreenAppear  9841258664663090 2019-08-03 11:22:54+00:00   \n",
       "88046          MainScreenAppear  9841258664663090 2019-08-03 11:23:54+00:00   \n",
       "88143          MainScreenAppear  9841258664663090 2019-08-03 11:25:38+00:00   \n",
       "88152        OffersScreenAppear  9841258664663090 2019-08-03 11:25:47+00:00   \n",
       "88296        OffersScreenAppear  9841258664663090 2019-08-03 11:27:38+00:00   \n",
       "88309        OffersScreenAppear  9841258664663090 2019-08-03 11:27:51+00:00   \n",
       "88349        OffersScreenAppear  9841258664663090 2019-08-03 11:28:21+00:00   \n",
       "103065         MainScreenAppear  9841258664663090 2019-08-03 17:56:58+00:00   \n",
       "103067         CartScreenAppear  9841258664663090 2019-08-03 17:57:05+00:00   \n",
       "103071         MainScreenAppear  9841258664663090 2019-08-03 17:57:06+00:00   \n",
       "103078       OffersScreenAppear  9841258664663090 2019-08-03 17:57:14+00:00   \n",
       "103087  PaymentScreenSuccessful  9841258664663090 2019-08-03 17:57:27+00:00   \n",
       "103088         CartScreenAppear  9841258664663090 2019-08-03 17:57:29+00:00   \n",
       "103115         CartScreenAppear  9841258664663090 2019-08-03 17:58:07+00:00   \n",
       "103201         MainScreenAppear  9841258664663090 2019-08-03 17:59:55+00:00   \n",
       "103206       OffersScreenAppear  9841258664663090 2019-08-03 18:00:04+00:00   \n",
       "103228         CartScreenAppear  9841258664663090 2019-08-03 18:00:38+00:00   \n",
       "103237         CartScreenAppear  9841258664663090 2019-08-03 18:00:51+00:00   \n",
       "103348         CartScreenAppear  9841258664663090 2019-08-03 18:03:30+00:00   \n",
       "196705         MainScreenAppear  9841258664663090 2019-08-06 13:57:41+00:00   \n",
       "235072         MainScreenAppear  9841258664663090 2019-08-07 15:48:32+00:00   \n",
       "235073  PaymentScreenSuccessful  9841258664663090 2019-08-07 15:48:35+00:00   \n",
       "235074         MainScreenAppear  9841258664663090 2019-08-07 15:48:35+00:00   \n",
       "235075         CartScreenAppear  9841258664663090 2019-08-07 15:48:35+00:00   \n",
       "235081       OffersScreenAppear  9841258664663090 2019-08-07 15:48:47+00:00   \n",
       "\n",
       "        expid        date  \n",
       "86464     248  2019-08-03  \n",
       "86487     248  2019-08-03  \n",
       "86539     248  2019-08-03  \n",
       "86636     248  2019-08-03  \n",
       "88013     248  2019-08-03  \n",
       "88046     248  2019-08-03  \n",
       "88143     248  2019-08-03  \n",
       "88152     248  2019-08-03  \n",
       "88296     248  2019-08-03  \n",
       "88309     248  2019-08-03  \n",
       "88349     248  2019-08-03  \n",
       "103065    248  2019-08-03  \n",
       "103067    248  2019-08-03  \n",
       "103071    248  2019-08-03  \n",
       "103078    248  2019-08-03  \n",
       "103087    248  2019-08-03  \n",
       "103088    248  2019-08-03  \n",
       "103115    248  2019-08-03  \n",
       "103201    248  2019-08-03  \n",
       "103206    248  2019-08-03  \n",
       "103228    248  2019-08-03  \n",
       "103237    248  2019-08-03  \n",
       "103348    248  2019-08-03  \n",
       "196705    248  2019-08-06  \n",
       "235072    248  2019-08-07  \n",
       "235073    248  2019-08-07  \n",
       "235074    248  2019-08-07  \n",
       "235075    248  2019-08-07  \n",
       "235081    248  2019-08-07  "
      ]
     },
     "execution_count": 115,
     "metadata": {},
     "output_type": "execute_result"
    }
   ],
   "source": [
    "data[data['deviceidhash'] == 9841258664663090].sort_values(by='eventtimestamp', ascending=True)"
   ]
  },
  {
   "cell_type": "code",
   "execution_count": 116,
   "metadata": {},
   "outputs": [
    {
     "data": {
      "text/plain": [
       "eventname\n",
       "MainScreenAppear           117328\n",
       "OffersScreenAppear          46333\n",
       "CartScreenAppear            42303\n",
       "PaymentScreenSuccessful     33918\n",
       "Tutorial                     1005\n",
       "Name: eventname, dtype: int64"
      ]
     },
     "execution_count": 116,
     "metadata": {},
     "output_type": "execute_result"
    }
   ],
   "source": [
    "data.groupby('eventname')['eventname'].count().sort_values(ascending=False)"
   ]
  },
  {
   "cell_type": "markdown",
   "metadata": {},
   "source": [
    "Первым идет событие захода пользователя на главный экран, затем открытие экрана с предложениями (с продуктами, товаром)(или акционные ?), затем добавление товара в корзину, затем успешная оплата. Каждое следующее событие выполняют меньшее количество раз. \n",
    "\n",
    "Не совсем понял что за последнее событие. Это может быть справка о покупке, подробное описание товара (состав продукта). Судя по количеству этих событий они в воронке не участвуют либо участвуют для более узкой группы, нежели у нас. Во всяком случае, это событие для нас не несет значения. "
   ]
  },
  {
   "cell_type": "code",
   "execution_count": 117,
   "metadata": {},
   "outputs": [
    {
     "data": {
      "text/plain": [
       "eventname\n",
       "MainScreenAppear           7419\n",
       "OffersScreenAppear         4593\n",
       "CartScreenAppear           3734\n",
       "PaymentScreenSuccessful    3539\n",
       "Tutorial                    840\n",
       "Name: deviceidhash, dtype: int64"
      ]
     },
     "execution_count": 117,
     "metadata": {},
     "output_type": "execute_result"
    }
   ],
   "source": [
    "data.groupby('eventname')['deviceidhash'].nunique().sort_values(ascending=False)\n"
   ]
  },
  {
   "cell_type": "code",
   "execution_count": 118,
   "metadata": {},
   "outputs": [
    {
     "data": {
      "text/plain": [
       "eventname\n",
       "MainScreenAppear           98.0\n",
       "OffersScreenAppear         61.0\n",
       "CartScreenAppear           50.0\n",
       "PaymentScreenSuccessful    47.0\n",
       "Tutorial                   11.0\n",
       "Name: deviceidhash, dtype: float64"
      ]
     },
     "execution_count": 118,
     "metadata": {},
     "output_type": "execute_result"
    }
   ],
   "source": [
    "round(\n",
    "    data.groupby('eventname')['deviceidhash'].nunique().sort_values(ascending=False)\n",
    "    / data['deviceidhash'].nunique() * 100\n",
    ")"
   ]
  },
  {
   "cell_type": "markdown",
   "metadata": {},
   "source": [
    "Порядок событий мы уже выявили ранее. Что интересно, что заход на главную страницу не составляет 100 %. Это свидетельствует о том, что пользователи могут попадать с рекламы минуя главную на продукт. Все остальное довольно закономерно. "
   ]
  },
  {
   "cell_type": "code",
   "execution_count": 119,
   "metadata": {},
   "outputs": [
    {
     "data": {
      "text/html": [
       "<div>\n",
       "<style scoped>\n",
       "    .dataframe tbody tr th:only-of-type {\n",
       "        vertical-align: middle;\n",
       "    }\n",
       "\n",
       "    .dataframe tbody tr th {\n",
       "        vertical-align: top;\n",
       "    }\n",
       "\n",
       "    .dataframe thead th {\n",
       "        text-align: right;\n",
       "    }\n",
       "</style>\n",
       "<table border=\"1\" class=\"dataframe\">\n",
       "  <thead>\n",
       "    <tr style=\"text-align: right;\">\n",
       "      <th></th>\n",
       "      <th>eventname</th>\n",
       "      <th>deviceidhash</th>\n",
       "    </tr>\n",
       "  </thead>\n",
       "  <tbody>\n",
       "    <tr>\n",
       "      <th>0</th>\n",
       "      <td>MainScreenAppear</td>\n",
       "      <td>7419</td>\n",
       "    </tr>\n",
       "    <tr>\n",
       "      <th>1</th>\n",
       "      <td>OffersScreenAppear</td>\n",
       "      <td>4593</td>\n",
       "    </tr>\n",
       "    <tr>\n",
       "      <th>2</th>\n",
       "      <td>CartScreenAppear</td>\n",
       "      <td>3734</td>\n",
       "    </tr>\n",
       "    <tr>\n",
       "      <th>3</th>\n",
       "      <td>PaymentScreenSuccessful</td>\n",
       "      <td>3539</td>\n",
       "    </tr>\n",
       "    <tr>\n",
       "      <th>4</th>\n",
       "      <td>Tutorial</td>\n",
       "      <td>840</td>\n",
       "    </tr>\n",
       "  </tbody>\n",
       "</table>\n",
       "</div>"
      ],
      "text/plain": [
       "                 eventname  deviceidhash\n",
       "0         MainScreenAppear          7419\n",
       "1       OffersScreenAppear          4593\n",
       "2         CartScreenAppear          3734\n",
       "3  PaymentScreenSuccessful          3539\n",
       "4                 Tutorial           840"
      ]
     },
     "execution_count": 119,
     "metadata": {},
     "output_type": "execute_result"
    }
   ],
   "source": [
    "eventname_data = data.groupby('eventname')['deviceidhash'].nunique().sort_values(ascending=False).reset_index()\n",
    "\n",
    "eventname_data.columns = ['eventname', 'deviceidhash']\n",
    "\n",
    "eventname_data"
   ]
  },
  {
   "cell_type": "code",
   "execution_count": 120,
   "metadata": {},
   "outputs": [
    {
     "data": {
      "text/plain": [
       "{0: 7419, 1: 4593, 2: 3734, 3: 3539, 4: 840}"
      ]
     },
     "execution_count": 120,
     "metadata": {},
     "output_type": "execute_result"
    }
   ],
   "source": [
    "eventname_data_ = eventname_data['deviceidhash'].to_dict()\n",
    "\n",
    "eventname_data_"
   ]
  },
  {
   "cell_type": "code",
   "execution_count": 121,
   "metadata": {},
   "outputs": [
    {
     "name": "stdout",
     "output_type": "stream",
     "text": [
      "OffersScreenAppear: 62\n",
      "CartScreenAppear: 81\n",
      "PaymentScreenSuccessful: 95\n"
     ]
    }
   ],
   "source": [
    "(\n",
    "print('OffersScreenAppear:', round(eventname_data_[1] /\n",
    "      eventname_data_[0] * 100\n",
    "     )))\n",
    "(\n",
    "print('CartScreenAppear:', round(eventname_data_[2] /\n",
    "      eventname_data_[1] * 100\n",
    "     )))\n",
    "(\n",
    "print('PaymentScreenSuccessful:', round(eventname_data_[3] /\n",
    "      eventname_data_[2] * 100\n",
    "     )))"
   ]
  },
  {
   "cell_type": "markdown",
   "metadata": {},
   "source": [
    "Больше всего потерь происходит на этапе перехода с главной страницы на карточку товара. То есть много клиентов, которым не подходит товар на этапе просмотра главной страницы. Более маленький процент потерь происходит с каждым следующим этапом. "
   ]
  },
  {
   "cell_type": "code",
   "execution_count": 122,
   "metadata": {},
   "outputs": [
    {
     "data": {
      "text/plain": [
       "48"
      ]
     },
     "execution_count": 122,
     "metadata": {},
     "output_type": "execute_result"
    }
   ],
   "source": [
    "round(eventname_data_[3]/eventname_data_[0] * 100)"
   ]
  },
  {
   "cell_type": "markdown",
   "metadata": {},
   "source": [
    "Всего до этапа покупки с этапа просмотра главной страницы доходит 48% пользователей. "
   ]
  },
  {
   "cell_type": "markdown",
   "metadata": {},
   "source": [
    "Мы рассмотрели события и увидели, что одно из 5 событий не встраивается в воронку. Это событие мы исключили. У нас получилась воронка главная страница - страница продукта - корзина - оплата. Всего пользователей, с первого шага на второй попадает 62%, со второго на третий 81%, с третьего на четвертый 95%. Всего пользователей с главной страницы доходят до оплаты 48%."
   ]
  },
  {
   "cell_type": "code",
   "execution_count": 123,
   "metadata": {},
   "outputs": [
    {
     "data": {
      "application/vnd.plotly.v1+json": {
       "config": {
        "plotlyServerURL": "https://plot.ly"
       },
       "data": [
        {
         "textinfo": "value+percent initial+percent previous",
         "type": "funnel",
         "x": [
          7419,
          4593,
          3734,
          3539
         ],
         "y": [
          "MainScreenAppear",
          "OffersScreenAppear",
          "CartScreenAppear",
          "PaymentScreenSuccessful"
         ]
        }
       ],
       "layout": {
        "template": {
         "data": {
          "bar": [
           {
            "error_x": {
             "color": "#2a3f5f"
            },
            "error_y": {
             "color": "#2a3f5f"
            },
            "marker": {
             "line": {
              "color": "#E5ECF6",
              "width": 0.5
             },
             "pattern": {
              "fillmode": "overlay",
              "size": 10,
              "solidity": 0.2
             }
            },
            "type": "bar"
           }
          ],
          "barpolar": [
           {
            "marker": {
             "line": {
              "color": "#E5ECF6",
              "width": 0.5
             },
             "pattern": {
              "fillmode": "overlay",
              "size": 10,
              "solidity": 0.2
             }
            },
            "type": "barpolar"
           }
          ],
          "carpet": [
           {
            "aaxis": {
             "endlinecolor": "#2a3f5f",
             "gridcolor": "white",
             "linecolor": "white",
             "minorgridcolor": "white",
             "startlinecolor": "#2a3f5f"
            },
            "baxis": {
             "endlinecolor": "#2a3f5f",
             "gridcolor": "white",
             "linecolor": "white",
             "minorgridcolor": "white",
             "startlinecolor": "#2a3f5f"
            },
            "type": "carpet"
           }
          ],
          "choropleth": [
           {
            "colorbar": {
             "outlinewidth": 0,
             "ticks": ""
            },
            "type": "choropleth"
           }
          ],
          "contour": [
           {
            "colorbar": {
             "outlinewidth": 0,
             "ticks": ""
            },
            "colorscale": [
             [
              0,
              "#0d0887"
             ],
             [
              0.1111111111111111,
              "#46039f"
             ],
             [
              0.2222222222222222,
              "#7201a8"
             ],
             [
              0.3333333333333333,
              "#9c179e"
             ],
             [
              0.4444444444444444,
              "#bd3786"
             ],
             [
              0.5555555555555556,
              "#d8576b"
             ],
             [
              0.6666666666666666,
              "#ed7953"
             ],
             [
              0.7777777777777778,
              "#fb9f3a"
             ],
             [
              0.8888888888888888,
              "#fdca26"
             ],
             [
              1,
              "#f0f921"
             ]
            ],
            "type": "contour"
           }
          ],
          "contourcarpet": [
           {
            "colorbar": {
             "outlinewidth": 0,
             "ticks": ""
            },
            "type": "contourcarpet"
           }
          ],
          "heatmap": [
           {
            "colorbar": {
             "outlinewidth": 0,
             "ticks": ""
            },
            "colorscale": [
             [
              0,
              "#0d0887"
             ],
             [
              0.1111111111111111,
              "#46039f"
             ],
             [
              0.2222222222222222,
              "#7201a8"
             ],
             [
              0.3333333333333333,
              "#9c179e"
             ],
             [
              0.4444444444444444,
              "#bd3786"
             ],
             [
              0.5555555555555556,
              "#d8576b"
             ],
             [
              0.6666666666666666,
              "#ed7953"
             ],
             [
              0.7777777777777778,
              "#fb9f3a"
             ],
             [
              0.8888888888888888,
              "#fdca26"
             ],
             [
              1,
              "#f0f921"
             ]
            ],
            "type": "heatmap"
           }
          ],
          "heatmapgl": [
           {
            "colorbar": {
             "outlinewidth": 0,
             "ticks": ""
            },
            "colorscale": [
             [
              0,
              "#0d0887"
             ],
             [
              0.1111111111111111,
              "#46039f"
             ],
             [
              0.2222222222222222,
              "#7201a8"
             ],
             [
              0.3333333333333333,
              "#9c179e"
             ],
             [
              0.4444444444444444,
              "#bd3786"
             ],
             [
              0.5555555555555556,
              "#d8576b"
             ],
             [
              0.6666666666666666,
              "#ed7953"
             ],
             [
              0.7777777777777778,
              "#fb9f3a"
             ],
             [
              0.8888888888888888,
              "#fdca26"
             ],
             [
              1,
              "#f0f921"
             ]
            ],
            "type": "heatmapgl"
           }
          ],
          "histogram": [
           {
            "marker": {
             "pattern": {
              "fillmode": "overlay",
              "size": 10,
              "solidity": 0.2
             }
            },
            "type": "histogram"
           }
          ],
          "histogram2d": [
           {
            "colorbar": {
             "outlinewidth": 0,
             "ticks": ""
            },
            "colorscale": [
             [
              0,
              "#0d0887"
             ],
             [
              0.1111111111111111,
              "#46039f"
             ],
             [
              0.2222222222222222,
              "#7201a8"
             ],
             [
              0.3333333333333333,
              "#9c179e"
             ],
             [
              0.4444444444444444,
              "#bd3786"
             ],
             [
              0.5555555555555556,
              "#d8576b"
             ],
             [
              0.6666666666666666,
              "#ed7953"
             ],
             [
              0.7777777777777778,
              "#fb9f3a"
             ],
             [
              0.8888888888888888,
              "#fdca26"
             ],
             [
              1,
              "#f0f921"
             ]
            ],
            "type": "histogram2d"
           }
          ],
          "histogram2dcontour": [
           {
            "colorbar": {
             "outlinewidth": 0,
             "ticks": ""
            },
            "colorscale": [
             [
              0,
              "#0d0887"
             ],
             [
              0.1111111111111111,
              "#46039f"
             ],
             [
              0.2222222222222222,
              "#7201a8"
             ],
             [
              0.3333333333333333,
              "#9c179e"
             ],
             [
              0.4444444444444444,
              "#bd3786"
             ],
             [
              0.5555555555555556,
              "#d8576b"
             ],
             [
              0.6666666666666666,
              "#ed7953"
             ],
             [
              0.7777777777777778,
              "#fb9f3a"
             ],
             [
              0.8888888888888888,
              "#fdca26"
             ],
             [
              1,
              "#f0f921"
             ]
            ],
            "type": "histogram2dcontour"
           }
          ],
          "mesh3d": [
           {
            "colorbar": {
             "outlinewidth": 0,
             "ticks": ""
            },
            "type": "mesh3d"
           }
          ],
          "parcoords": [
           {
            "line": {
             "colorbar": {
              "outlinewidth": 0,
              "ticks": ""
             }
            },
            "type": "parcoords"
           }
          ],
          "pie": [
           {
            "automargin": true,
            "type": "pie"
           }
          ],
          "scatter": [
           {
            "marker": {
             "colorbar": {
              "outlinewidth": 0,
              "ticks": ""
             }
            },
            "type": "scatter"
           }
          ],
          "scatter3d": [
           {
            "line": {
             "colorbar": {
              "outlinewidth": 0,
              "ticks": ""
             }
            },
            "marker": {
             "colorbar": {
              "outlinewidth": 0,
              "ticks": ""
             }
            },
            "type": "scatter3d"
           }
          ],
          "scattercarpet": [
           {
            "marker": {
             "colorbar": {
              "outlinewidth": 0,
              "ticks": ""
             }
            },
            "type": "scattercarpet"
           }
          ],
          "scattergeo": [
           {
            "marker": {
             "colorbar": {
              "outlinewidth": 0,
              "ticks": ""
             }
            },
            "type": "scattergeo"
           }
          ],
          "scattergl": [
           {
            "marker": {
             "colorbar": {
              "outlinewidth": 0,
              "ticks": ""
             }
            },
            "type": "scattergl"
           }
          ],
          "scattermapbox": [
           {
            "marker": {
             "colorbar": {
              "outlinewidth": 0,
              "ticks": ""
             }
            },
            "type": "scattermapbox"
           }
          ],
          "scatterpolar": [
           {
            "marker": {
             "colorbar": {
              "outlinewidth": 0,
              "ticks": ""
             }
            },
            "type": "scatterpolar"
           }
          ],
          "scatterpolargl": [
           {
            "marker": {
             "colorbar": {
              "outlinewidth": 0,
              "ticks": ""
             }
            },
            "type": "scatterpolargl"
           }
          ],
          "scatterternary": [
           {
            "marker": {
             "colorbar": {
              "outlinewidth": 0,
              "ticks": ""
             }
            },
            "type": "scatterternary"
           }
          ],
          "surface": [
           {
            "colorbar": {
             "outlinewidth": 0,
             "ticks": ""
            },
            "colorscale": [
             [
              0,
              "#0d0887"
             ],
             [
              0.1111111111111111,
              "#46039f"
             ],
             [
              0.2222222222222222,
              "#7201a8"
             ],
             [
              0.3333333333333333,
              "#9c179e"
             ],
             [
              0.4444444444444444,
              "#bd3786"
             ],
             [
              0.5555555555555556,
              "#d8576b"
             ],
             [
              0.6666666666666666,
              "#ed7953"
             ],
             [
              0.7777777777777778,
              "#fb9f3a"
             ],
             [
              0.8888888888888888,
              "#fdca26"
             ],
             [
              1,
              "#f0f921"
             ]
            ],
            "type": "surface"
           }
          ],
          "table": [
           {
            "cells": {
             "fill": {
              "color": "#EBF0F8"
             },
             "line": {
              "color": "white"
             }
            },
            "header": {
             "fill": {
              "color": "#C8D4E3"
             },
             "line": {
              "color": "white"
             }
            },
            "type": "table"
           }
          ]
         },
         "layout": {
          "annotationdefaults": {
           "arrowcolor": "#2a3f5f",
           "arrowhead": 0,
           "arrowwidth": 1
          },
          "autotypenumbers": "strict",
          "coloraxis": {
           "colorbar": {
            "outlinewidth": 0,
            "ticks": ""
           }
          },
          "colorscale": {
           "diverging": [
            [
             0,
             "#8e0152"
            ],
            [
             0.1,
             "#c51b7d"
            ],
            [
             0.2,
             "#de77ae"
            ],
            [
             0.3,
             "#f1b6da"
            ],
            [
             0.4,
             "#fde0ef"
            ],
            [
             0.5,
             "#f7f7f7"
            ],
            [
             0.6,
             "#e6f5d0"
            ],
            [
             0.7,
             "#b8e186"
            ],
            [
             0.8,
             "#7fbc41"
            ],
            [
             0.9,
             "#4d9221"
            ],
            [
             1,
             "#276419"
            ]
           ],
           "sequential": [
            [
             0,
             "#0d0887"
            ],
            [
             0.1111111111111111,
             "#46039f"
            ],
            [
             0.2222222222222222,
             "#7201a8"
            ],
            [
             0.3333333333333333,
             "#9c179e"
            ],
            [
             0.4444444444444444,
             "#bd3786"
            ],
            [
             0.5555555555555556,
             "#d8576b"
            ],
            [
             0.6666666666666666,
             "#ed7953"
            ],
            [
             0.7777777777777778,
             "#fb9f3a"
            ],
            [
             0.8888888888888888,
             "#fdca26"
            ],
            [
             1,
             "#f0f921"
            ]
           ],
           "sequentialminus": [
            [
             0,
             "#0d0887"
            ],
            [
             0.1111111111111111,
             "#46039f"
            ],
            [
             0.2222222222222222,
             "#7201a8"
            ],
            [
             0.3333333333333333,
             "#9c179e"
            ],
            [
             0.4444444444444444,
             "#bd3786"
            ],
            [
             0.5555555555555556,
             "#d8576b"
            ],
            [
             0.6666666666666666,
             "#ed7953"
            ],
            [
             0.7777777777777778,
             "#fb9f3a"
            ],
            [
             0.8888888888888888,
             "#fdca26"
            ],
            [
             1,
             "#f0f921"
            ]
           ]
          },
          "colorway": [
           "#636efa",
           "#EF553B",
           "#00cc96",
           "#ab63fa",
           "#FFA15A",
           "#19d3f3",
           "#FF6692",
           "#B6E880",
           "#FF97FF",
           "#FECB52"
          ],
          "font": {
           "color": "#2a3f5f"
          },
          "geo": {
           "bgcolor": "white",
           "lakecolor": "white",
           "landcolor": "#E5ECF6",
           "showlakes": true,
           "showland": true,
           "subunitcolor": "white"
          },
          "hoverlabel": {
           "align": "left"
          },
          "hovermode": "closest",
          "mapbox": {
           "style": "light"
          },
          "paper_bgcolor": "white",
          "plot_bgcolor": "#E5ECF6",
          "polar": {
           "angularaxis": {
            "gridcolor": "white",
            "linecolor": "white",
            "ticks": ""
           },
           "bgcolor": "#E5ECF6",
           "radialaxis": {
            "gridcolor": "white",
            "linecolor": "white",
            "ticks": ""
           }
          },
          "scene": {
           "xaxis": {
            "backgroundcolor": "#E5ECF6",
            "gridcolor": "white",
            "gridwidth": 2,
            "linecolor": "white",
            "showbackground": true,
            "ticks": "",
            "zerolinecolor": "white"
           },
           "yaxis": {
            "backgroundcolor": "#E5ECF6",
            "gridcolor": "white",
            "gridwidth": 2,
            "linecolor": "white",
            "showbackground": true,
            "ticks": "",
            "zerolinecolor": "white"
           },
           "zaxis": {
            "backgroundcolor": "#E5ECF6",
            "gridcolor": "white",
            "gridwidth": 2,
            "linecolor": "white",
            "showbackground": true,
            "ticks": "",
            "zerolinecolor": "white"
           }
          },
          "shapedefaults": {
           "line": {
            "color": "#2a3f5f"
           }
          },
          "ternary": {
           "aaxis": {
            "gridcolor": "white",
            "linecolor": "white",
            "ticks": ""
           },
           "baxis": {
            "gridcolor": "white",
            "linecolor": "white",
            "ticks": ""
           },
           "bgcolor": "#E5ECF6",
           "caxis": {
            "gridcolor": "white",
            "linecolor": "white",
            "ticks": ""
           }
          },
          "title": {
           "x": 0.05
          },
          "xaxis": {
           "automargin": true,
           "gridcolor": "white",
           "linecolor": "white",
           "ticks": "",
           "title": {
            "standoff": 15
           },
           "zerolinecolor": "white",
           "zerolinewidth": 2
          },
          "yaxis": {
           "automargin": true,
           "gridcolor": "white",
           "linecolor": "white",
           "ticks": "",
           "title": {
            "standoff": 15
           },
           "zerolinecolor": "white",
           "zerolinewidth": 2
          }
         }
        },
        "title": {
         "text": "Воронка событий"
        }
       }
      },
      "text/html": [
       "<div>                            <div id=\"04df0617-bfe3-4fb7-998c-821017c37cf9\" class=\"plotly-graph-div\" style=\"height:525px; width:100%;\"></div>            <script type=\"text/javascript\">                require([\"plotly\"], function(Plotly) {                    window.PLOTLYENV=window.PLOTLYENV || {};                                    if (document.getElementById(\"04df0617-bfe3-4fb7-998c-821017c37cf9\")) {                    Plotly.newPlot(                        \"04df0617-bfe3-4fb7-998c-821017c37cf9\",                        [{\"textinfo\":\"value+percent initial+percent previous\",\"x\":[7419,4593,3734,3539],\"y\":[\"MainScreenAppear\",\"OffersScreenAppear\",\"CartScreenAppear\",\"PaymentScreenSuccessful\"],\"type\":\"funnel\"}],                        {\"template\":{\"data\":{\"bar\":[{\"error_x\":{\"color\":\"#2a3f5f\"},\"error_y\":{\"color\":\"#2a3f5f\"},\"marker\":{\"line\":{\"color\":\"#E5ECF6\",\"width\":0.5},\"pattern\":{\"fillmode\":\"overlay\",\"size\":10,\"solidity\":0.2}},\"type\":\"bar\"}],\"barpolar\":[{\"marker\":{\"line\":{\"color\":\"#E5ECF6\",\"width\":0.5},\"pattern\":{\"fillmode\":\"overlay\",\"size\":10,\"solidity\":0.2}},\"type\":\"barpolar\"}],\"carpet\":[{\"aaxis\":{\"endlinecolor\":\"#2a3f5f\",\"gridcolor\":\"white\",\"linecolor\":\"white\",\"minorgridcolor\":\"white\",\"startlinecolor\":\"#2a3f5f\"},\"baxis\":{\"endlinecolor\":\"#2a3f5f\",\"gridcolor\":\"white\",\"linecolor\":\"white\",\"minorgridcolor\":\"white\",\"startlinecolor\":\"#2a3f5f\"},\"type\":\"carpet\"}],\"choropleth\":[{\"colorbar\":{\"outlinewidth\":0,\"ticks\":\"\"},\"type\":\"choropleth\"}],\"contour\":[{\"colorbar\":{\"outlinewidth\":0,\"ticks\":\"\"},\"colorscale\":[[0.0,\"#0d0887\"],[0.1111111111111111,\"#46039f\"],[0.2222222222222222,\"#7201a8\"],[0.3333333333333333,\"#9c179e\"],[0.4444444444444444,\"#bd3786\"],[0.5555555555555556,\"#d8576b\"],[0.6666666666666666,\"#ed7953\"],[0.7777777777777778,\"#fb9f3a\"],[0.8888888888888888,\"#fdca26\"],[1.0,\"#f0f921\"]],\"type\":\"contour\"}],\"contourcarpet\":[{\"colorbar\":{\"outlinewidth\":0,\"ticks\":\"\"},\"type\":\"contourcarpet\"}],\"heatmap\":[{\"colorbar\":{\"outlinewidth\":0,\"ticks\":\"\"},\"colorscale\":[[0.0,\"#0d0887\"],[0.1111111111111111,\"#46039f\"],[0.2222222222222222,\"#7201a8\"],[0.3333333333333333,\"#9c179e\"],[0.4444444444444444,\"#bd3786\"],[0.5555555555555556,\"#d8576b\"],[0.6666666666666666,\"#ed7953\"],[0.7777777777777778,\"#fb9f3a\"],[0.8888888888888888,\"#fdca26\"],[1.0,\"#f0f921\"]],\"type\":\"heatmap\"}],\"heatmapgl\":[{\"colorbar\":{\"outlinewidth\":0,\"ticks\":\"\"},\"colorscale\":[[0.0,\"#0d0887\"],[0.1111111111111111,\"#46039f\"],[0.2222222222222222,\"#7201a8\"],[0.3333333333333333,\"#9c179e\"],[0.4444444444444444,\"#bd3786\"],[0.5555555555555556,\"#d8576b\"],[0.6666666666666666,\"#ed7953\"],[0.7777777777777778,\"#fb9f3a\"],[0.8888888888888888,\"#fdca26\"],[1.0,\"#f0f921\"]],\"type\":\"heatmapgl\"}],\"histogram\":[{\"marker\":{\"pattern\":{\"fillmode\":\"overlay\",\"size\":10,\"solidity\":0.2}},\"type\":\"histogram\"}],\"histogram2d\":[{\"colorbar\":{\"outlinewidth\":0,\"ticks\":\"\"},\"colorscale\":[[0.0,\"#0d0887\"],[0.1111111111111111,\"#46039f\"],[0.2222222222222222,\"#7201a8\"],[0.3333333333333333,\"#9c179e\"],[0.4444444444444444,\"#bd3786\"],[0.5555555555555556,\"#d8576b\"],[0.6666666666666666,\"#ed7953\"],[0.7777777777777778,\"#fb9f3a\"],[0.8888888888888888,\"#fdca26\"],[1.0,\"#f0f921\"]],\"type\":\"histogram2d\"}],\"histogram2dcontour\":[{\"colorbar\":{\"outlinewidth\":0,\"ticks\":\"\"},\"colorscale\":[[0.0,\"#0d0887\"],[0.1111111111111111,\"#46039f\"],[0.2222222222222222,\"#7201a8\"],[0.3333333333333333,\"#9c179e\"],[0.4444444444444444,\"#bd3786\"],[0.5555555555555556,\"#d8576b\"],[0.6666666666666666,\"#ed7953\"],[0.7777777777777778,\"#fb9f3a\"],[0.8888888888888888,\"#fdca26\"],[1.0,\"#f0f921\"]],\"type\":\"histogram2dcontour\"}],\"mesh3d\":[{\"colorbar\":{\"outlinewidth\":0,\"ticks\":\"\"},\"type\":\"mesh3d\"}],\"parcoords\":[{\"line\":{\"colorbar\":{\"outlinewidth\":0,\"ticks\":\"\"}},\"type\":\"parcoords\"}],\"pie\":[{\"automargin\":true,\"type\":\"pie\"}],\"scatter\":[{\"marker\":{\"colorbar\":{\"outlinewidth\":0,\"ticks\":\"\"}},\"type\":\"scatter\"}],\"scatter3d\":[{\"line\":{\"colorbar\":{\"outlinewidth\":0,\"ticks\":\"\"}},\"marker\":{\"colorbar\":{\"outlinewidth\":0,\"ticks\":\"\"}},\"type\":\"scatter3d\"}],\"scattercarpet\":[{\"marker\":{\"colorbar\":{\"outlinewidth\":0,\"ticks\":\"\"}},\"type\":\"scattercarpet\"}],\"scattergeo\":[{\"marker\":{\"colorbar\":{\"outlinewidth\":0,\"ticks\":\"\"}},\"type\":\"scattergeo\"}],\"scattergl\":[{\"marker\":{\"colorbar\":{\"outlinewidth\":0,\"ticks\":\"\"}},\"type\":\"scattergl\"}],\"scattermapbox\":[{\"marker\":{\"colorbar\":{\"outlinewidth\":0,\"ticks\":\"\"}},\"type\":\"scattermapbox\"}],\"scatterpolar\":[{\"marker\":{\"colorbar\":{\"outlinewidth\":0,\"ticks\":\"\"}},\"type\":\"scatterpolar\"}],\"scatterpolargl\":[{\"marker\":{\"colorbar\":{\"outlinewidth\":0,\"ticks\":\"\"}},\"type\":\"scatterpolargl\"}],\"scatterternary\":[{\"marker\":{\"colorbar\":{\"outlinewidth\":0,\"ticks\":\"\"}},\"type\":\"scatterternary\"}],\"surface\":[{\"colorbar\":{\"outlinewidth\":0,\"ticks\":\"\"},\"colorscale\":[[0.0,\"#0d0887\"],[0.1111111111111111,\"#46039f\"],[0.2222222222222222,\"#7201a8\"],[0.3333333333333333,\"#9c179e\"],[0.4444444444444444,\"#bd3786\"],[0.5555555555555556,\"#d8576b\"],[0.6666666666666666,\"#ed7953\"],[0.7777777777777778,\"#fb9f3a\"],[0.8888888888888888,\"#fdca26\"],[1.0,\"#f0f921\"]],\"type\":\"surface\"}],\"table\":[{\"cells\":{\"fill\":{\"color\":\"#EBF0F8\"},\"line\":{\"color\":\"white\"}},\"header\":{\"fill\":{\"color\":\"#C8D4E3\"},\"line\":{\"color\":\"white\"}},\"type\":\"table\"}]},\"layout\":{\"annotationdefaults\":{\"arrowcolor\":\"#2a3f5f\",\"arrowhead\":0,\"arrowwidth\":1},\"autotypenumbers\":\"strict\",\"coloraxis\":{\"colorbar\":{\"outlinewidth\":0,\"ticks\":\"\"}},\"colorscale\":{\"diverging\":[[0,\"#8e0152\"],[0.1,\"#c51b7d\"],[0.2,\"#de77ae\"],[0.3,\"#f1b6da\"],[0.4,\"#fde0ef\"],[0.5,\"#f7f7f7\"],[0.6,\"#e6f5d0\"],[0.7,\"#b8e186\"],[0.8,\"#7fbc41\"],[0.9,\"#4d9221\"],[1,\"#276419\"]],\"sequential\":[[0.0,\"#0d0887\"],[0.1111111111111111,\"#46039f\"],[0.2222222222222222,\"#7201a8\"],[0.3333333333333333,\"#9c179e\"],[0.4444444444444444,\"#bd3786\"],[0.5555555555555556,\"#d8576b\"],[0.6666666666666666,\"#ed7953\"],[0.7777777777777778,\"#fb9f3a\"],[0.8888888888888888,\"#fdca26\"],[1.0,\"#f0f921\"]],\"sequentialminus\":[[0.0,\"#0d0887\"],[0.1111111111111111,\"#46039f\"],[0.2222222222222222,\"#7201a8\"],[0.3333333333333333,\"#9c179e\"],[0.4444444444444444,\"#bd3786\"],[0.5555555555555556,\"#d8576b\"],[0.6666666666666666,\"#ed7953\"],[0.7777777777777778,\"#fb9f3a\"],[0.8888888888888888,\"#fdca26\"],[1.0,\"#f0f921\"]]},\"colorway\":[\"#636efa\",\"#EF553B\",\"#00cc96\",\"#ab63fa\",\"#FFA15A\",\"#19d3f3\",\"#FF6692\",\"#B6E880\",\"#FF97FF\",\"#FECB52\"],\"font\":{\"color\":\"#2a3f5f\"},\"geo\":{\"bgcolor\":\"white\",\"lakecolor\":\"white\",\"landcolor\":\"#E5ECF6\",\"showlakes\":true,\"showland\":true,\"subunitcolor\":\"white\"},\"hoverlabel\":{\"align\":\"left\"},\"hovermode\":\"closest\",\"mapbox\":{\"style\":\"light\"},\"paper_bgcolor\":\"white\",\"plot_bgcolor\":\"#E5ECF6\",\"polar\":{\"angularaxis\":{\"gridcolor\":\"white\",\"linecolor\":\"white\",\"ticks\":\"\"},\"bgcolor\":\"#E5ECF6\",\"radialaxis\":{\"gridcolor\":\"white\",\"linecolor\":\"white\",\"ticks\":\"\"}},\"scene\":{\"xaxis\":{\"backgroundcolor\":\"#E5ECF6\",\"gridcolor\":\"white\",\"gridwidth\":2,\"linecolor\":\"white\",\"showbackground\":true,\"ticks\":\"\",\"zerolinecolor\":\"white\"},\"yaxis\":{\"backgroundcolor\":\"#E5ECF6\",\"gridcolor\":\"white\",\"gridwidth\":2,\"linecolor\":\"white\",\"showbackground\":true,\"ticks\":\"\",\"zerolinecolor\":\"white\"},\"zaxis\":{\"backgroundcolor\":\"#E5ECF6\",\"gridcolor\":\"white\",\"gridwidth\":2,\"linecolor\":\"white\",\"showbackground\":true,\"ticks\":\"\",\"zerolinecolor\":\"white\"}},\"shapedefaults\":{\"line\":{\"color\":\"#2a3f5f\"}},\"ternary\":{\"aaxis\":{\"gridcolor\":\"white\",\"linecolor\":\"white\",\"ticks\":\"\"},\"baxis\":{\"gridcolor\":\"white\",\"linecolor\":\"white\",\"ticks\":\"\"},\"bgcolor\":\"#E5ECF6\",\"caxis\":{\"gridcolor\":\"white\",\"linecolor\":\"white\",\"ticks\":\"\"}},\"title\":{\"x\":0.05},\"xaxis\":{\"automargin\":true,\"gridcolor\":\"white\",\"linecolor\":\"white\",\"ticks\":\"\",\"title\":{\"standoff\":15},\"zerolinecolor\":\"white\",\"zerolinewidth\":2},\"yaxis\":{\"automargin\":true,\"gridcolor\":\"white\",\"linecolor\":\"white\",\"ticks\":\"\",\"title\":{\"standoff\":15},\"zerolinecolor\":\"white\",\"zerolinewidth\":2}}},\"title\":{\"text\":\"\\u0412\\u043e\\u0440\\u043e\\u043d\\u043a\\u0430 \\u0441\\u043e\\u0431\\u044b\\u0442\\u0438\\u0439\"}},                        {\"responsive\": true}                    ).then(function(){\n",
       "                            \n",
       "var gd = document.getElementById('04df0617-bfe3-4fb7-998c-821017c37cf9');\n",
       "var x = new MutationObserver(function (mutations, observer) {{\n",
       "        var display = window.getComputedStyle(gd).display;\n",
       "        if (!display || display === 'none') {{\n",
       "            console.log([gd, 'removed!']);\n",
       "            Plotly.purge(gd);\n",
       "            observer.disconnect();\n",
       "        }}\n",
       "}});\n",
       "\n",
       "// Listen for the removal of the full notebook cells\n",
       "var notebookContainer = gd.closest('#notebook-container');\n",
       "if (notebookContainer) {{\n",
       "    x.observe(notebookContainer, {childList: true});\n",
       "}}\n",
       "\n",
       "// Listen for the clearing of the current output cell\n",
       "var outputEl = gd.closest('.output');\n",
       "if (outputEl) {{\n",
       "    x.observe(outputEl, {childList: true});\n",
       "}}\n",
       "\n",
       "                        })                };                });            </script>        </div>"
      ]
     },
     "metadata": {},
     "output_type": "display_data"
    }
   ],
   "source": [
    "eventname_data['ratio'] = eventname_data['deviceidhash'] / eventname_data['deviceidhash'].shift(1)\n",
    "\n",
    "eventname_data = eventname_data.query('eventname != \"Tutorial\"')\n",
    "\n",
    "\n",
    "fig = go.Figure()\n",
    "fig.add_trace(go.Funnel(\n",
    "y = eventname_data['eventname'], \n",
    "x = eventname_data['deviceidhash'], \n",
    "textinfo = 'value+percent initial+percent previous'))\n",
    "fig.update_layout(title = 'Воронка событий')"
   ]
  },
  {
   "cell_type": "markdown",
   "metadata": {},
   "source": [
    "# Изучение результата эксперимента "
   ]
  },
  {
   "cell_type": "markdown",
   "metadata": {},
   "source": [
    "## а/а тестирование "
   ]
  },
  {
   "cell_type": "code",
   "execution_count": 124,
   "metadata": {},
   "outputs": [
    {
     "data": {
      "text/plain": [
       "expid\n",
       "246    2484\n",
       "247    2513\n",
       "248    2537\n",
       "Name: deviceidhash, dtype: int64"
      ]
     },
     "execution_count": 124,
     "metadata": {},
     "output_type": "execute_result"
    }
   ],
   "source": [
    "data.groupby('expid')['deviceidhash'].nunique()"
   ]
  },
  {
   "cell_type": "markdown",
   "metadata": {},
   "source": [
    "Группы друг от друга отличаются на процент. В таком случае группы не значительно друг от друга отличаются и их допустимо сравнивать. \n",
    "\n",
    "Подготовим данные для теста по пользователям по группам 246 и 247. "
   ]
  },
  {
   "cell_type": "code",
   "execution_count": 125,
   "metadata": {},
   "outputs": [
    {
     "name": "stdout",
     "output_type": "stream",
     "text": [
      "2483\n",
      "                 eventname  deviceidhash     ratio\n",
      "0         MainScreenAppear          2450  0.986710\n",
      "1       OffersScreenAppear          1542  0.621023\n",
      "2         CartScreenAppear          1266  0.509867\n",
      "3  PaymentScreenSuccessful          1200  0.483286\n"
     ]
    }
   ],
   "source": [
    "data_246 = data.query('expid == 246 and eventname != \"Tutorial\"')\n",
    "data_246_gr = data_246.groupby('eventname')['deviceidhash'].nunique().sort_values(ascending=False).reset_index()\n",
    "\n",
    "data_246_gr.columns = ['eventname', 'deviceidhash']\n",
    "all_246 = data_246['deviceidhash'].nunique()\n",
    "data_246_gr['ratio'] = data_246_gr['deviceidhash'] / all_246\n",
    "print(all_246)\n",
    "print(data_246_gr)"
   ]
  },
  {
   "cell_type": "code",
   "execution_count": 126,
   "metadata": {},
   "outputs": [
    {
     "data": {
      "text/html": [
       "<div>\n",
       "<style scoped>\n",
       "    .dataframe tbody tr th:only-of-type {\n",
       "        vertical-align: middle;\n",
       "    }\n",
       "\n",
       "    .dataframe tbody tr th {\n",
       "        vertical-align: top;\n",
       "    }\n",
       "\n",
       "    .dataframe thead th {\n",
       "        text-align: right;\n",
       "    }\n",
       "</style>\n",
       "<table border=\"1\" class=\"dataframe\">\n",
       "  <thead>\n",
       "    <tr style=\"text-align: right;\">\n",
       "      <th></th>\n",
       "      <th>eventname</th>\n",
       "      <th>deviceidhash</th>\n",
       "    </tr>\n",
       "  </thead>\n",
       "  <tbody>\n",
       "    <tr>\n",
       "      <th>0</th>\n",
       "      <td>MainScreenAppear</td>\n",
       "      <td>2476</td>\n",
       "    </tr>\n",
       "    <tr>\n",
       "      <th>1</th>\n",
       "      <td>OffersScreenAppear</td>\n",
       "      <td>1520</td>\n",
       "    </tr>\n",
       "    <tr>\n",
       "      <th>2</th>\n",
       "      <td>CartScreenAppear</td>\n",
       "      <td>1238</td>\n",
       "    </tr>\n",
       "    <tr>\n",
       "      <th>3</th>\n",
       "      <td>PaymentScreenSuccessful</td>\n",
       "      <td>1158</td>\n",
       "    </tr>\n",
       "  </tbody>\n",
       "</table>\n",
       "</div>"
      ],
      "text/plain": [
       "                 eventname  deviceidhash\n",
       "0         MainScreenAppear          2476\n",
       "1       OffersScreenAppear          1520\n",
       "2         CartScreenAppear          1238\n",
       "3  PaymentScreenSuccessful          1158"
      ]
     },
     "execution_count": 126,
     "metadata": {},
     "output_type": "execute_result"
    }
   ],
   "source": [
    "data_247 = data.query('expid == 247 and eventname != \"Tutorial\"')\n",
    "data_247_gr = data_247.groupby('eventname')['deviceidhash'].nunique().sort_values(ascending=False).reset_index()\n",
    "\n",
    "data_247_gr.columns = ['eventname', 'deviceidhash']\n",
    "data_247_gr"
   ]
  },
  {
   "cell_type": "code",
   "execution_count": 127,
   "metadata": {},
   "outputs": [
    {
     "data": {
      "text/plain": [
       "2512"
      ]
     },
     "execution_count": 127,
     "metadata": {},
     "output_type": "execute_result"
    }
   ],
   "source": [
    "all_247 = data_247['deviceidhash'].nunique()\n",
    "all_247"
   ]
  },
  {
   "cell_type": "code",
   "execution_count": 128,
   "metadata": {},
   "outputs": [
    {
     "data": {
      "text/html": [
       "<div>\n",
       "<style scoped>\n",
       "    .dataframe tbody tr th:only-of-type {\n",
       "        vertical-align: middle;\n",
       "    }\n",
       "\n",
       "    .dataframe tbody tr th {\n",
       "        vertical-align: top;\n",
       "    }\n",
       "\n",
       "    .dataframe thead th {\n",
       "        text-align: right;\n",
       "    }\n",
       "</style>\n",
       "<table border=\"1\" class=\"dataframe\">\n",
       "  <thead>\n",
       "    <tr style=\"text-align: right;\">\n",
       "      <th></th>\n",
       "      <th>eventname</th>\n",
       "      <th>deviceidhash</th>\n",
       "      <th>ratio</th>\n",
       "    </tr>\n",
       "  </thead>\n",
       "  <tbody>\n",
       "    <tr>\n",
       "      <th>0</th>\n",
       "      <td>MainScreenAppear</td>\n",
       "      <td>2476</td>\n",
       "      <td>0.985669</td>\n",
       "    </tr>\n",
       "    <tr>\n",
       "      <th>1</th>\n",
       "      <td>OffersScreenAppear</td>\n",
       "      <td>1520</td>\n",
       "      <td>0.605096</td>\n",
       "    </tr>\n",
       "    <tr>\n",
       "      <th>2</th>\n",
       "      <td>CartScreenAppear</td>\n",
       "      <td>1238</td>\n",
       "      <td>0.492834</td>\n",
       "    </tr>\n",
       "    <tr>\n",
       "      <th>3</th>\n",
       "      <td>PaymentScreenSuccessful</td>\n",
       "      <td>1158</td>\n",
       "      <td>0.460987</td>\n",
       "    </tr>\n",
       "  </tbody>\n",
       "</table>\n",
       "</div>"
      ],
      "text/plain": [
       "                 eventname  deviceidhash     ratio\n",
       "0         MainScreenAppear          2476  0.985669\n",
       "1       OffersScreenAppear          1520  0.605096\n",
       "2         CartScreenAppear          1238  0.492834\n",
       "3  PaymentScreenSuccessful          1158  0.460987"
      ]
     },
     "execution_count": 128,
     "metadata": {},
     "output_type": "execute_result"
    }
   ],
   "source": [
    "data_247_gr['ratio'] = data_247_gr['deviceidhash'] / all_247\n",
    "\n",
    "data_247_gr"
   ]
  },
  {
   "cell_type": "markdown",
   "metadata": {},
   "source": [
    "Нулевая гипотеза: разницы в конверсии между группами 246 и 247 по заходам на главную страницу нет. Альтернативная гипотеза: разница в конверсии между группами 246 и 247 по заходам на главную страницу есть. "
   ]
  },
  {
   "cell_type": "code",
   "execution_count": 129,
   "metadata": {},
   "outputs": [
    {
     "name": "stdout",
     "output_type": "stream",
     "text": [
      "p-значение:  0.7526703436483038\n",
      "Не получилось отвергнуть нулевую гипотезу, нет оснований считать доли разными\n"
     ]
    }
   ],
   "source": [
    "alpha = .05 # критический уровень статистической значимости\n",
    "\n",
    "# пропорция успехов в комбинированном датасете:\n",
    "p_combined = (data_246_gr.iloc[0]['deviceidhash'] + data_247_gr.iloc[0]['deviceidhash']) / (all_246 + all_247)\n",
    "\n",
    "# разница пропорций в датасетах\n",
    "difference = data_246_gr.iloc[0]['ratio'] - data_247_gr.iloc[0]['ratio'] \n",
    "\n",
    "# считаем статистику в ст.отклонениях стандартного нормального распределения\n",
    "z_value = difference / mth.sqrt(p_combined * (1 - p_combined) * (1/all_246 + 1/all_247))\n",
    "\n",
    "# задаем стандартное нормальное распределение (среднее 0, ст.отклонение 1)\n",
    "distr = st.norm(0, 1) \n",
    "\n",
    "p_value = (1 - distr.cdf(abs(z_value))) * 2\n",
    "\n",
    "print('p-значение: ', p_value)\n",
    "\n",
    "if p_value < alpha:\n",
    "    print('Отвергаем нулевую гипотезу: между долями есть значимая разница')\n",
    "else:\n",
    "    print(\n",
    "        'Не получилось отвергнуть нулевую гипотезу, нет оснований считать доли разными'\n",
    "    ) "
   ]
  },
  {
   "cell_type": "code",
   "execution_count": 130,
   "metadata": {},
   "outputs": [
    {
     "name": "stdout",
     "output_type": "stream",
     "text": [
      "0.0032006977101884937\n",
      "True\n"
     ]
    }
   ],
   "source": [
    "\n",
    "fwer = 1-(1-0.05)**(1/16)\n",
    "print(fwer)\n",
    "print(fwer < p_value)\n"
   ]
  },
  {
   "cell_type": "markdown",
   "metadata": {},
   "source": [
    "Нулевая гипотеза: разницы в конверсии между группами 246 и 248 по переходу на страницу продукта нет. Альтернативная гипотеза: разница в конверсии между группами 246 и 248 по переходу на страницу продукта есть."
   ]
  },
  {
   "cell_type": "code",
   "execution_count": 131,
   "metadata": {},
   "outputs": [
    {
     "name": "stdout",
     "output_type": "stream",
     "text": [
      "p-значение:  0.24786096925282264\n",
      "Не получилось отвергнуть нулевую гипотезу, нет оснований считать доли разными\n"
     ]
    }
   ],
   "source": [
    "alpha = .05 # критический уровень статистической значимости\n",
    "\n",
    "# пропорция успехов в комбинированном датасете:\n",
    "p_combined = (data_246_gr.iloc[1]['deviceidhash'] + data_247_gr.iloc[1]['deviceidhash']) / (all_246 + all_247)\n",
    "\n",
    "# разница пропорций в датасетах\n",
    "difference = data_246_gr.iloc[1]['ratio'] - data_247_gr.iloc[1]['ratio'] \n",
    "\n",
    "# считаем статистику в ст.отклонениях стандартного нормального распределения\n",
    "z_value = difference / mth.sqrt(p_combined * (1 - p_combined) * (1/all_246 + 1/all_247))\n",
    "\n",
    "# задаем стандартное нормальное распределение (среднее 0, ст.отклонение 1)\n",
    "distr = st.norm(0, 1) \n",
    "\n",
    "p_value = (1 - distr.cdf(abs(z_value))) * 2\n",
    "\n",
    "print('p-значение: ', p_value)\n",
    "\n",
    "if p_value < alpha:\n",
    "    print('Отвергаем нулевую гипотезу: между долями есть значимая разница')\n",
    "else:\n",
    "    print(\n",
    "        'Не получилось отвергнуть нулевую гипотезу, нет оснований считать доли разными'\n",
    "    ) "
   ]
  },
  {
   "cell_type": "code",
   "execution_count": 132,
   "metadata": {},
   "outputs": [
    {
     "name": "stdout",
     "output_type": "stream",
     "text": [
      "True\n"
     ]
    }
   ],
   "source": [
    "print(fwer < p_value)"
   ]
  },
  {
   "cell_type": "markdown",
   "metadata": {},
   "source": [
    "Нулевая гипотеза: разницы в конверсии между группами 246 и 248 по добавлению в корзину нет. Альтернативная гипотеза: разница в конверсии между группами 246 и 248 по добавлению в корзину есть."
   ]
  },
  {
   "cell_type": "code",
   "execution_count": 133,
   "metadata": {},
   "outputs": [
    {
     "name": "stdout",
     "output_type": "stream",
     "text": [
      "p-значение:  0.22867643757335676\n",
      "Не получилось отвергнуть нулевую гипотезу, нет оснований считать доли разными\n"
     ]
    }
   ],
   "source": [
    "alpha = .05 # критический уровень статистической значимости\n",
    "\n",
    "# пропорция успехов в комбинированном датасете:\n",
    "p_combined = (data_246_gr.iloc[2]['deviceidhash'] + data_247_gr.iloc[2]['deviceidhash']) / (all_246 + all_247)\n",
    "\n",
    "# разница пропорций в датасетах\n",
    "difference = data_246_gr.iloc[2]['ratio'] - data_247_gr.iloc[2]['ratio'] \n",
    "\n",
    "# считаем статистику в ст.отклонениях стандартного нормального распределения\n",
    "z_value = difference / mth.sqrt(p_combined * (1 - p_combined) * (1/all_246 + 1/all_247))\n",
    "\n",
    "# задаем стандартное нормальное распределение (среднее 0, ст.отклонение 1)\n",
    "distr = st.norm(0, 1) \n",
    "\n",
    "p_value = (1 - distr.cdf(abs(z_value))) * 2\n",
    "\n",
    "print('p-значение: ', p_value)\n",
    "\n",
    "if p_value < alpha:\n",
    "    print('Отвергаем нулевую гипотезу: между долями есть значимая разница')\n",
    "else:\n",
    "    print(\n",
    "        'Не получилось отвергнуть нулевую гипотезу, нет оснований считать доли разными'\n",
    "    ) "
   ]
  },
  {
   "cell_type": "code",
   "execution_count": 134,
   "metadata": {},
   "outputs": [
    {
     "name": "stdout",
     "output_type": "stream",
     "text": [
      "True\n"
     ]
    }
   ],
   "source": [
    "print(fwer < p_value)"
   ]
  },
  {
   "cell_type": "markdown",
   "metadata": {},
   "source": [
    "Нулевая гипотеза: разницы в конверсии между группами 246 и 247 по оплатившим пользователям нет. Альтернативная гипотеза: разница в конверсии между группами 246 и 247 по оплатившим пользователям есть."
   ]
  },
  {
   "cell_type": "code",
   "execution_count": 135,
   "metadata": {},
   "outputs": [
    {
     "name": "stdout",
     "output_type": "stream",
     "text": [
      "p-значение:  0.11446627829276612\n",
      "Не получилось отвергнуть нулевую гипотезу, нет оснований считать доли разными\n"
     ]
    }
   ],
   "source": [
    "alpha = .05 # критический уровень статистической значимости\n",
    "\n",
    "# пропорция успехов в комбинированном датасете:\n",
    "p_combined = (data_246_gr.iloc[3]['deviceidhash'] + data_247_gr.iloc[3]['deviceidhash']) / (all_246 + all_247)\n",
    "\n",
    "# разница пропорций в датасетах\n",
    "difference = data_246_gr.iloc[3]['ratio'] - data_247_gr.iloc[3]['ratio'] \n",
    "\n",
    "# считаем статистику в ст.отклонениях стандартного нормального распределения\n",
    "z_value = difference / mth.sqrt(p_combined * (1 - p_combined) * (1/all_246 + 1/all_247))\n",
    "\n",
    "# задаем стандартное нормальное распределение (среднее 0, ст.отклонение 1)\n",
    "distr = st.norm(0, 1) \n",
    "\n",
    "p_value = (1 - distr.cdf(abs(z_value))) * 2\n",
    "\n",
    "print('p-значение: ', p_value)\n",
    "\n",
    "if p_value < alpha:\n",
    "    print('Отвергаем нулевую гипотезу: между долями есть значимая разница')\n",
    "else:\n",
    "    print(\n",
    "        'Не получилось отвергнуть нулевую гипотезу, нет оснований считать доли разными'\n",
    "    ) "
   ]
  },
  {
   "cell_type": "code",
   "execution_count": 136,
   "metadata": {},
   "outputs": [
    {
     "name": "stdout",
     "output_type": "stream",
     "text": [
      "True\n"
     ]
    }
   ],
   "source": [
    "print(fwer < p_value)"
   ]
  },
  {
   "cell_type": "markdown",
   "metadata": {},
   "source": [
    "Как мы видим, у нас не получилось опровергнуть, что 2 группы а отличаются друг от друга. "
   ]
  },
  {
   "cell_type": "markdown",
   "metadata": {},
   "source": [
    "## a/b тест "
   ]
  },
  {
   "cell_type": "markdown",
   "metadata": {},
   "source": [
    "Сравним первую группу из а/а теста (246) с группой б (248).\n",
    "\n",
    "Подготовим данные по пользователям для анализа. "
   ]
  },
  {
   "cell_type": "code",
   "execution_count": 137,
   "metadata": {},
   "outputs": [
    {
     "name": "stdout",
     "output_type": "stream",
     "text": [
      "2535\n",
      "                 eventname  deviceidhash     ratio\n",
      "0         MainScreenAppear          2493  0.983432\n",
      "1       OffersScreenAppear          1531  0.603945\n",
      "2         CartScreenAppear          1230  0.485207\n",
      "3  PaymentScreenSuccessful          1181  0.465878\n"
     ]
    }
   ],
   "source": [
    "data_248 = data.query('expid == 248 and eventname != \"Tutorial\"')\n",
    "data_248_gr = data_248.groupby('eventname')['deviceidhash'].nunique().sort_values(ascending=False).reset_index()\n",
    "\n",
    "data_248_gr.columns = ['eventname', 'deviceidhash']\n",
    "all_248 = data_248['deviceidhash'].nunique()\n",
    "data_248_gr['ratio'] = data_248_gr['deviceidhash'] / all_248\n",
    "print(all_248)\n",
    "print(data_248_gr)"
   ]
  },
  {
   "cell_type": "markdown",
   "metadata": {},
   "source": [
    "Нулевая гипотеза: разницы в конверсии между группами 246 и 248 по заходам на главную страницу нет. Альтернативная гипотеза: разница в конверсии между группами 246 и 248 по заходам на главную страницу есть."
   ]
  },
  {
   "cell_type": "code",
   "execution_count": 138,
   "metadata": {},
   "outputs": [
    {
     "name": "stdout",
     "output_type": "stream",
     "text": [
      "p-значение:  0.3387114076159288\n",
      "Не получилось отвергнуть нулевую гипотезу, нет оснований считать доли разными\n"
     ]
    }
   ],
   "source": [
    "alpha = .05 # критический уровень статистической значимости\n",
    "\n",
    "# пропорция успехов в комбинированном датасете:\n",
    "p_combined = (data_246_gr.iloc[0]['deviceidhash'] + data_248_gr.iloc[0]['deviceidhash']) / (all_246 + all_248)\n",
    "\n",
    "# разница пропорций в датасетах\n",
    "difference = data_246_gr.iloc[0]['ratio'] - data_248_gr.iloc[0]['ratio'] \n",
    "\n",
    "# считаем статистику в ст.отклонениях стандартного нормального распределения\n",
    "z_value = difference / mth.sqrt(p_combined * (1 - p_combined) * (1/all_246 + 1/all_248))\n",
    "\n",
    "# задаем стандартное нормальное распределение (среднее 0, ст.отклонение 1)\n",
    "distr = st.norm(0, 1) \n",
    "\n",
    "p_value = (1 - distr.cdf(abs(z_value))) * 2\n",
    "\n",
    "print('p-значение: ', p_value)\n",
    "\n",
    "if p_value < alpha:\n",
    "    print('Отвергаем нулевую гипотезу: между долями есть значимая разница')\n",
    "else:\n",
    "    print(\n",
    "        'Не получилось отвергнуть нулевую гипотезу, нет оснований считать доли разными'\n",
    "    ) \n",
    "    "
   ]
  },
  {
   "cell_type": "code",
   "execution_count": 139,
   "metadata": {},
   "outputs": [
    {
     "name": "stdout",
     "output_type": "stream",
     "text": [
      "True\n"
     ]
    }
   ],
   "source": [
    "print(fwer < p_value)"
   ]
  },
  {
   "cell_type": "markdown",
   "metadata": {},
   "source": [
    "Нулевая гипотеза: разницы в конверсии между группами 246 и 248 по переходу на страницу продукта нет. Альтернативная гипотеза: разница в конверсии между группами 246 и 248 по переходу на страницу продукта есть."
   ]
  },
  {
   "cell_type": "code",
   "execution_count": 140,
   "metadata": {},
   "outputs": [
    {
     "name": "stdout",
     "output_type": "stream",
     "text": [
      "p-значение:  0.21442476639710506\n",
      "Не получилось отвергнуть нулевую гипотезу, нет оснований считать доли разными\n"
     ]
    }
   ],
   "source": [
    "alpha = .05 # критический уровень статистической значимости\n",
    "\n",
    "# пропорция успехов в комбинированном датасете:\n",
    "p_combined = (data_246_gr.iloc[1]['deviceidhash'] + data_248_gr.iloc[1]['deviceidhash']) / (all_246 + all_248)\n",
    "\n",
    "# разница пропорций в датасетах\n",
    "difference = data_246_gr.iloc[1]['ratio'] - data_248_gr.iloc[1]['ratio'] \n",
    "\n",
    "# считаем статистику в ст.отклонениях стандартного нормального распределения\n",
    "z_value = difference / mth.sqrt(p_combined * (1 - p_combined) * (1/all_246 + 1/all_248))\n",
    "\n",
    "# задаем стандартное нормальное распределение (среднее 0, ст.отклонение 1)\n",
    "distr = st.norm(0, 1) \n",
    "\n",
    "p_value = (1 - distr.cdf(abs(z_value))) * 2\n",
    "\n",
    "print('p-значение: ', p_value)\n",
    "\n",
    "if p_value < alpha:\n",
    "    print('Отвергаем нулевую гипотезу: между долями есть значимая разница')\n",
    "else:\n",
    "    print(\n",
    "        'Не получилось отвергнуть нулевую гипотезу, нет оснований считать доли разными'\n",
    "    ) "
   ]
  },
  {
   "cell_type": "code",
   "execution_count": 141,
   "metadata": {},
   "outputs": [
    {
     "name": "stdout",
     "output_type": "stream",
     "text": [
      "True\n"
     ]
    }
   ],
   "source": [
    "print(fwer < p_value)"
   ]
  },
  {
   "cell_type": "markdown",
   "metadata": {},
   "source": [
    "Нулевая гипотеза: разницы в конверсии между группами 246 и 248 по добавлению в корзину нет. Альтернативная гипотеза: разница в конверсии между группами 246 и 248 по добавлению в корзину есть."
   ]
  },
  {
   "cell_type": "code",
   "execution_count": 142,
   "metadata": {},
   "outputs": [
    {
     "name": "stdout",
     "output_type": "stream",
     "text": [
      "p-значение:  0.08067367598823139\n",
      "Не получилось отвергнуть нулевую гипотезу, нет оснований считать доли разными\n"
     ]
    }
   ],
   "source": [
    "alpha = .05 # критический уровень статистической значимости\n",
    "\n",
    "# пропорция успехов в комбинированном датасете:\n",
    "p_combined = (data_246_gr.iloc[2]['deviceidhash'] + data_248_gr.iloc[2]['deviceidhash']) / (all_246 + all_248)\n",
    "\n",
    "# разница пропорций в датасетах\n",
    "difference = data_246_gr.iloc[2]['ratio'] - data_248_gr.iloc[2]['ratio'] \n",
    "\n",
    "# считаем статистику в ст.отклонениях стандартного нормального распределения\n",
    "z_value = difference / mth.sqrt(p_combined * (1 - p_combined) * (1/all_246 + 1/all_248))\n",
    "\n",
    "# задаем стандартное нормальное распределение (среднее 0, ст.отклонение 1)\n",
    "distr = st.norm(0, 1) \n",
    "\n",
    "p_value = (1 - distr.cdf(abs(z_value))) * 2\n",
    "\n",
    "print('p-значение: ', p_value)\n",
    "\n",
    "if p_value < alpha:\n",
    "    print('Отвергаем нулевую гипотезу: между долями есть значимая разница')\n",
    "else:\n",
    "    print(\n",
    "        'Не получилось отвергнуть нулевую гипотезу, нет оснований считать доли разными'\n",
    "    ) "
   ]
  },
  {
   "cell_type": "code",
   "execution_count": 143,
   "metadata": {},
   "outputs": [
    {
     "name": "stdout",
     "output_type": "stream",
     "text": [
      "True\n"
     ]
    }
   ],
   "source": [
    "print(fwer < p_value)"
   ]
  },
  {
   "cell_type": "markdown",
   "metadata": {},
   "source": [
    "Нулевая гипотеза: разницы в конверсии между группами 246 и 248 по оплатившим пользователям нет. Альтернативная гипотеза: разница в конверсии между группами 246 и 248 по оплатившим пользователям есть."
   ]
  },
  {
   "cell_type": "code",
   "execution_count": 144,
   "metadata": {},
   "outputs": [
    {
     "name": "stdout",
     "output_type": "stream",
     "text": [
      "p-значение:  0.21693033984516674\n",
      "Не получилось отвергнуть нулевую гипотезу, нет оснований считать доли разными\n"
     ]
    }
   ],
   "source": [
    "alpha = .05 # критический уровень статистической значимости\n",
    "\n",
    "# пропорция успехов в комбинированном датасете:\n",
    "p_combined = (data_246_gr.iloc[3]['deviceidhash'] + data_248_gr.iloc[3]['deviceidhash']) / (all_246 + all_248)\n",
    "\n",
    "# разница пропорций в датасетах\n",
    "difference = data_246_gr.iloc[3]['ratio'] - data_248_gr.iloc[3]['ratio'] \n",
    "\n",
    "# считаем статистику в ст.отклонениях стандартного нормального распределения\n",
    "z_value = difference / mth.sqrt(p_combined * (1 - p_combined) * (1/all_246 + 1/all_248))\n",
    "\n",
    "# задаем стандартное нормальное распределение (среднее 0, ст.отклонение 1)\n",
    "distr = st.norm(0, 1) \n",
    "\n",
    "p_value = (1 - distr.cdf(abs(z_value))) * 2\n",
    "\n",
    "print('p-значение: ', p_value)\n",
    "\n",
    "if p_value < alpha:\n",
    "    print('Отвергаем нулевую гипотезу: между долями есть значимая разница')\n",
    "else:\n",
    "    print(\n",
    "        'Не получилось отвергнуть нулевую гипотезу, нет оснований считать доли разными'\n",
    "    ) "
   ]
  },
  {
   "cell_type": "code",
   "execution_count": 145,
   "metadata": {},
   "outputs": [
    {
     "name": "stdout",
     "output_type": "stream",
     "text": [
      "True\n"
     ]
    }
   ],
   "source": [
    "print(fwer < p_value)"
   ]
  },
  {
   "cell_type": "markdown",
   "metadata": {},
   "source": [
    "Как мы видим у нас не получилось отвергнуть нулевую гипотезу. Группы 246 и 248 не имеют статистического различия. "
   ]
  },
  {
   "cell_type": "markdown",
   "metadata": {},
   "source": [
    "Теперь сравним группу 247 с группой б (248) с помошью статестического теста. \n",
    "\n",
    "Нулевая гипотеза: разницы в конверсии между группами 247 и 248 по заходам на главную страницу нет. Альтернативная гипотеза: разница в конверсии между группами 247 и 248 по заходам на главную страницу есть."
   ]
  },
  {
   "cell_type": "code",
   "execution_count": 146,
   "metadata": {},
   "outputs": [
    {
     "name": "stdout",
     "output_type": "stream",
     "text": [
      "p-значение:  0.5194964354051703\n",
      "Не получилось отвергнуть нулевую гипотезу, нет оснований считать доли разными\n"
     ]
    }
   ],
   "source": [
    "alpha = .05 # критический уровень статистической значимости\n",
    "\n",
    "# пропорция успехов в комбинированном датасете:\n",
    "p_combined = (data_247_gr.iloc[0]['deviceidhash'] + data_248_gr.iloc[0]['deviceidhash']) / (all_247 + all_248)\n",
    "\n",
    "# разница пропорций в датасетах\n",
    "difference = data_247_gr.iloc[0]['ratio'] - data_248_gr.iloc[0]['ratio'] \n",
    "\n",
    "# считаем статистику в ст.отклонениях стандартного нормального распределения\n",
    "z_value = difference / mth.sqrt(p_combined * (1 - p_combined) * (1/all_247 + 1/all_248))\n",
    "\n",
    "# задаем стандартное нормальное распределение (среднее 0, ст.отклонение 1)\n",
    "distr = st.norm(0, 1) \n",
    "\n",
    "p_value = (1 - distr.cdf(abs(z_value))) * 2\n",
    "\n",
    "print('p-значение: ', p_value)\n",
    "\n",
    "if p_value < alpha:\n",
    "    print('Отвергаем нулевую гипотезу: между долями есть значимая разница')\n",
    "else:\n",
    "    print(\n",
    "        'Не получилось отвергнуть нулевую гипотезу, нет оснований считать доли разными'\n",
    "    ) \n",
    "    "
   ]
  },
  {
   "cell_type": "code",
   "execution_count": 147,
   "metadata": {},
   "outputs": [
    {
     "name": "stdout",
     "output_type": "stream",
     "text": [
      "True\n"
     ]
    }
   ],
   "source": [
    "print(fwer < p_value)"
   ]
  },
  {
   "cell_type": "markdown",
   "metadata": {},
   "source": [
    "Нулевая гипотеза: разницы в конверсии между группами 247 и 248 по переходу на страницу продукта нет. Альтернативная гипотеза: разница в конверсии между группами 247 и 248 по переходу на страницу продукта есть."
   ]
  },
  {
   "cell_type": "code",
   "execution_count": 148,
   "metadata": {},
   "outputs": [
    {
     "name": "stdout",
     "output_type": "stream",
     "text": [
      "p-значение:  0.9333751305879443\n",
      "Не получилось отвергнуть нулевую гипотезу, нет оснований считать доли разными\n"
     ]
    }
   ],
   "source": [
    "alpha = .05 # критический уровень статистической значимости\n",
    "\n",
    "# пропорция успехов в комбинированном датасете:\n",
    "p_combined = (data_247_gr.iloc[1]['deviceidhash'] + data_248_gr.iloc[1]['deviceidhash']) / (all_247 + all_248)\n",
    "\n",
    "# разница пропорций в датасетах\n",
    "difference = data_247_gr.iloc[1]['ratio'] - data_248_gr.iloc[1]['ratio'] \n",
    "\n",
    "# считаем статистику в ст.отклонениях стандартного нормального распределения\n",
    "z_value = difference / mth.sqrt(p_combined * (1 - p_combined) * (1/all_247 + 1/all_248))\n",
    "\n",
    "# задаем стандартное нормальное распределение (среднее 0, ст.отклонение 1)\n",
    "distr = st.norm(0, 1) \n",
    "\n",
    "p_value = (1 - distr.cdf(abs(z_value))) * 2\n",
    "\n",
    "print('p-значение: ', p_value)\n",
    "\n",
    "if p_value < alpha:\n",
    "    print('Отвергаем нулевую гипотезу: между долями есть значимая разница')\n",
    "else:\n",
    "    print(\n",
    "        'Не получилось отвергнуть нулевую гипотезу, нет оснований считать доли разными'\n",
    "    ) "
   ]
  },
  {
   "cell_type": "code",
   "execution_count": 149,
   "metadata": {},
   "outputs": [
    {
     "name": "stdout",
     "output_type": "stream",
     "text": [
      "True\n"
     ]
    }
   ],
   "source": [
    "print(fwer < p_value)"
   ]
  },
  {
   "cell_type": "markdown",
   "metadata": {},
   "source": [
    "Нулевая гипотеза: разницы в конверсии между группами 247 и 248 по добавлению в корзину нет. Альтернативная гипотеза: разница в конверсии между группами 247 и 248 по добавлению в корзину есть."
   ]
  },
  {
   "cell_type": "code",
   "execution_count": 150,
   "metadata": {},
   "outputs": [
    {
     "name": "stdout",
     "output_type": "stream",
     "text": [
      "p-значение:  0.5878284605111943\n",
      "Не получилось отвергнуть нулевую гипотезу, нет оснований считать доли разными\n"
     ]
    }
   ],
   "source": [
    "alpha = .05 # критический уровень статистической значимости\n",
    "\n",
    "# пропорция успехов в комбинированном датасете:\n",
    "p_combined = (data_247_gr.iloc[2]['deviceidhash'] + data_248_gr.iloc[2]['deviceidhash']) / (all_247 + all_248)\n",
    "\n",
    "# разница пропорций в датасетах\n",
    "difference = data_247_gr.iloc[2]['ratio'] - data_248_gr.iloc[2]['ratio'] \n",
    "\n",
    "# считаем статистику в ст.отклонениях стандартного нормального распределения\n",
    "z_value = difference / mth.sqrt(p_combined * (1 - p_combined) * (1/all_247 + 1/all_248))\n",
    "\n",
    "# задаем стандартное нормальное распределение (среднее 0, ст.отклонение 1)\n",
    "distr = st.norm(0, 1) \n",
    "\n",
    "p_value = (1 - distr.cdf(abs(z_value))) * 2\n",
    "\n",
    "print('p-значение: ', p_value)\n",
    "\n",
    "if p_value < alpha:\n",
    "    print('Отвергаем нулевую гипотезу: между долями есть значимая разница')\n",
    "else:\n",
    "    print(\n",
    "        'Не получилось отвергнуть нулевую гипотезу, нет оснований считать доли разными'\n",
    "    ) "
   ]
  },
  {
   "cell_type": "code",
   "execution_count": 151,
   "metadata": {},
   "outputs": [
    {
     "name": "stdout",
     "output_type": "stream",
     "text": [
      "True\n"
     ]
    }
   ],
   "source": [
    "print(fwer < p_value)"
   ]
  },
  {
   "cell_type": "markdown",
   "metadata": {},
   "source": [
    "Нулевая гипотеза: разницы в конверсии между группами 247 и 248 по оплатившим пользователям нет. Альтернативная гипотеза: разница в конверсии между группами 247 и 248 по оплатившим пользователям есть."
   ]
  },
  {
   "cell_type": "code",
   "execution_count": 152,
   "metadata": {},
   "outputs": [
    {
     "name": "stdout",
     "output_type": "stream",
     "text": [
      "p-значение:  0.7275718682261119\n",
      "Не получилось отвергнуть нулевую гипотезу, нет оснований считать доли разными\n"
     ]
    }
   ],
   "source": [
    "alpha = .05 # критический уровень статистической значимости\n",
    "\n",
    "# пропорция успехов в комбинированном датасете:\n",
    "p_combined = (data_247_gr.iloc[3]['deviceidhash'] + data_248_gr.iloc[3]['deviceidhash']) / (all_247 + all_248)\n",
    "\n",
    "# разница пропорций в датасетах\n",
    "difference = data_247_gr.iloc[3]['ratio'] - data_248_gr.iloc[3]['ratio'] \n",
    "\n",
    "# считаем статистику в ст.отклонениях стандартного нормального распределения\n",
    "z_value = difference / mth.sqrt(p_combined * (1 - p_combined) * (1/all_247 + 1/all_248))\n",
    "\n",
    "# задаем стандартное нормальное распределение (среднее 0, ст.отклонение 1)\n",
    "distr = st.norm(0, 1) \n",
    "\n",
    "p_value = (1 - distr.cdf(abs(z_value))) * 2\n",
    "\n",
    "print('p-значение: ', p_value)\n",
    "\n",
    "if p_value < alpha:\n",
    "    print('Отвергаем нулевую гипотезу: между долями есть значимая разница')\n",
    "else:\n",
    "    print(\n",
    "        'Не получилось отвергнуть нулевую гипотезу, нет оснований считать доли разными'\n",
    "    ) "
   ]
  },
  {
   "cell_type": "code",
   "execution_count": 153,
   "metadata": {},
   "outputs": [
    {
     "name": "stdout",
     "output_type": "stream",
     "text": [
      "True\n"
     ]
    }
   ],
   "source": [
    "print(fwer < p_value)"
   ]
  },
  {
   "cell_type": "markdown",
   "metadata": {},
   "source": [
    "Как мы видим у нас не получилось отвергнуть нулевую гипотезу. Группы 246 и 248 не имеют статистического различия ни в одном из событий. "
   ]
  },
  {
   "cell_type": "markdown",
   "metadata": {},
   "source": [
    "Теперь посчитаем сравним суммарно первые две группы с группой б. Это поможет проверить наши результаты еще раз.\n",
    "\n",
    "Сначала подготовим данные с суммой по двум группам. "
   ]
  },
  {
   "cell_type": "code",
   "execution_count": 154,
   "metadata": {},
   "outputs": [
    {
     "name": "stdout",
     "output_type": "stream",
     "text": [
      "4995\n",
      "                 eventname  deviceidhash     ratio\n",
      "0         MainScreenAppear          4926  0.986186\n",
      "1       OffersScreenAppear          3062  0.613013\n",
      "2         CartScreenAppear          2504  0.501301\n",
      "3  PaymentScreenSuccessful          2358  0.472072\n"
     ]
    }
   ],
   "source": [
    "data_a_sum = data_246_gr\n",
    "data_a_sum.drop('ratio', axis=1)\n",
    "data_a_sum['deviceidhash'] = data_a_sum['deviceidhash'] + data_247_gr['deviceidhash']\n",
    "\n",
    "\n",
    "all_a_a = all_247+all_246\n",
    "\n",
    "data_a_sum['ratio'] = data_a_sum['deviceidhash'] / all_a_a\n",
    "print(all_a_a)\n",
    "print(data_a_sum)"
   ]
  },
  {
   "cell_type": "markdown",
   "metadata": {},
   "source": [
    "Нулевая гипотеза: разницы в конверсии между суммой групп пользователей 246, 247 и группой 248 по заходам на главную страницу нет. Альтернативная гипотеза: разница в конверсии между суммой групп пользователей 246, 247 и группой 248 по заходам на главную страницу есть."
   ]
  },
  {
   "cell_type": "code",
   "execution_count": 155,
   "metadata": {},
   "outputs": [
    {
     "name": "stdout",
     "output_type": "stream",
     "text": [
      "p-значение:  0.3486684291093256\n",
      "Не получилось отвергнуть нулевую гипотезу, нет оснований считать доли разными\n"
     ]
    }
   ],
   "source": [
    "alpha = .05 # критический уровень статистической значимости\n",
    "\n",
    "# пропорция успехов в комбинированном датасете:\n",
    "p_combined = (data_a_sum.iloc[0]['deviceidhash'] + data_248_gr.iloc[0]['deviceidhash']) / (all_a_a + all_248)\n",
    "\n",
    "# разница пропорций в датасетах\n",
    "difference = data_a_sum.iloc[0]['ratio'] - data_248_gr.iloc[0]['ratio'] \n",
    "\n",
    "# считаем статистику в ст.отклонениях стандартного нормального распределения\n",
    "z_value = difference / mth.sqrt(p_combined * (1 - p_combined) * (1/all_a_a + 1/all_248))\n",
    "\n",
    "# задаем стандартное нормальное распределение (среднее 0, ст.отклонение 1)\n",
    "distr = st.norm(0, 1) \n",
    "\n",
    "p_value = (1 - distr.cdf(abs(z_value))) * 2\n",
    "\n",
    "print('p-значение: ', p_value)\n",
    "\n",
    "if p_value < alpha:\n",
    "    print('Отвергаем нулевую гипотезу: между долями есть значимая разница')\n",
    "else:\n",
    "    print(\n",
    "        'Не получилось отвергнуть нулевую гипотезу, нет оснований считать доли разными'\n",
    "    ) \n",
    "    "
   ]
  },
  {
   "cell_type": "code",
   "execution_count": 156,
   "metadata": {},
   "outputs": [
    {
     "name": "stdout",
     "output_type": "stream",
     "text": [
      "True\n"
     ]
    }
   ],
   "source": [
    "print(fwer < p_value)"
   ]
  },
  {
   "cell_type": "markdown",
   "metadata": {},
   "source": [
    "Нулевая гипотеза: разницы в конверсии между суммой групп пользователей 246, 247 и группой 248 по заходам на страницу продукта нет. Альтернативная гипотеза: разница в конверсии между суммой групп пользователей 246, 247 и группой 248 по заходам на страницу продукта есть."
   ]
  },
  {
   "cell_type": "code",
   "execution_count": 157,
   "metadata": {},
   "outputs": [
    {
     "name": "stdout",
     "output_type": "stream",
     "text": [
      "p-значение:  0.44582745409482394\n",
      "Не получилось отвергнуть нулевую гипотезу, нет оснований считать доли разными\n"
     ]
    }
   ],
   "source": [
    "alpha = .05 # критический уровень статистической значимости\n",
    "\n",
    "# пропорция успехов в комбинированном датасете:\n",
    "p_combined = (data_a_sum.iloc[1]['deviceidhash'] + data_248_gr.iloc[1]['deviceidhash']) / (all_a_a + all_248)\n",
    "\n",
    "# разница пропорций в датасетах\n",
    "difference = data_a_sum.iloc[1]['ratio'] - data_248_gr.iloc[1]['ratio'] \n",
    "\n",
    "# считаем статистику в ст.отклонениях стандартного нормального распределения\n",
    "z_value = difference / mth.sqrt(p_combined * (1 - p_combined) * (1/all_a_a + 1/all_248))\n",
    "\n",
    "# задаем стандартное нормальное распределение (среднее 0, ст.отклонение 1)\n",
    "distr = st.norm(0, 1) \n",
    "\n",
    "p_value = (1 - distr.cdf(abs(z_value))) * 2\n",
    "\n",
    "print('p-значение: ', p_value)\n",
    "\n",
    "if p_value < alpha:\n",
    "    print('Отвергаем нулевую гипотезу: между долями есть значимая разница')\n",
    "else:\n",
    "    print(\n",
    "        'Не получилось отвергнуть нулевую гипотезу, нет оснований считать доли разными'\n",
    "    ) \n",
    "    "
   ]
  },
  {
   "cell_type": "code",
   "execution_count": 158,
   "metadata": {},
   "outputs": [
    {
     "name": "stdout",
     "output_type": "stream",
     "text": [
      "True\n"
     ]
    }
   ],
   "source": [
    "print(fwer < p_value)"
   ]
  },
  {
   "cell_type": "markdown",
   "metadata": {},
   "source": [
    "Нулевая гипотеза: разницы в конверсии между суммой групп пользователей 246, 247 и группой 248 по пользователям добавивших товар в корзину нет. Альтернативная гипотеза: разница в конверсии между суммой групп пользователей 246, 247 и группой 248 по пользователям добавивших товар в корзину есть."
   ]
  },
  {
   "cell_type": "code",
   "execution_count": 159,
   "metadata": {},
   "outputs": [
    {
     "name": "stdout",
     "output_type": "stream",
     "text": [
      "p-значение:  0.18683558686831558\n",
      "Не получилось отвергнуть нулевую гипотезу, нет оснований считать доли разными\n"
     ]
    }
   ],
   "source": [
    "alpha = .05 # критический уровень статистической значимости\n",
    "\n",
    "# пропорция успехов в комбинированном датасете:\n",
    "p_combined = (data_a_sum.iloc[2]['deviceidhash'] + data_248_gr.iloc[2]['deviceidhash']) / (all_a_a + all_248)\n",
    "\n",
    "# разница пропорций в датасетах\n",
    "difference = data_a_sum.iloc[2]['ratio'] - data_248_gr.iloc[2]['ratio'] \n",
    "\n",
    "# считаем статистику в ст.отклонениях стандартного нормального распределения\n",
    "z_value = difference / mth.sqrt(p_combined * (1 - p_combined) * (1/all_a_a + 1/all_248))\n",
    "\n",
    "# задаем стандартное нормальное распределение (среднее 0, ст.отклонение 1)\n",
    "distr = st.norm(0, 1) \n",
    "\n",
    "p_value = (1 - distr.cdf(abs(z_value))) * 2\n",
    "\n",
    "print('p-значение: ', p_value)\n",
    "\n",
    "if p_value < alpha:\n",
    "    print('Отвергаем нулевую гипотезу: между долями есть значимая разница')\n",
    "else:\n",
    "    print(\n",
    "        'Не получилось отвергнуть нулевую гипотезу, нет оснований считать доли разными'\n",
    "    ) \n",
    "    "
   ]
  },
  {
   "cell_type": "code",
   "execution_count": 160,
   "metadata": {},
   "outputs": [
    {
     "name": "stdout",
     "output_type": "stream",
     "text": [
      "True\n"
     ]
    }
   ],
   "source": [
    "print(fwer < p_value)"
   ]
  },
  {
   "cell_type": "markdown",
   "metadata": {},
   "source": [
    "Нулевая гипотеза: разницы в конверсии между суммой групп пользователей 246, 247 и группой 248 по пользователям оплатившим заказ нет.  Альтернативная гипотеза: разница в конверсии между суммой групп пользователей 246, 247 и группой 248 по пользователям оплатившим заказ есть."
   ]
  },
  {
   "cell_type": "code",
   "execution_count": 161,
   "metadata": {},
   "outputs": [
    {
     "name": "stdout",
     "output_type": "stream",
     "text": [
      "p-значение:  0.6107918742187335\n",
      "Не получилось отвергнуть нулевую гипотезу, нет оснований считать доли разными\n"
     ]
    }
   ],
   "source": [
    "alpha = .05 # критический уровень статистической значимости\n",
    "\n",
    "# пропорция успехов в комбинированном датасете:\n",
    "p_combined = (data_a_sum.iloc[3]['deviceidhash'] + data_248_gr.iloc[3]['deviceidhash']) / (all_a_a + all_248)\n",
    "\n",
    "# разница пропорций в датасетах\n",
    "difference = data_a_sum.iloc[3]['ratio'] - data_248_gr.iloc[3]['ratio'] \n",
    "\n",
    "# считаем статистику в ст.отклонениях стандартного нормального распределения\n",
    "z_value = difference / mth.sqrt(p_combined * (1 - p_combined) * (1/all_a_a + 1/all_248))\n",
    "\n",
    "# задаем стандартное нормальное распределение (среднее 0, ст.отклонение 1)\n",
    "distr = st.norm(0, 1) \n",
    "\n",
    "p_value = (1 - distr.cdf(abs(z_value))) * 2\n",
    "\n",
    "print('p-значение: ', p_value)\n",
    "\n",
    "if p_value < alpha:\n",
    "    print('Отвергаем нулевую гипотезу: между долями есть значимая разница')\n",
    "else:\n",
    "    print(\n",
    "        'Не получилось отвергнуть нулевую гипотезу, нет оснований считать доли разными'\n",
    "    ) \n",
    "    "
   ]
  },
  {
   "cell_type": "code",
   "execution_count": 162,
   "metadata": {},
   "outputs": [
    {
     "name": "stdout",
     "output_type": "stream",
     "text": [
      "True\n"
     ]
    }
   ],
   "source": [
    "print(fwer < p_value)"
   ]
  },
  {
   "cell_type": "markdown",
   "metadata": {},
   "source": [
    "Как мы видим у нас не получилось отвергнуть нулевую гипотезу снова. Группы сумма из пользователей 246 и 247 не имеют статистического различия с контрольной 248 группой. \n",
    "\n",
    "Ни один из тестов ни по одному из событий не показал какой-либо разницы в увеличении либо уменьшении пользователей в группе с пользователями, которым изменили шрифт. "
   ]
  },
  {
   "cell_type": "markdown",
   "metadata": {},
   "source": [
    "По методу Шидака, если FWER < р значения, то уровень статистической значимости выбран верно. У нас проведено 16 тестов. \n",
    "                                                                                               \n",
    "Р значение больше FWER по методу Шидака, поэтому нет оснований полагать, что у нас имеется ложное отклонение в результате проверке гипотезы."
   ]
  },
  {
   "cell_type": "markdown",
   "metadata": {},
   "source": [
    "# Выводы"
   ]
  },
  {
   "cell_type": "markdown",
   "metadata": {},
   "source": [
    "Была проведена работа с данными. Данные были проверены на ошибки. Дубликаты записей были удалены. Даты были приведены к нужному для исследования типу данных.\n",
    "\n",
    "В тесте у нас присутствует группы 246, 247 и 248. 2 группы для а/а теста, последня экспериментальная б соответственно. Были представлены данные с 25.07.19 по 07.08.19. Мы обрезали данные по 07.31, так как по эту дату данные собирались не полные. Это не повлияло значительно на группы и сами данные. Были обнаружены неполные данные за несколько первых дней. Пресечение покупателей в группах тоже проверили, их нет. Из данных было удалено событие, которое не встраивается в воронку. \n",
    "\n",
    "Поведение пользователей состоит из воронки: главная страница - страница продукта - корзина - оплата. Всего пользователей, с первого шага на второй попадает 62%, со второго на третий 81%, с третьего на четвертый 95%. Всего пользователей с главной страницы доходят до оплаты 48%. \n",
    "\n",
    "Мы провели статистические тест а/а для сравнения 246 группы с группой 247. Группы не имеют статистического различия, если принимать во внимание разницу до 5%. Мы убедились, что данные поделены на группы корректно и тест не выявил различий между группами а. \n",
    "\n",
    "Мы провели статистические тесты сравнения контрольной группы (248) с 246 и 247 по каждому событию и статистической разницы тоже не было выявлено. Также для проверки результатов, мы провели тест из суммы групп а (246 и 247) с контрольной 248 группой. Статистического различия между группами также не было выявлено. На пользователей смена шрифта не повлияла. Можно оставить предыдущий шрифт или добавить новый. Это не повлияет на частоту совершения покупок пользователями. \n",
    "\n",
    "\n",
    "Пожелания и рекомендации: \n",
    "\n",
    "Из данных надо рассмотреть возможность изменения фиксации шага 'Tutorial'. Он на прямую не встраивается в воронку. Этот шаг может фиксировать, что-то параллельное, из-за чего могут быть утери по количеству пользователей и количеству событий, что в свою очередь может привести к искажению результатов. "
   ]
  }
 ],
 "metadata": {
  "ExecuteTimeLog": [
   {
    "duration": 400,
    "start_time": "2024-03-04T08:18:34.184Z"
   },
   {
    "duration": 88,
    "start_time": "2024-03-04T08:18:34.878Z"
   },
   {
    "duration": 704,
    "start_time": "2024-03-04T08:18:50.206Z"
   },
   {
    "duration": 15,
    "start_time": "2024-03-04T08:19:45.917Z"
   },
   {
    "duration": 30,
    "start_time": "2024-03-04T08:19:48.807Z"
   },
   {
    "duration": 315,
    "start_time": "2024-03-04T09:33:59.964Z"
   },
   {
    "duration": 29,
    "start_time": "2024-03-04T09:34:10.243Z"
   },
   {
    "duration": 16,
    "start_time": "2024-03-04T09:34:14.796Z"
   },
   {
    "duration": 4,
    "start_time": "2024-03-04T09:35:08.448Z"
   },
   {
    "duration": 10,
    "start_time": "2024-03-04T09:36:14.712Z"
   },
   {
    "duration": 28,
    "start_time": "2024-03-04T09:38:19.701Z"
   },
   {
    "duration": 410,
    "start_time": "2024-03-04T14:39:29.192Z"
   },
   {
    "duration": 853,
    "start_time": "2024-03-04T14:39:29.604Z"
   },
   {
    "duration": 13,
    "start_time": "2024-03-04T14:39:30.458Z"
   },
   {
    "duration": 145,
    "start_time": "2024-03-04T14:39:30.472Z"
   },
   {
    "duration": 26,
    "start_time": "2024-03-04T14:39:30.620Z"
   },
   {
    "duration": 39,
    "start_time": "2024-03-04T14:39:30.647Z"
   },
   {
    "duration": 22,
    "start_time": "2024-03-04T14:39:30.687Z"
   },
   {
    "duration": 35,
    "start_time": "2024-03-04T14:39:30.711Z"
   },
   {
    "duration": 40,
    "start_time": "2024-03-04T14:39:30.747Z"
   },
   {
    "duration": 166,
    "start_time": "2024-03-04T14:41:52.346Z"
   },
   {
    "duration": 7,
    "start_time": "2024-03-04T14:41:54.322Z"
   },
   {
    "duration": 21,
    "start_time": "2024-03-04T14:41:58.714Z"
   },
   {
    "duration": 3,
    "start_time": "2024-03-04T14:42:01.034Z"
   },
   {
    "duration": 16,
    "start_time": "2024-03-04T14:42:19.497Z"
   },
   {
    "duration": 52,
    "start_time": "2024-03-04T14:42:20.377Z"
   },
   {
    "duration": 3,
    "start_time": "2024-03-04T14:44:48.165Z"
   },
   {
    "duration": 6,
    "start_time": "2024-03-04T14:45:06.646Z"
   },
   {
    "duration": 464,
    "start_time": "2024-03-04T18:45:37.676Z"
   },
   {
    "duration": 837,
    "start_time": "2024-03-04T18:45:38.142Z"
   },
   {
    "duration": 14,
    "start_time": "2024-03-04T18:45:38.980Z"
   },
   {
    "duration": 172,
    "start_time": "2024-03-04T18:45:38.996Z"
   },
   {
    "duration": 10,
    "start_time": "2024-03-04T18:45:39.171Z"
   },
   {
    "duration": 39,
    "start_time": "2024-03-04T18:45:39.191Z"
   },
   {
    "duration": 4,
    "start_time": "2024-03-04T18:45:39.231Z"
   },
   {
    "duration": 24,
    "start_time": "2024-03-04T18:45:39.237Z"
   },
   {
    "duration": 35,
    "start_time": "2024-03-04T18:45:39.262Z"
   },
   {
    "duration": 74,
    "start_time": "2024-03-04T18:45:39.299Z"
   },
   {
    "duration": 114,
    "start_time": "2024-03-04T18:51:15.970Z"
   },
   {
    "duration": 3,
    "start_time": "2024-03-04T18:51:26.500Z"
   },
   {
    "duration": 336,
    "start_time": "2024-03-04T18:51:34.959Z"
   },
   {
    "duration": 9,
    "start_time": "2024-03-04T18:51:38.730Z"
   },
   {
    "duration": 1555,
    "start_time": "2024-03-04T18:52:14.329Z"
   },
   {
    "duration": 2,
    "start_time": "2024-03-04T18:52:23.659Z"
   },
   {
    "duration": 365,
    "start_time": "2024-03-04T18:52:23.664Z"
   },
   {
    "duration": 7,
    "start_time": "2024-03-04T18:52:24.031Z"
   },
   {
    "duration": 218,
    "start_time": "2024-03-04T18:52:24.040Z"
   },
   {
    "duration": 8,
    "start_time": "2024-03-04T18:52:24.260Z"
   },
   {
    "duration": 36,
    "start_time": "2024-03-04T18:52:24.269Z"
   },
   {
    "duration": 12,
    "start_time": "2024-03-04T18:52:24.307Z"
   },
   {
    "duration": 43,
    "start_time": "2024-03-04T18:52:24.321Z"
   },
   {
    "duration": 42,
    "start_time": "2024-03-04T18:52:24.365Z"
   },
   {
    "duration": 64,
    "start_time": "2024-03-04T18:52:24.409Z"
   },
   {
    "duration": 18,
    "start_time": "2024-03-04T18:52:24.474Z"
   },
   {
    "duration": 394,
    "start_time": "2024-03-04T18:54:14.934Z"
   },
   {
    "duration": 930,
    "start_time": "2024-03-04T18:54:58.157Z"
   },
   {
    "duration": 452,
    "start_time": "2024-03-04T18:55:02.868Z"
   },
   {
    "duration": 403,
    "start_time": "2024-03-04T18:55:09.564Z"
   },
   {
    "duration": 14,
    "start_time": "2024-03-04T18:58:16.457Z"
   },
   {
    "duration": 9,
    "start_time": "2024-03-04T18:59:04.206Z"
   },
   {
    "duration": 12,
    "start_time": "2024-03-04T18:59:23.479Z"
   },
   {
    "duration": 9,
    "start_time": "2024-03-04T18:59:26.454Z"
   },
   {
    "duration": 11,
    "start_time": "2024-03-04T19:02:49.384Z"
   },
   {
    "duration": 9,
    "start_time": "2024-03-04T19:04:36.791Z"
   },
   {
    "duration": 80,
    "start_time": "2024-03-04T19:05:42.750Z"
   },
   {
    "duration": 9,
    "start_time": "2024-03-04T19:05:55.718Z"
   },
   {
    "duration": 114,
    "start_time": "2024-03-04T19:11:26.910Z"
   },
   {
    "duration": 100,
    "start_time": "2024-03-04T19:11:46.172Z"
   },
   {
    "duration": 33,
    "start_time": "2024-03-04T19:12:07.092Z"
   },
   {
    "duration": 30,
    "start_time": "2024-03-04T20:13:23.413Z"
   },
   {
    "duration": 32,
    "start_time": "2024-03-04T20:15:34.457Z"
   },
   {
    "duration": 15,
    "start_time": "2024-03-04T20:15:47.498Z"
   },
   {
    "duration": 5,
    "start_time": "2024-03-04T20:16:40.617Z"
   },
   {
    "duration": 114,
    "start_time": "2024-03-04T20:17:07.384Z"
   },
   {
    "duration": 17,
    "start_time": "2024-03-04T20:17:14.704Z"
   },
   {
    "duration": 6,
    "start_time": "2024-03-04T20:18:05.167Z"
   },
   {
    "duration": 31,
    "start_time": "2024-03-04T20:23:36.688Z"
   },
   {
    "duration": 17,
    "start_time": "2024-03-04T20:23:54.143Z"
   },
   {
    "duration": 21,
    "start_time": "2024-03-04T20:24:09.679Z"
   },
   {
    "duration": 24,
    "start_time": "2024-03-04T20:28:48.057Z"
   },
   {
    "duration": 19,
    "start_time": "2024-03-04T20:28:48.600Z"
   },
   {
    "duration": 16,
    "start_time": "2024-03-04T20:41:07.704Z"
   },
   {
    "duration": 15,
    "start_time": "2024-03-04T20:41:26.929Z"
   },
   {
    "duration": 13,
    "start_time": "2024-03-04T20:42:42.006Z"
   },
   {
    "duration": 100,
    "start_time": "2024-03-04T20:43:13.420Z"
   },
   {
    "duration": 52,
    "start_time": "2024-03-04T20:43:18.747Z"
   },
   {
    "duration": 4,
    "start_time": "2024-03-04T20:59:47.397Z"
   },
   {
    "duration": 682,
    "start_time": "2024-03-04T20:59:54.668Z"
   },
   {
    "duration": 644,
    "start_time": "2024-03-04T21:12:24.985Z"
   },
   {
    "duration": 657,
    "start_time": "2024-03-04T21:12:43.449Z"
   },
   {
    "duration": 642,
    "start_time": "2024-03-04T21:13:44.007Z"
   },
   {
    "duration": 784,
    "start_time": "2024-03-04T21:14:48.029Z"
   },
   {
    "duration": 710,
    "start_time": "2024-03-04T21:15:38.508Z"
   },
   {
    "duration": 405,
    "start_time": "2024-03-04T21:16:15.220Z"
   },
   {
    "duration": 388,
    "start_time": "2024-03-04T21:17:43.722Z"
   },
   {
    "duration": 227,
    "start_time": "2024-03-04T21:18:40.999Z"
   },
   {
    "duration": 399,
    "start_time": "2024-03-04T21:19:33.792Z"
   },
   {
    "duration": 398,
    "start_time": "2024-03-04T21:22:27.274Z"
   },
   {
    "duration": 4,
    "start_time": "2024-03-04T21:32:12.562Z"
   },
   {
    "duration": 11,
    "start_time": "2024-03-04T21:32:18.018Z"
   },
   {
    "duration": 28,
    "start_time": "2024-03-04T21:32:54.964Z"
   },
   {
    "duration": 28,
    "start_time": "2024-03-04T21:33:08.082Z"
   },
   {
    "duration": 19,
    "start_time": "2024-03-04T21:33:36.152Z"
   },
   {
    "duration": 34,
    "start_time": "2024-03-04T21:34:10.320Z"
   },
   {
    "duration": 6,
    "start_time": "2024-03-04T21:36:53.220Z"
   },
   {
    "duration": 14,
    "start_time": "2024-03-04T21:37:16.515Z"
   },
   {
    "duration": 15,
    "start_time": "2024-03-04T21:40:09.359Z"
   },
   {
    "duration": 63,
    "start_time": "2024-03-04T21:40:38.094Z"
   },
   {
    "duration": 30,
    "start_time": "2024-03-04T21:40:52.319Z"
   },
   {
    "duration": 32,
    "start_time": "2024-03-04T21:41:22.373Z"
   },
   {
    "duration": 10,
    "start_time": "2024-03-04T21:42:09.364Z"
   },
   {
    "duration": 1237,
    "start_time": "2024-03-06T06:56:31.874Z"
   },
   {
    "duration": 614,
    "start_time": "2024-03-06T06:56:33.113Z"
   },
   {
    "duration": 11,
    "start_time": "2024-03-06T06:56:33.729Z"
   },
   {
    "duration": 171,
    "start_time": "2024-03-06T06:56:33.741Z"
   },
   {
    "duration": 8,
    "start_time": "2024-03-06T06:56:33.915Z"
   },
   {
    "duration": 21,
    "start_time": "2024-03-06T06:56:33.924Z"
   },
   {
    "duration": 19,
    "start_time": "2024-03-06T06:56:33.947Z"
   },
   {
    "duration": 15,
    "start_time": "2024-03-06T06:56:33.968Z"
   },
   {
    "duration": 27,
    "start_time": "2024-03-06T06:56:33.985Z"
   },
   {
    "duration": 75,
    "start_time": "2024-03-06T06:56:34.013Z"
   },
   {
    "duration": 65,
    "start_time": "2024-03-06T06:56:34.090Z"
   },
   {
    "duration": 63,
    "start_time": "2024-03-06T06:56:34.165Z"
   },
   {
    "duration": 19,
    "start_time": "2024-03-06T06:56:34.229Z"
   },
   {
    "duration": 7,
    "start_time": "2024-03-06T06:56:34.265Z"
   },
   {
    "duration": 7,
    "start_time": "2024-03-06T06:56:34.273Z"
   },
   {
    "duration": 83,
    "start_time": "2024-03-06T06:56:34.282Z"
   },
   {
    "duration": 7,
    "start_time": "2024-03-06T06:56:34.367Z"
   },
   {
    "duration": 14,
    "start_time": "2024-03-06T06:56:34.376Z"
   },
   {
    "duration": 6,
    "start_time": "2024-03-06T06:56:34.391Z"
   },
   {
    "duration": 15,
    "start_time": "2024-03-06T06:56:34.398Z"
   },
   {
    "duration": 18,
    "start_time": "2024-03-06T06:56:34.414Z"
   },
   {
    "duration": 48,
    "start_time": "2024-03-06T06:56:34.434Z"
   },
   {
    "duration": 367,
    "start_time": "2024-03-06T06:56:34.484Z"
   },
   {
    "duration": 39,
    "start_time": "2024-03-06T06:56:34.853Z"
   },
   {
    "duration": 30,
    "start_time": "2024-03-06T06:56:34.893Z"
   },
   {
    "duration": 6,
    "start_time": "2024-03-06T06:56:34.925Z"
   },
   {
    "duration": 35,
    "start_time": "2024-03-06T06:56:34.932Z"
   },
   {
    "duration": 8,
    "start_time": "2024-03-06T06:56:34.968Z"
   },
   {
    "duration": 22,
    "start_time": "2024-03-06T06:58:43.007Z"
   },
   {
    "duration": 16,
    "start_time": "2024-03-06T06:58:56.590Z"
   },
   {
    "duration": 149,
    "start_time": "2024-03-06T07:00:35.902Z"
   },
   {
    "duration": 36,
    "start_time": "2024-03-06T07:00:45.539Z"
   },
   {
    "duration": 725,
    "start_time": "2024-03-06T07:02:07.346Z"
   },
   {
    "duration": 340,
    "start_time": "2024-03-06T07:03:49.402Z"
   },
   {
    "duration": 76,
    "start_time": "2024-03-06T07:06:20.685Z"
   },
   {
    "duration": 19,
    "start_time": "2024-03-06T07:06:32.955Z"
   },
   {
    "duration": 15,
    "start_time": "2024-03-06T07:07:01.940Z"
   },
   {
    "duration": 29,
    "start_time": "2024-03-06T07:08:46.184Z"
   },
   {
    "duration": 26,
    "start_time": "2024-03-06T07:16:21.653Z"
   },
   {
    "duration": 21,
    "start_time": "2024-03-06T07:16:28.189Z"
   },
   {
    "duration": 17,
    "start_time": "2024-03-06T07:40:33.201Z"
   },
   {
    "duration": 41,
    "start_time": "2024-03-06T07:41:17.624Z"
   },
   {
    "duration": 35,
    "start_time": "2024-03-06T07:43:40.564Z"
   },
   {
    "duration": 1273,
    "start_time": "2024-03-06T11:27:17.317Z"
   },
   {
    "duration": 864,
    "start_time": "2024-03-06T11:27:18.594Z"
   },
   {
    "duration": 10,
    "start_time": "2024-03-06T11:27:19.460Z"
   },
   {
    "duration": 166,
    "start_time": "2024-03-06T11:27:19.472Z"
   },
   {
    "duration": 7,
    "start_time": "2024-03-06T11:27:19.640Z"
   },
   {
    "duration": 34,
    "start_time": "2024-03-06T11:27:19.648Z"
   },
   {
    "duration": 3,
    "start_time": "2024-03-06T11:27:19.684Z"
   },
   {
    "duration": 12,
    "start_time": "2024-03-06T11:27:19.688Z"
   },
   {
    "duration": 20,
    "start_time": "2024-03-06T11:27:19.702Z"
   },
   {
    "duration": 74,
    "start_time": "2024-03-06T11:27:19.724Z"
   },
   {
    "duration": 78,
    "start_time": "2024-03-06T11:27:19.800Z"
   },
   {
    "duration": 59,
    "start_time": "2024-03-06T11:27:19.880Z"
   },
   {
    "duration": 38,
    "start_time": "2024-03-06T11:27:19.940Z"
   },
   {
    "duration": 9,
    "start_time": "2024-03-06T11:27:19.981Z"
   },
   {
    "duration": 8,
    "start_time": "2024-03-06T11:27:19.992Z"
   },
   {
    "duration": 97,
    "start_time": "2024-03-06T11:27:20.002Z"
   },
   {
    "duration": 9,
    "start_time": "2024-03-06T11:27:20.100Z"
   },
   {
    "duration": 26,
    "start_time": "2024-03-06T11:27:20.110Z"
   },
   {
    "duration": 7,
    "start_time": "2024-03-06T11:27:20.138Z"
   },
   {
    "duration": 36,
    "start_time": "2024-03-06T11:27:20.147Z"
   },
   {
    "duration": 35,
    "start_time": "2024-03-06T11:27:20.185Z"
   },
   {
    "duration": 33,
    "start_time": "2024-03-06T11:27:20.222Z"
   },
   {
    "duration": 424,
    "start_time": "2024-03-06T11:27:20.257Z"
   },
   {
    "duration": 38,
    "start_time": "2024-03-06T11:27:20.683Z"
   },
   {
    "duration": 48,
    "start_time": "2024-03-06T11:27:20.722Z"
   },
   {
    "duration": 6,
    "start_time": "2024-03-06T11:27:20.772Z"
   },
   {
    "duration": 20,
    "start_time": "2024-03-06T11:27:20.779Z"
   },
   {
    "duration": 13,
    "start_time": "2024-03-06T11:27:20.800Z"
   },
   {
    "duration": 41,
    "start_time": "2024-03-06T11:27:20.815Z"
   },
   {
    "duration": 51,
    "start_time": "2024-03-06T11:27:20.857Z"
   },
   {
    "duration": 19,
    "start_time": "2024-03-06T11:27:20.910Z"
   },
   {
    "duration": 46,
    "start_time": "2024-03-06T11:27:20.930Z"
   },
   {
    "duration": 1365,
    "start_time": "2024-03-06T16:53:58.366Z"
   },
   {
    "duration": 849,
    "start_time": "2024-03-06T16:53:59.733Z"
   },
   {
    "duration": 11,
    "start_time": "2024-03-06T16:54:00.584Z"
   },
   {
    "duration": 255,
    "start_time": "2024-03-06T16:54:00.596Z"
   },
   {
    "duration": 7,
    "start_time": "2024-03-06T16:54:00.853Z"
   },
   {
    "duration": 80,
    "start_time": "2024-03-06T16:54:00.861Z"
   },
   {
    "duration": 32,
    "start_time": "2024-03-06T16:54:00.943Z"
   },
   {
    "duration": 58,
    "start_time": "2024-03-06T16:54:00.977Z"
   },
   {
    "duration": 110,
    "start_time": "2024-03-06T16:54:01.036Z"
   },
   {
    "duration": 235,
    "start_time": "2024-03-06T16:54:01.147Z"
   },
   {
    "duration": 397,
    "start_time": "2024-03-06T16:54:01.384Z"
   },
   {
    "duration": 186,
    "start_time": "2024-03-06T16:54:01.783Z"
   },
   {
    "duration": 21,
    "start_time": "2024-03-06T16:54:01.971Z"
   },
   {
    "duration": 47,
    "start_time": "2024-03-06T16:54:01.995Z"
   },
   {
    "duration": 35,
    "start_time": "2024-03-06T16:54:02.044Z"
   },
   {
    "duration": 87,
    "start_time": "2024-03-06T16:54:02.081Z"
   },
   {
    "duration": 8,
    "start_time": "2024-03-06T16:54:02.170Z"
   },
   {
    "duration": 31,
    "start_time": "2024-03-06T16:54:02.179Z"
   },
   {
    "duration": 25,
    "start_time": "2024-03-06T16:54:02.212Z"
   },
   {
    "duration": 36,
    "start_time": "2024-03-06T16:54:02.238Z"
   },
   {
    "duration": 34,
    "start_time": "2024-03-06T16:54:02.276Z"
   },
   {
    "duration": 41,
    "start_time": "2024-03-06T16:54:02.312Z"
   },
   {
    "duration": 527,
    "start_time": "2024-03-06T16:54:02.355Z"
   },
   {
    "duration": 36,
    "start_time": "2024-03-06T16:54:02.883Z"
   },
   {
    "duration": 150,
    "start_time": "2024-03-06T16:54:02.920Z"
   },
   {
    "duration": 135,
    "start_time": "2024-03-06T16:54:03.071Z"
   },
   {
    "duration": 52,
    "start_time": "2024-03-06T16:54:03.207Z"
   },
   {
    "duration": 52,
    "start_time": "2024-03-06T16:54:03.260Z"
   },
   {
    "duration": 61,
    "start_time": "2024-03-06T16:54:03.313Z"
   },
   {
    "duration": 53,
    "start_time": "2024-03-06T16:54:03.375Z"
   },
   {
    "duration": 19,
    "start_time": "2024-03-06T16:54:03.430Z"
   },
   {
    "duration": 55,
    "start_time": "2024-03-06T16:54:03.450Z"
   },
   {
    "duration": 126,
    "start_time": "2024-03-06T17:12:33.400Z"
   },
   {
    "duration": 25,
    "start_time": "2024-03-06T17:12:41.440Z"
   },
   {
    "duration": 49,
    "start_time": "2024-03-06T17:46:40.820Z"
   },
   {
    "duration": 17,
    "start_time": "2024-03-06T17:56:44.678Z"
   },
   {
    "duration": 30,
    "start_time": "2024-03-06T17:57:26.531Z"
   },
   {
    "duration": 102,
    "start_time": "2024-03-06T17:58:18.931Z"
   },
   {
    "duration": 52,
    "start_time": "2024-03-06T17:58:27.075Z"
   },
   {
    "duration": 50,
    "start_time": "2024-03-06T17:59:01.178Z"
   },
   {
    "duration": 30,
    "start_time": "2024-03-06T18:23:20.932Z"
   },
   {
    "duration": 145,
    "start_time": "2024-03-06T19:07:23.857Z"
   },
   {
    "duration": 55,
    "start_time": "2024-03-06T19:07:50.660Z"
   },
   {
    "duration": 54,
    "start_time": "2024-03-06T19:09:07.551Z"
   },
   {
    "duration": 12,
    "start_time": "2024-03-06T19:10:27.379Z"
   },
   {
    "duration": 6,
    "start_time": "2024-03-06T19:11:53.515Z"
   },
   {
    "duration": 11,
    "start_time": "2024-03-06T19:14:52.599Z"
   },
   {
    "duration": 12,
    "start_time": "2024-03-06T19:15:44.309Z"
   },
   {
    "duration": 1559,
    "start_time": "2024-03-06T19:54:13.314Z"
   },
   {
    "duration": 60,
    "start_time": "2024-03-06T19:55:03.505Z"
   },
   {
    "duration": 56,
    "start_time": "2024-03-06T19:57:12.494Z"
   },
   {
    "duration": 52,
    "start_time": "2024-03-06T19:57:20.804Z"
   },
   {
    "duration": 1565,
    "start_time": "2024-03-06T19:57:26.772Z"
   },
   {
    "duration": 5,
    "start_time": "2024-03-06T19:58:22.507Z"
   },
   {
    "duration": 1594,
    "start_time": "2024-03-06T20:00:27.353Z"
   },
   {
    "duration": 1659,
    "start_time": "2024-03-06T20:01:03.473Z"
   },
   {
    "duration": 514,
    "start_time": "2024-03-06T20:23:14.938Z"
   },
   {
    "duration": 467,
    "start_time": "2024-03-06T20:24:21.504Z"
   },
   {
    "duration": 421,
    "start_time": "2024-03-06T20:25:19.511Z"
   },
   {
    "duration": 437,
    "start_time": "2024-03-06T20:26:58.684Z"
   },
   {
    "duration": 455,
    "start_time": "2024-03-06T20:28:07.628Z"
   },
   {
    "duration": 4,
    "start_time": "2024-03-06T20:33:04.227Z"
   },
   {
    "duration": 1917,
    "start_time": "2024-03-06T20:33:51.539Z"
   },
   {
    "duration": 52,
    "start_time": "2024-03-06T20:38:09.574Z"
   },
   {
    "duration": 51,
    "start_time": "2024-03-06T20:40:50.193Z"
   },
   {
    "duration": 47,
    "start_time": "2024-03-06T20:41:02.033Z"
   },
   {
    "duration": 109,
    "start_time": "2024-03-06T20:42:39.798Z"
   },
   {
    "duration": 8,
    "start_time": "2024-03-06T20:44:12.253Z"
   },
   {
    "duration": 9,
    "start_time": "2024-03-06T20:44:36.179Z"
   },
   {
    "duration": 49,
    "start_time": "2024-03-06T20:44:53.338Z"
   },
   {
    "duration": 48,
    "start_time": "2024-03-06T20:45:42.593Z"
   },
   {
    "duration": 47,
    "start_time": "2024-03-06T20:47:01.160Z"
   },
   {
    "duration": 1554,
    "start_time": "2024-03-06T20:47:02.320Z"
   },
   {
    "duration": 48,
    "start_time": "2024-03-06T20:47:45.919Z"
   },
   {
    "duration": 14,
    "start_time": "2024-03-06T20:48:11.790Z"
   },
   {
    "duration": 4,
    "start_time": "2024-03-06T20:48:28.590Z"
   },
   {
    "duration": 9,
    "start_time": "2024-03-06T20:49:15.405Z"
   },
   {
    "duration": 10,
    "start_time": "2024-03-06T20:49:47.522Z"
   },
   {
    "duration": 3,
    "start_time": "2024-03-06T20:51:53.050Z"
   },
   {
    "duration": 4,
    "start_time": "2024-03-06T20:52:17.465Z"
   },
   {
    "duration": 8,
    "start_time": "2024-03-06T20:53:53.007Z"
   },
   {
    "duration": 5,
    "start_time": "2024-03-06T20:54:32.646Z"
   },
   {
    "duration": 4,
    "start_time": "2024-03-06T21:12:37.249Z"
   },
   {
    "duration": 3,
    "start_time": "2024-03-06T21:13:01.753Z"
   },
   {
    "duration": 1358,
    "start_time": "2024-03-07T14:14:49.857Z"
   },
   {
    "duration": 664,
    "start_time": "2024-03-07T14:14:51.217Z"
   },
   {
    "duration": 11,
    "start_time": "2024-03-07T14:14:51.883Z"
   },
   {
    "duration": 209,
    "start_time": "2024-03-07T14:14:51.896Z"
   },
   {
    "duration": 8,
    "start_time": "2024-03-07T14:14:52.108Z"
   },
   {
    "duration": 34,
    "start_time": "2024-03-07T14:14:52.118Z"
   },
   {
    "duration": 14,
    "start_time": "2024-03-07T14:14:52.154Z"
   },
   {
    "duration": 24,
    "start_time": "2024-03-07T14:14:52.170Z"
   },
   {
    "duration": 43,
    "start_time": "2024-03-07T14:14:52.196Z"
   },
   {
    "duration": 70,
    "start_time": "2024-03-07T14:14:52.241Z"
   },
   {
    "duration": 66,
    "start_time": "2024-03-07T14:14:52.313Z"
   },
   {
    "duration": 72,
    "start_time": "2024-03-07T14:14:52.381Z"
   },
   {
    "duration": 22,
    "start_time": "2024-03-07T14:14:52.455Z"
   },
   {
    "duration": 12,
    "start_time": "2024-03-07T14:14:52.480Z"
   },
   {
    "duration": 29,
    "start_time": "2024-03-07T14:14:52.494Z"
   },
   {
    "duration": 77,
    "start_time": "2024-03-07T14:14:52.525Z"
   },
   {
    "duration": 24,
    "start_time": "2024-03-07T14:14:52.604Z"
   },
   {
    "duration": 29,
    "start_time": "2024-03-07T14:14:52.630Z"
   },
   {
    "duration": 15,
    "start_time": "2024-03-07T14:14:52.661Z"
   },
   {
    "duration": 35,
    "start_time": "2024-03-07T14:14:52.678Z"
   },
   {
    "duration": 39,
    "start_time": "2024-03-07T14:14:52.714Z"
   },
   {
    "duration": 38,
    "start_time": "2024-03-07T14:14:52.754Z"
   },
   {
    "duration": 433,
    "start_time": "2024-03-07T14:14:52.794Z"
   },
   {
    "duration": 39,
    "start_time": "2024-03-07T14:14:53.229Z"
   },
   {
    "duration": 56,
    "start_time": "2024-03-07T14:14:53.269Z"
   },
   {
    "duration": 8,
    "start_time": "2024-03-07T14:14:53.327Z"
   },
   {
    "duration": 17,
    "start_time": "2024-03-07T14:14:53.337Z"
   },
   {
    "duration": 10,
    "start_time": "2024-03-07T14:14:53.356Z"
   },
   {
    "duration": 61,
    "start_time": "2024-03-07T14:14:53.368Z"
   },
   {
    "duration": 42,
    "start_time": "2024-03-07T14:14:53.431Z"
   },
   {
    "duration": 25,
    "start_time": "2024-03-07T14:14:53.475Z"
   },
   {
    "duration": 64,
    "start_time": "2024-03-07T14:14:53.522Z"
   },
   {
    "duration": 13,
    "start_time": "2024-03-07T14:14:53.587Z"
   },
   {
    "duration": 48,
    "start_time": "2024-03-07T14:14:53.602Z"
   },
   {
    "duration": 54,
    "start_time": "2024-03-07T14:14:53.652Z"
   },
   {
    "duration": 59,
    "start_time": "2024-03-07T14:14:53.722Z"
   },
   {
    "duration": 71,
    "start_time": "2024-03-07T14:14:53.782Z"
   },
   {
    "duration": 4,
    "start_time": "2024-03-07T14:14:53.854Z"
   },
   {
    "duration": 40,
    "start_time": "2024-03-07T14:14:53.860Z"
   },
   {
    "duration": 23,
    "start_time": "2024-03-07T14:14:53.902Z"
   },
   {
    "duration": 34,
    "start_time": "2024-03-07T14:20:16.965Z"
   },
   {
    "duration": 13,
    "start_time": "2024-03-07T18:50:33.426Z"
   },
   {
    "duration": 44,
    "start_time": "2024-03-07T18:58:32.799Z"
   },
   {
    "duration": 1399,
    "start_time": "2024-03-07T21:14:02.061Z"
   },
   {
    "duration": 657,
    "start_time": "2024-03-07T21:14:03.462Z"
   },
   {
    "duration": 12,
    "start_time": "2024-03-07T21:14:04.120Z"
   },
   {
    "duration": 169,
    "start_time": "2024-03-07T21:14:04.134Z"
   },
   {
    "duration": 8,
    "start_time": "2024-03-07T21:14:04.305Z"
   },
   {
    "duration": 26,
    "start_time": "2024-03-07T21:14:04.314Z"
   },
   {
    "duration": 3,
    "start_time": "2024-03-07T21:14:04.342Z"
   },
   {
    "duration": 36,
    "start_time": "2024-03-07T21:14:04.347Z"
   },
   {
    "duration": 18,
    "start_time": "2024-03-07T21:14:04.385Z"
   },
   {
    "duration": 79,
    "start_time": "2024-03-07T21:14:04.404Z"
   },
   {
    "duration": 63,
    "start_time": "2024-03-07T21:14:04.485Z"
   },
   {
    "duration": 87,
    "start_time": "2024-03-07T21:14:04.549Z"
   },
   {
    "duration": 23,
    "start_time": "2024-03-07T21:14:04.637Z"
   },
   {
    "duration": 24,
    "start_time": "2024-03-07T21:14:04.663Z"
   },
   {
    "duration": 9,
    "start_time": "2024-03-07T21:14:04.689Z"
   },
   {
    "duration": 89,
    "start_time": "2024-03-07T21:14:04.700Z"
   },
   {
    "duration": 9,
    "start_time": "2024-03-07T21:14:04.791Z"
   },
   {
    "duration": 25,
    "start_time": "2024-03-07T21:14:04.802Z"
   },
   {
    "duration": 11,
    "start_time": "2024-03-07T21:14:04.828Z"
   },
   {
    "duration": 18,
    "start_time": "2024-03-07T21:14:04.841Z"
   },
   {
    "duration": 36,
    "start_time": "2024-03-07T21:14:04.861Z"
   },
   {
    "duration": 20,
    "start_time": "2024-03-07T21:14:04.898Z"
   },
   {
    "duration": 426,
    "start_time": "2024-03-07T21:14:04.920Z"
   },
   {
    "duration": 44,
    "start_time": "2024-03-07T21:14:05.347Z"
   },
   {
    "duration": 34,
    "start_time": "2024-03-07T21:14:05.392Z"
   },
   {
    "duration": 6,
    "start_time": "2024-03-07T21:14:05.427Z"
   },
   {
    "duration": 20,
    "start_time": "2024-03-07T21:14:05.434Z"
   },
   {
    "duration": 28,
    "start_time": "2024-03-07T21:14:05.456Z"
   },
   {
    "duration": 35,
    "start_time": "2024-03-07T21:14:05.485Z"
   },
   {
    "duration": 60,
    "start_time": "2024-03-07T21:14:05.522Z"
   },
   {
    "duration": 19,
    "start_time": "2024-03-07T21:14:05.584Z"
   },
   {
    "duration": 92,
    "start_time": "2024-03-07T21:14:05.604Z"
   },
   {
    "duration": 18,
    "start_time": "2024-03-07T21:14:05.699Z"
   },
   {
    "duration": 36,
    "start_time": "2024-03-07T21:14:05.718Z"
   },
   {
    "duration": 81,
    "start_time": "2024-03-07T21:14:05.756Z"
   },
   {
    "duration": 93,
    "start_time": "2024-03-07T21:14:05.840Z"
   },
   {
    "duration": 78,
    "start_time": "2024-03-07T21:14:05.935Z"
   },
   {
    "duration": 6,
    "start_time": "2024-03-07T21:14:06.015Z"
   },
   {
    "duration": 56,
    "start_time": "2024-03-07T21:14:06.022Z"
   },
   {
    "duration": 40,
    "start_time": "2024-03-07T21:14:06.079Z"
   },
   {
    "duration": 39,
    "start_time": "2024-03-07T21:14:06.123Z"
   },
   {
    "duration": 11,
    "start_time": "2024-03-07T21:14:06.164Z"
   },
   {
    "duration": 49,
    "start_time": "2024-03-07T21:14:06.177Z"
   },
   {
    "duration": 104,
    "start_time": "2024-03-07T21:14:06.228Z"
   },
   {
    "duration": 1424,
    "start_time": "2024-03-09T19:47:20.445Z"
   },
   {
    "duration": 831,
    "start_time": "2024-03-09T19:47:21.872Z"
   },
   {
    "duration": 11,
    "start_time": "2024-03-09T19:47:22.705Z"
   },
   {
    "duration": 183,
    "start_time": "2024-03-09T19:47:22.718Z"
   },
   {
    "duration": 7,
    "start_time": "2024-03-09T19:47:22.904Z"
   },
   {
    "duration": 26,
    "start_time": "2024-03-09T19:47:22.912Z"
   },
   {
    "duration": 3,
    "start_time": "2024-03-09T19:47:22.939Z"
   },
   {
    "duration": 20,
    "start_time": "2024-03-09T19:47:22.944Z"
   },
   {
    "duration": 19,
    "start_time": "2024-03-09T19:47:22.966Z"
   },
   {
    "duration": 63,
    "start_time": "2024-03-09T19:47:22.986Z"
   },
   {
    "duration": 79,
    "start_time": "2024-03-09T19:47:23.052Z"
   },
   {
    "duration": 71,
    "start_time": "2024-03-09T19:47:23.133Z"
   },
   {
    "duration": 23,
    "start_time": "2024-03-09T19:47:23.206Z"
   },
   {
    "duration": 8,
    "start_time": "2024-03-09T19:47:23.232Z"
   },
   {
    "duration": 8,
    "start_time": "2024-03-09T19:47:23.242Z"
   },
   {
    "duration": 79,
    "start_time": "2024-03-09T19:47:23.272Z"
   },
   {
    "duration": 21,
    "start_time": "2024-03-09T19:47:23.352Z"
   },
   {
    "duration": 23,
    "start_time": "2024-03-09T19:47:23.375Z"
   },
   {
    "duration": 23,
    "start_time": "2024-03-09T19:47:23.399Z"
   },
   {
    "duration": 20,
    "start_time": "2024-03-09T19:47:23.424Z"
   },
   {
    "duration": 34,
    "start_time": "2024-03-09T19:47:23.445Z"
   },
   {
    "duration": 27,
    "start_time": "2024-03-09T19:47:23.481Z"
   },
   {
    "duration": 405,
    "start_time": "2024-03-09T19:47:23.510Z"
   },
   {
    "duration": 43,
    "start_time": "2024-03-09T19:47:23.916Z"
   },
   {
    "duration": 35,
    "start_time": "2024-03-09T19:47:23.973Z"
   },
   {
    "duration": 7,
    "start_time": "2024-03-09T19:47:24.010Z"
   },
   {
    "duration": 15,
    "start_time": "2024-03-09T19:47:24.018Z"
   },
   {
    "duration": 8,
    "start_time": "2024-03-09T19:47:24.035Z"
   },
   {
    "duration": 36,
    "start_time": "2024-03-09T19:47:24.077Z"
   },
   {
    "duration": 45,
    "start_time": "2024-03-09T19:47:24.114Z"
   },
   {
    "duration": 19,
    "start_time": "2024-03-09T19:47:24.173Z"
   },
   {
    "duration": 58,
    "start_time": "2024-03-09T19:47:24.193Z"
   },
   {
    "duration": 31,
    "start_time": "2024-03-09T19:47:24.253Z"
   },
   {
    "duration": 32,
    "start_time": "2024-03-09T19:47:24.285Z"
   },
   {
    "duration": 68,
    "start_time": "2024-03-09T19:47:24.318Z"
   },
   {
    "duration": 54,
    "start_time": "2024-03-09T19:47:24.388Z"
   },
   {
    "duration": 67,
    "start_time": "2024-03-09T19:47:24.444Z"
   },
   {
    "duration": 5,
    "start_time": "2024-03-09T19:47:24.512Z"
   },
   {
    "duration": 5,
    "start_time": "2024-03-09T19:47:24.518Z"
   },
   {
    "duration": 5,
    "start_time": "2024-03-09T19:47:24.524Z"
   },
   {
    "duration": 56,
    "start_time": "2024-03-09T19:47:24.533Z"
   },
   {
    "duration": 9,
    "start_time": "2024-03-09T19:47:24.591Z"
   },
   {
    "duration": 25,
    "start_time": "2024-03-09T19:47:24.601Z"
   },
   {
    "duration": 125,
    "start_time": "2024-03-09T19:47:24.627Z"
   },
   {
    "duration": 1511,
    "start_time": "2024-03-09T19:51:17.813Z"
   },
   {
    "duration": 30,
    "start_time": "2024-03-09T19:51:27.034Z"
   },
   {
    "duration": 4,
    "start_time": "2024-03-09T19:51:29.762Z"
   },
   {
    "duration": 7,
    "start_time": "2024-03-09T19:51:41.779Z"
   },
   {
    "duration": 54,
    "start_time": "2024-03-10T21:20:49.308Z"
   },
   {
    "duration": 7,
    "start_time": "2024-03-10T21:21:20.858Z"
   },
   {
    "duration": 1361,
    "start_time": "2024-03-10T21:21:27.166Z"
   },
   {
    "duration": 688,
    "start_time": "2024-03-10T21:21:28.529Z"
   },
   {
    "duration": 17,
    "start_time": "2024-03-10T21:21:29.218Z"
   },
   {
    "duration": 194,
    "start_time": "2024-03-10T21:21:29.239Z"
   },
   {
    "duration": 10,
    "start_time": "2024-03-10T21:21:29.437Z"
   },
   {
    "duration": 34,
    "start_time": "2024-03-10T21:21:29.448Z"
   },
   {
    "duration": 4,
    "start_time": "2024-03-10T21:21:29.484Z"
   },
   {
    "duration": 14,
    "start_time": "2024-03-10T21:21:29.489Z"
   },
   {
    "duration": 46,
    "start_time": "2024-03-10T21:21:29.505Z"
   },
   {
    "duration": 78,
    "start_time": "2024-03-10T21:21:29.553Z"
   },
   {
    "duration": 66,
    "start_time": "2024-03-10T21:21:29.634Z"
   },
   {
    "duration": 79,
    "start_time": "2024-03-10T21:21:29.702Z"
   },
   {
    "duration": 21,
    "start_time": "2024-03-10T21:21:29.783Z"
   },
   {
    "duration": 12,
    "start_time": "2024-03-10T21:21:29.828Z"
   },
   {
    "duration": 22,
    "start_time": "2024-03-10T21:21:29.843Z"
   },
   {
    "duration": 112,
    "start_time": "2024-03-10T21:21:29.866Z"
   },
   {
    "duration": 9,
    "start_time": "2024-03-10T21:21:29.980Z"
   },
   {
    "duration": 24,
    "start_time": "2024-03-10T21:21:29.991Z"
   },
   {
    "duration": 34,
    "start_time": "2024-03-10T21:21:30.016Z"
   },
   {
    "duration": 51,
    "start_time": "2024-03-10T21:21:30.051Z"
   },
   {
    "duration": 85,
    "start_time": "2024-03-10T21:21:30.103Z"
   },
   {
    "duration": 84,
    "start_time": "2024-03-10T21:21:30.190Z"
   },
   {
    "duration": 507,
    "start_time": "2024-03-10T21:21:30.276Z"
   },
   {
    "duration": 57,
    "start_time": "2024-03-10T21:21:30.785Z"
   },
   {
    "duration": 39,
    "start_time": "2024-03-10T21:21:30.844Z"
   },
   {
    "duration": 23,
    "start_time": "2024-03-10T21:21:30.885Z"
   },
   {
    "duration": 62,
    "start_time": "2024-03-10T21:21:30.910Z"
   },
   {
    "duration": 59,
    "start_time": "2024-03-10T21:21:30.974Z"
   },
   {
    "duration": 74,
    "start_time": "2024-03-10T21:21:31.035Z"
   },
   {
    "duration": 52,
    "start_time": "2024-03-10T21:21:31.110Z"
   },
   {
    "duration": 19,
    "start_time": "2024-03-10T21:21:31.163Z"
   },
   {
    "duration": 96,
    "start_time": "2024-03-10T21:21:31.184Z"
   },
   {
    "duration": 14,
    "start_time": "2024-03-10T21:21:31.281Z"
   },
   {
    "duration": 84,
    "start_time": "2024-03-10T21:21:31.297Z"
   },
   {
    "duration": 85,
    "start_time": "2024-03-10T21:21:31.383Z"
   },
   {
    "duration": 71,
    "start_time": "2024-03-10T21:21:31.470Z"
   },
   {
    "duration": 67,
    "start_time": "2024-03-10T21:21:31.543Z"
   },
   {
    "duration": 5,
    "start_time": "2024-03-10T21:21:31.622Z"
   },
   {
    "duration": 40,
    "start_time": "2024-03-10T21:21:31.629Z"
   },
   {
    "duration": 42,
    "start_time": "2024-03-10T21:21:31.670Z"
   },
   {
    "duration": 55,
    "start_time": "2024-03-10T21:21:31.716Z"
   },
   {
    "duration": 31,
    "start_time": "2024-03-10T21:21:31.772Z"
   },
   {
    "duration": 35,
    "start_time": "2024-03-10T21:21:31.804Z"
   },
   {
    "duration": 65,
    "start_time": "2024-03-10T21:21:31.841Z"
   },
   {
    "duration": 0,
    "start_time": "2024-03-10T21:21:31.908Z"
   },
   {
    "duration": 0,
    "start_time": "2024-03-10T21:21:31.909Z"
   },
   {
    "duration": 34,
    "start_time": "2024-03-10T21:22:13.544Z"
   },
   {
    "duration": 31,
    "start_time": "2024-03-10T21:22:24.720Z"
   },
   {
    "duration": 7,
    "start_time": "2024-03-10T21:22:30.199Z"
   },
   {
    "duration": 28,
    "start_time": "2024-03-10T21:27:36.840Z"
   },
   {
    "duration": 28,
    "start_time": "2024-03-10T21:27:47.776Z"
   },
   {
    "duration": 32,
    "start_time": "2024-03-10T21:28:53.949Z"
   },
   {
    "duration": 23,
    "start_time": "2024-03-10T21:29:53.661Z"
   },
   {
    "duration": 1409,
    "start_time": "2024-03-11T07:49:59.220Z"
   },
   {
    "duration": 690,
    "start_time": "2024-03-11T07:50:00.631Z"
   },
   {
    "duration": 12,
    "start_time": "2024-03-11T07:50:01.323Z"
   },
   {
    "duration": 219,
    "start_time": "2024-03-11T07:50:01.337Z"
   },
   {
    "duration": 8,
    "start_time": "2024-03-11T07:50:01.559Z"
   },
   {
    "duration": 56,
    "start_time": "2024-03-11T07:50:01.568Z"
   },
   {
    "duration": 55,
    "start_time": "2024-03-11T07:50:01.626Z"
   },
   {
    "duration": 53,
    "start_time": "2024-03-11T07:50:01.683Z"
   },
   {
    "duration": 43,
    "start_time": "2024-03-11T07:50:01.738Z"
   },
   {
    "duration": 83,
    "start_time": "2024-03-11T07:50:01.783Z"
   },
   {
    "duration": 71,
    "start_time": "2024-03-11T07:50:01.868Z"
   },
   {
    "duration": 65,
    "start_time": "2024-03-11T07:50:01.940Z"
   },
   {
    "duration": 32,
    "start_time": "2024-03-11T07:50:02.007Z"
   },
   {
    "duration": 28,
    "start_time": "2024-03-11T07:50:02.042Z"
   },
   {
    "duration": 50,
    "start_time": "2024-03-11T07:50:02.072Z"
   },
   {
    "duration": 117,
    "start_time": "2024-03-11T07:50:02.123Z"
   },
   {
    "duration": 29,
    "start_time": "2024-03-11T07:50:02.241Z"
   },
   {
    "duration": 39,
    "start_time": "2024-03-11T07:50:02.271Z"
   },
   {
    "duration": 20,
    "start_time": "2024-03-11T07:50:02.311Z"
   },
   {
    "duration": 67,
    "start_time": "2024-03-11T07:50:02.333Z"
   },
   {
    "duration": 66,
    "start_time": "2024-03-11T07:50:02.402Z"
   },
   {
    "duration": 52,
    "start_time": "2024-03-11T07:50:02.470Z"
   },
   {
    "duration": 446,
    "start_time": "2024-03-11T07:50:02.524Z"
   },
   {
    "duration": 40,
    "start_time": "2024-03-11T07:50:02.972Z"
   },
   {
    "duration": 38,
    "start_time": "2024-03-11T07:50:03.023Z"
   },
   {
    "duration": 46,
    "start_time": "2024-03-11T07:50:03.063Z"
   },
   {
    "duration": 71,
    "start_time": "2024-03-11T07:50:03.111Z"
   },
   {
    "duration": 28,
    "start_time": "2024-03-11T07:50:03.184Z"
   },
   {
    "duration": 55,
    "start_time": "2024-03-11T07:50:03.214Z"
   },
   {
    "duration": 42,
    "start_time": "2024-03-11T07:50:03.270Z"
   },
   {
    "duration": 19,
    "start_time": "2024-03-11T07:50:03.313Z"
   },
   {
    "duration": 63,
    "start_time": "2024-03-11T07:50:03.334Z"
   },
   {
    "duration": 33,
    "start_time": "2024-03-11T07:50:03.399Z"
   },
   {
    "duration": 35,
    "start_time": "2024-03-11T07:50:03.434Z"
   },
   {
    "duration": 82,
    "start_time": "2024-03-11T07:50:03.471Z"
   },
   {
    "duration": 71,
    "start_time": "2024-03-11T07:50:03.555Z"
   },
   {
    "duration": 58,
    "start_time": "2024-03-11T07:50:03.628Z"
   },
   {
    "duration": 4,
    "start_time": "2024-03-11T07:50:03.687Z"
   },
   {
    "duration": 32,
    "start_time": "2024-03-11T07:50:03.693Z"
   },
   {
    "duration": 33,
    "start_time": "2024-03-11T07:50:03.726Z"
   },
   {
    "duration": 47,
    "start_time": "2024-03-11T07:50:03.763Z"
   },
   {
    "duration": 30,
    "start_time": "2024-03-11T07:50:03.812Z"
   },
   {
    "duration": 151,
    "start_time": "2024-03-11T07:50:03.845Z"
   },
   {
    "duration": 0,
    "start_time": "2024-03-11T07:50:03.998Z"
   },
   {
    "duration": 0,
    "start_time": "2024-03-11T07:50:03.999Z"
   },
   {
    "duration": 1,
    "start_time": "2024-03-11T07:50:04.000Z"
   },
   {
    "duration": 33,
    "start_time": "2024-03-11T07:57:55.797Z"
   },
   {
    "duration": 6,
    "start_time": "2024-03-11T07:58:03.810Z"
   },
   {
    "duration": 87,
    "start_time": "2024-03-11T07:58:05.035Z"
   },
   {
    "duration": 4,
    "start_time": "2024-03-11T07:58:53.434Z"
   },
   {
    "duration": 9,
    "start_time": "2024-03-11T07:59:04.801Z"
   },
   {
    "duration": 18,
    "start_time": "2024-03-11T08:04:51.929Z"
   },
   {
    "duration": 35,
    "start_time": "2024-03-11T08:04:54.785Z"
   },
   {
    "duration": 7,
    "start_time": "2024-03-11T08:05:03.241Z"
   },
   {
    "duration": 36,
    "start_time": "2024-03-11T08:07:06.637Z"
   },
   {
    "duration": 79,
    "start_time": "2024-03-11T08:07:32.461Z"
   },
   {
    "duration": 19,
    "start_time": "2024-03-11T08:11:52.670Z"
   },
   {
    "duration": 35,
    "start_time": "2024-03-11T08:11:55.223Z"
   },
   {
    "duration": 38,
    "start_time": "2024-03-11T08:12:12.005Z"
   },
   {
    "duration": 39,
    "start_time": "2024-03-11T08:12:21.917Z"
   },
   {
    "duration": 24,
    "start_time": "2024-03-11T08:12:30.908Z"
   },
   {
    "duration": 39,
    "start_time": "2024-03-11T08:16:45.161Z"
   },
   {
    "duration": 18,
    "start_time": "2024-03-11T08:17:05.445Z"
   },
   {
    "duration": 38,
    "start_time": "2024-03-11T08:17:05.925Z"
   },
   {
    "duration": 5,
    "start_time": "2024-03-11T08:17:06.822Z"
   },
   {
    "duration": 9,
    "start_time": "2024-03-11T08:17:09.278Z"
   },
   {
    "duration": 42,
    "start_time": "2024-03-11T08:32:05.093Z"
   },
   {
    "duration": 40,
    "start_time": "2024-03-11T08:32:24.197Z"
   },
   {
    "duration": 41,
    "start_time": "2024-03-11T08:32:45.525Z"
   },
   {
    "duration": 13,
    "start_time": "2024-03-11T09:23:04.934Z"
   },
   {
    "duration": 12,
    "start_time": "2024-03-11T09:23:28.340Z"
   },
   {
    "duration": 4,
    "start_time": "2024-03-11T09:23:55.899Z"
   },
   {
    "duration": 14,
    "start_time": "2024-03-11T09:24:03.058Z"
   },
   {
    "duration": 12,
    "start_time": "2024-03-11T09:27:27.893Z"
   },
   {
    "duration": 15,
    "start_time": "2024-03-11T09:28:16.108Z"
   },
   {
    "duration": 19,
    "start_time": "2024-03-11T09:30:13.482Z"
   },
   {
    "duration": 3,
    "start_time": "2024-03-11T09:30:50.488Z"
   },
   {
    "duration": 8,
    "start_time": "2024-03-11T09:30:56.337Z"
   },
   {
    "duration": 8,
    "start_time": "2024-03-11T09:31:54.871Z"
   },
   {
    "duration": 8,
    "start_time": "2024-03-11T09:32:36.558Z"
   },
   {
    "duration": 11,
    "start_time": "2024-03-11T09:33:10.508Z"
   },
   {
    "duration": 42,
    "start_time": "2024-03-11T09:34:32.130Z"
   },
   {
    "duration": 44,
    "start_time": "2024-03-11T10:53:15.072Z"
   },
   {
    "duration": 51,
    "start_time": "2024-03-11T10:53:27.838Z"
   },
   {
    "duration": 39,
    "start_time": "2024-03-11T10:53:29.006Z"
   },
   {
    "duration": 6,
    "start_time": "2024-03-11T10:53:31.638Z"
   },
   {
    "duration": 9,
    "start_time": "2024-03-11T10:53:32.302Z"
   },
   {
    "duration": 7,
    "start_time": "2024-03-11T10:53:33.374Z"
   },
   {
    "duration": 10,
    "start_time": "2024-03-11T10:53:36.503Z"
   },
   {
    "duration": 8,
    "start_time": "2024-03-11T10:53:38.838Z"
   },
   {
    "duration": 10,
    "start_time": "2024-03-11T10:53:43.318Z"
   },
   {
    "duration": 7,
    "start_time": "2024-03-11T11:10:54.790Z"
   },
   {
    "duration": 41,
    "start_time": "2024-03-11T11:11:02.269Z"
   },
   {
    "duration": 8,
    "start_time": "2024-03-11T11:11:03.006Z"
   },
   {
    "duration": 9,
    "start_time": "2024-03-11T11:11:06.830Z"
   },
   {
    "duration": 8,
    "start_time": "2024-03-11T11:11:08.373Z"
   },
   {
    "duration": 8,
    "start_time": "2024-03-11T11:11:10.509Z"
   },
   {
    "duration": 76,
    "start_time": "2024-03-11T11:14:05.686Z"
   },
   {
    "duration": 46,
    "start_time": "2024-03-11T11:14:05.941Z"
   },
   {
    "duration": 9,
    "start_time": "2024-03-11T11:21:19.831Z"
   },
   {
    "duration": 8,
    "start_time": "2024-03-11T11:21:22.559Z"
   },
   {
    "duration": 9,
    "start_time": "2024-03-11T11:21:24.254Z"
   },
   {
    "duration": 8,
    "start_time": "2024-03-11T11:21:25.774Z"
   },
   {
    "duration": 8,
    "start_time": "2024-03-11T12:00:24.530Z"
   },
   {
    "duration": 8,
    "start_time": "2024-03-11T12:03:33.031Z"
   },
   {
    "duration": 8,
    "start_time": "2024-03-11T12:06:27.371Z"
   },
   {
    "duration": 13,
    "start_time": "2024-03-11T12:09:00.305Z"
   },
   {
    "duration": 10,
    "start_time": "2024-03-11T12:17:01.282Z"
   },
   {
    "duration": 8,
    "start_time": "2024-03-11T12:17:21.497Z"
   },
   {
    "duration": 16,
    "start_time": "2024-03-11T12:17:33.681Z"
   },
   {
    "duration": 7,
    "start_time": "2024-03-11T12:18:00.809Z"
   },
   {
    "duration": 13,
    "start_time": "2024-03-11T12:18:10.057Z"
   },
   {
    "duration": 3,
    "start_time": "2024-03-11T12:18:43.431Z"
   },
   {
    "duration": 383,
    "start_time": "2024-03-11T12:18:43.436Z"
   },
   {
    "duration": 7,
    "start_time": "2024-03-11T12:18:43.821Z"
   },
   {
    "duration": 181,
    "start_time": "2024-03-11T12:18:43.830Z"
   },
   {
    "duration": 10,
    "start_time": "2024-03-11T12:18:44.014Z"
   },
   {
    "duration": 25,
    "start_time": "2024-03-11T12:18:44.025Z"
   },
   {
    "duration": 7,
    "start_time": "2024-03-11T12:18:44.052Z"
   },
   {
    "duration": 9,
    "start_time": "2024-03-11T12:18:44.061Z"
   },
   {
    "duration": 20,
    "start_time": "2024-03-11T12:18:44.072Z"
   },
   {
    "duration": 89,
    "start_time": "2024-03-11T12:18:44.094Z"
   },
   {
    "duration": 83,
    "start_time": "2024-03-11T12:18:44.185Z"
   },
   {
    "duration": 71,
    "start_time": "2024-03-11T12:18:44.270Z"
   },
   {
    "duration": 24,
    "start_time": "2024-03-11T12:18:44.343Z"
   },
   {
    "duration": 8,
    "start_time": "2024-03-11T12:18:44.371Z"
   },
   {
    "duration": 9,
    "start_time": "2024-03-11T12:18:44.381Z"
   },
   {
    "duration": 108,
    "start_time": "2024-03-11T12:18:44.392Z"
   },
   {
    "duration": 28,
    "start_time": "2024-03-11T12:18:44.502Z"
   },
   {
    "duration": 25,
    "start_time": "2024-03-11T12:18:44.531Z"
   },
   {
    "duration": 8,
    "start_time": "2024-03-11T12:18:44.558Z"
   },
   {
    "duration": 18,
    "start_time": "2024-03-11T12:18:44.568Z"
   },
   {
    "duration": 40,
    "start_time": "2024-03-11T12:18:44.587Z"
   },
   {
    "duration": 25,
    "start_time": "2024-03-11T12:18:44.629Z"
   },
   {
    "duration": 453,
    "start_time": "2024-03-11T12:18:44.656Z"
   },
   {
    "duration": 39,
    "start_time": "2024-03-11T12:18:45.111Z"
   },
   {
    "duration": 101,
    "start_time": "2024-03-11T12:18:45.152Z"
   },
   {
    "duration": 59,
    "start_time": "2024-03-11T12:18:45.254Z"
   },
   {
    "duration": 63,
    "start_time": "2024-03-11T12:18:45.315Z"
   },
   {
    "duration": 31,
    "start_time": "2024-03-11T12:18:45.379Z"
   },
   {
    "duration": 48,
    "start_time": "2024-03-11T12:18:45.411Z"
   },
   {
    "duration": 46,
    "start_time": "2024-03-11T12:18:45.461Z"
   },
   {
    "duration": 22,
    "start_time": "2024-03-11T12:18:45.509Z"
   },
   {
    "duration": 71,
    "start_time": "2024-03-11T12:18:45.532Z"
   },
   {
    "duration": 19,
    "start_time": "2024-03-11T12:18:45.605Z"
   },
   {
    "duration": 36,
    "start_time": "2024-03-11T12:18:45.626Z"
   },
   {
    "duration": 68,
    "start_time": "2024-03-11T12:18:45.663Z"
   },
   {
    "duration": 61,
    "start_time": "2024-03-11T12:18:45.732Z"
   },
   {
    "duration": 77,
    "start_time": "2024-03-11T12:18:45.795Z"
   },
   {
    "duration": 5,
    "start_time": "2024-03-11T12:18:45.873Z"
   },
   {
    "duration": 6,
    "start_time": "2024-03-11T12:18:45.879Z"
   },
   {
    "duration": 18,
    "start_time": "2024-03-11T12:18:45.886Z"
   },
   {
    "duration": 32,
    "start_time": "2024-03-11T12:18:45.922Z"
   },
   {
    "duration": 38,
    "start_time": "2024-03-11T12:18:45.956Z"
   },
   {
    "duration": 54,
    "start_time": "2024-03-11T12:18:45.996Z"
   },
   {
    "duration": 5,
    "start_time": "2024-03-11T12:18:46.052Z"
   },
   {
    "duration": 18,
    "start_time": "2024-03-11T12:18:46.058Z"
   },
   {
    "duration": 17,
    "start_time": "2024-03-11T12:18:46.078Z"
   },
   {
    "duration": 20,
    "start_time": "2024-03-11T12:18:46.096Z"
   },
   {
    "duration": 10,
    "start_time": "2024-03-11T12:18:46.118Z"
   },
   {
    "duration": 9,
    "start_time": "2024-03-11T12:18:46.130Z"
   },
   {
    "duration": 43,
    "start_time": "2024-03-11T12:18:46.140Z"
   },
   {
    "duration": 8,
    "start_time": "2024-03-11T12:18:46.185Z"
   },
   {
    "duration": 31,
    "start_time": "2024-03-11T12:18:46.194Z"
   },
   {
    "duration": 14,
    "start_time": "2024-03-11T12:18:46.226Z"
   },
   {
    "duration": 24,
    "start_time": "2024-03-11T12:18:46.242Z"
   },
   {
    "duration": 27,
    "start_time": "2024-03-11T12:18:46.267Z"
   },
   {
    "duration": 16,
    "start_time": "2024-03-11T12:18:46.296Z"
   },
   {
    "duration": 46,
    "start_time": "2024-03-11T12:18:46.313Z"
   },
   {
    "duration": 45,
    "start_time": "2024-03-11T12:18:46.361Z"
   },
   {
    "duration": 15,
    "start_time": "2024-03-11T12:18:46.408Z"
   },
   {
    "duration": 29,
    "start_time": "2024-03-11T12:18:46.424Z"
   },
   {
    "duration": 0,
    "start_time": "2024-03-11T12:18:46.455Z"
   },
   {
    "duration": 8,
    "start_time": "2024-03-11T12:19:28.895Z"
   },
   {
    "duration": 8,
    "start_time": "2024-03-11T12:19:39.631Z"
   },
   {
    "duration": 9,
    "start_time": "2024-03-11T12:21:15.108Z"
   },
   {
    "duration": 7,
    "start_time": "2024-03-11T12:21:17.116Z"
   },
   {
    "duration": 8,
    "start_time": "2024-03-11T12:21:20.491Z"
   },
   {
    "duration": 22,
    "start_time": "2024-03-11T16:33:42.601Z"
   },
   {
    "duration": 18,
    "start_time": "2024-03-11T16:38:13.736Z"
   },
   {
    "duration": 5,
    "start_time": "2024-03-11T17:52:46.219Z"
   },
   {
    "duration": 367,
    "start_time": "2024-03-11T17:52:46.227Z"
   },
   {
    "duration": 8,
    "start_time": "2024-03-11T17:52:46.595Z"
   },
   {
    "duration": 174,
    "start_time": "2024-03-11T17:52:46.605Z"
   },
   {
    "duration": 9,
    "start_time": "2024-03-11T17:52:46.781Z"
   },
   {
    "duration": 47,
    "start_time": "2024-03-11T17:52:46.792Z"
   },
   {
    "duration": 3,
    "start_time": "2024-03-11T17:52:46.842Z"
   },
   {
    "duration": 8,
    "start_time": "2024-03-11T17:52:46.847Z"
   },
   {
    "duration": 18,
    "start_time": "2024-03-11T17:52:46.857Z"
   },
   {
    "duration": 90,
    "start_time": "2024-03-11T17:52:46.877Z"
   },
   {
    "duration": 68,
    "start_time": "2024-03-11T17:52:46.968Z"
   },
   {
    "duration": 58,
    "start_time": "2024-03-11T17:52:47.038Z"
   },
   {
    "duration": 33,
    "start_time": "2024-03-11T17:52:47.098Z"
   },
   {
    "duration": 7,
    "start_time": "2024-03-11T17:52:47.136Z"
   },
   {
    "duration": 9,
    "start_time": "2024-03-11T17:52:47.145Z"
   },
   {
    "duration": 105,
    "start_time": "2024-03-11T17:52:47.156Z"
   },
   {
    "duration": 11,
    "start_time": "2024-03-11T17:52:47.263Z"
   },
   {
    "duration": 18,
    "start_time": "2024-03-11T17:52:47.276Z"
   },
   {
    "duration": 28,
    "start_time": "2024-03-11T17:52:47.296Z"
   },
   {
    "duration": 19,
    "start_time": "2024-03-11T17:52:47.326Z"
   },
   {
    "duration": 21,
    "start_time": "2024-03-11T17:52:47.347Z"
   },
   {
    "duration": 23,
    "start_time": "2024-03-11T17:52:47.370Z"
   },
   {
    "duration": 467,
    "start_time": "2024-03-11T17:52:47.395Z"
   },
   {
    "duration": 38,
    "start_time": "2024-03-11T17:52:47.864Z"
   },
   {
    "duration": 55,
    "start_time": "2024-03-11T17:52:47.904Z"
   },
   {
    "duration": 7,
    "start_time": "2024-03-11T17:52:47.961Z"
   },
   {
    "duration": 16,
    "start_time": "2024-03-11T17:52:47.969Z"
   },
   {
    "duration": 58,
    "start_time": "2024-03-11T17:52:47.987Z"
   },
   {
    "duration": 10,
    "start_time": "2024-03-11T17:52:48.046Z"
   },
   {
    "duration": 35,
    "start_time": "2024-03-11T17:52:48.058Z"
   },
   {
    "duration": 74,
    "start_time": "2024-03-11T17:52:48.095Z"
   },
   {
    "duration": 23,
    "start_time": "2024-03-11T17:52:48.171Z"
   },
   {
    "duration": 82,
    "start_time": "2024-03-11T17:52:48.195Z"
   },
   {
    "duration": 14,
    "start_time": "2024-03-11T17:52:48.279Z"
   },
   {
    "duration": 62,
    "start_time": "2024-03-11T17:52:48.294Z"
   },
   {
    "duration": 80,
    "start_time": "2024-03-11T17:52:48.358Z"
   },
   {
    "duration": 61,
    "start_time": "2024-03-11T17:52:48.440Z"
   },
   {
    "duration": 76,
    "start_time": "2024-03-11T17:52:48.503Z"
   },
   {
    "duration": 5,
    "start_time": "2024-03-11T17:52:48.580Z"
   },
   {
    "duration": 9,
    "start_time": "2024-03-11T17:52:48.586Z"
   },
   {
    "duration": 4,
    "start_time": "2024-03-11T17:52:48.599Z"
   },
   {
    "duration": 43,
    "start_time": "2024-03-11T17:52:48.622Z"
   },
   {
    "duration": 40,
    "start_time": "2024-03-11T17:52:48.666Z"
   },
   {
    "duration": 61,
    "start_time": "2024-03-11T17:52:48.707Z"
   },
   {
    "duration": 5,
    "start_time": "2024-03-11T17:52:48.770Z"
   },
   {
    "duration": 9,
    "start_time": "2024-03-11T17:52:48.776Z"
   },
   {
    "duration": 81,
    "start_time": "2024-03-11T17:52:48.787Z"
   },
   {
    "duration": 0,
    "start_time": "2024-03-11T17:52:48.869Z"
   },
   {
    "duration": 0,
    "start_time": "2024-03-11T17:52:48.870Z"
   },
   {
    "duration": 0,
    "start_time": "2024-03-11T17:52:48.872Z"
   },
   {
    "duration": 0,
    "start_time": "2024-03-11T17:52:48.873Z"
   },
   {
    "duration": 0,
    "start_time": "2024-03-11T17:52:48.874Z"
   },
   {
    "duration": 0,
    "start_time": "2024-03-11T17:52:48.875Z"
   },
   {
    "duration": 0,
    "start_time": "2024-03-11T17:52:48.876Z"
   },
   {
    "duration": 0,
    "start_time": "2024-03-11T17:52:48.878Z"
   },
   {
    "duration": 0,
    "start_time": "2024-03-11T17:52:48.879Z"
   },
   {
    "duration": 1,
    "start_time": "2024-03-11T17:52:48.880Z"
   },
   {
    "duration": 0,
    "start_time": "2024-03-11T17:52:48.882Z"
   },
   {
    "duration": 0,
    "start_time": "2024-03-11T17:52:48.883Z"
   },
   {
    "duration": 0,
    "start_time": "2024-03-11T17:52:48.884Z"
   },
   {
    "duration": 0,
    "start_time": "2024-03-11T17:52:48.885Z"
   },
   {
    "duration": 0,
    "start_time": "2024-03-11T17:52:48.886Z"
   },
   {
    "duration": 0,
    "start_time": "2024-03-11T17:52:48.887Z"
   },
   {
    "duration": 0,
    "start_time": "2024-03-11T17:52:48.888Z"
   },
   {
    "duration": 0,
    "start_time": "2024-03-11T17:52:48.889Z"
   },
   {
    "duration": 0,
    "start_time": "2024-03-11T17:52:48.890Z"
   },
   {
    "duration": 0,
    "start_time": "2024-03-11T17:52:48.891Z"
   },
   {
    "duration": 0,
    "start_time": "2024-03-11T17:52:48.893Z"
   },
   {
    "duration": 3,
    "start_time": "2024-03-11T17:53:29.341Z"
   },
   {
    "duration": 336,
    "start_time": "2024-03-11T17:53:29.346Z"
   },
   {
    "duration": 8,
    "start_time": "2024-03-11T17:53:29.684Z"
   },
   {
    "duration": 197,
    "start_time": "2024-03-11T17:53:29.694Z"
   },
   {
    "duration": 8,
    "start_time": "2024-03-11T17:53:29.893Z"
   },
   {
    "duration": 42,
    "start_time": "2024-03-11T17:53:29.903Z"
   },
   {
    "duration": 4,
    "start_time": "2024-03-11T17:53:29.946Z"
   },
   {
    "duration": 8,
    "start_time": "2024-03-11T17:53:29.952Z"
   },
   {
    "duration": 18,
    "start_time": "2024-03-11T17:53:29.962Z"
   },
   {
    "duration": 81,
    "start_time": "2024-03-11T17:53:29.981Z"
   },
   {
    "duration": 76,
    "start_time": "2024-03-11T17:53:30.063Z"
   },
   {
    "duration": 64,
    "start_time": "2024-03-11T17:53:30.142Z"
   },
   {
    "duration": 38,
    "start_time": "2024-03-11T17:53:30.208Z"
   },
   {
    "duration": 64,
    "start_time": "2024-03-11T17:53:30.249Z"
   },
   {
    "duration": 34,
    "start_time": "2024-03-11T17:53:30.314Z"
   },
   {
    "duration": 161,
    "start_time": "2024-03-11T17:53:30.349Z"
   },
   {
    "duration": 74,
    "start_time": "2024-03-11T17:53:30.512Z"
   },
   {
    "duration": 67,
    "start_time": "2024-03-11T17:53:30.587Z"
   },
   {
    "duration": 88,
    "start_time": "2024-03-11T17:53:30.655Z"
   },
   {
    "duration": 90,
    "start_time": "2024-03-11T17:53:30.745Z"
   },
   {
    "duration": 72,
    "start_time": "2024-03-11T17:53:30.837Z"
   },
   {
    "duration": 100,
    "start_time": "2024-03-11T17:53:30.911Z"
   },
   {
    "duration": 523,
    "start_time": "2024-03-11T17:53:31.013Z"
   },
   {
    "duration": 39,
    "start_time": "2024-03-11T17:53:31.538Z"
   },
   {
    "duration": 81,
    "start_time": "2024-03-11T17:53:31.579Z"
   },
   {
    "duration": 22,
    "start_time": "2024-03-11T17:53:31.662Z"
   },
   {
    "duration": 58,
    "start_time": "2024-03-11T17:53:31.686Z"
   },
   {
    "duration": 67,
    "start_time": "2024-03-11T17:53:31.746Z"
   },
   {
    "duration": 35,
    "start_time": "2024-03-11T17:53:31.815Z"
   },
   {
    "duration": 72,
    "start_time": "2024-03-11T17:53:31.852Z"
   },
   {
    "duration": 43,
    "start_time": "2024-03-11T17:53:31.925Z"
   },
   {
    "duration": 34,
    "start_time": "2024-03-11T17:53:31.970Z"
   },
   {
    "duration": 84,
    "start_time": "2024-03-11T17:53:32.006Z"
   },
   {
    "duration": 16,
    "start_time": "2024-03-11T17:53:32.092Z"
   },
   {
    "duration": 207,
    "start_time": "2024-03-11T17:53:32.110Z"
   },
   {
    "duration": 130,
    "start_time": "2024-03-11T17:53:32.318Z"
   },
   {
    "duration": 80,
    "start_time": "2024-03-11T17:53:32.450Z"
   },
   {
    "duration": 90,
    "start_time": "2024-03-11T17:53:32.532Z"
   },
   {
    "duration": 5,
    "start_time": "2024-03-11T17:53:32.624Z"
   },
   {
    "duration": 19,
    "start_time": "2024-03-11T17:53:32.631Z"
   },
   {
    "duration": 11,
    "start_time": "2024-03-11T17:53:32.656Z"
   },
   {
    "duration": 54,
    "start_time": "2024-03-11T17:53:32.669Z"
   },
   {
    "duration": 39,
    "start_time": "2024-03-11T17:53:32.725Z"
   },
   {
    "duration": 59,
    "start_time": "2024-03-11T17:53:32.766Z"
   },
   {
    "duration": 6,
    "start_time": "2024-03-11T17:53:32.827Z"
   },
   {
    "duration": 13,
    "start_time": "2024-03-11T17:53:32.834Z"
   },
   {
    "duration": 23,
    "start_time": "2024-03-11T17:53:32.849Z"
   },
   {
    "duration": 14,
    "start_time": "2024-03-11T17:53:32.874Z"
   },
   {
    "duration": 27,
    "start_time": "2024-03-11T17:53:32.890Z"
   },
   {
    "duration": 24,
    "start_time": "2024-03-11T17:53:32.919Z"
   },
   {
    "duration": 57,
    "start_time": "2024-03-11T17:53:32.944Z"
   },
   {
    "duration": 9,
    "start_time": "2024-03-11T17:53:33.003Z"
   },
   {
    "duration": 42,
    "start_time": "2024-03-11T17:53:33.013Z"
   },
   {
    "duration": 36,
    "start_time": "2024-03-11T17:53:33.057Z"
   },
   {
    "duration": 25,
    "start_time": "2024-03-11T17:53:33.095Z"
   },
   {
    "duration": 28,
    "start_time": "2024-03-11T17:53:33.122Z"
   },
   {
    "duration": 34,
    "start_time": "2024-03-11T17:53:33.151Z"
   },
   {
    "duration": 30,
    "start_time": "2024-03-11T17:53:33.187Z"
   },
   {
    "duration": 24,
    "start_time": "2024-03-11T17:53:33.219Z"
   },
   {
    "duration": 35,
    "start_time": "2024-03-11T17:53:33.245Z"
   },
   {
    "duration": 28,
    "start_time": "2024-03-11T17:53:33.282Z"
   },
   {
    "duration": 28,
    "start_time": "2024-03-11T17:53:33.312Z"
   },
   {
    "duration": 27,
    "start_time": "2024-03-11T17:53:33.342Z"
   },
   {
    "duration": 28,
    "start_time": "2024-03-11T17:53:33.371Z"
   },
   {
    "duration": 4,
    "start_time": "2024-03-11T18:30:22.871Z"
   },
   {
    "duration": 346,
    "start_time": "2024-03-11T18:30:22.877Z"
   },
   {
    "duration": 6,
    "start_time": "2024-03-11T18:30:23.225Z"
   },
   {
    "duration": 176,
    "start_time": "2024-03-11T18:30:23.233Z"
   },
   {
    "duration": 12,
    "start_time": "2024-03-11T18:30:23.411Z"
   },
   {
    "duration": 23,
    "start_time": "2024-03-11T18:30:23.424Z"
   },
   {
    "duration": 3,
    "start_time": "2024-03-11T18:30:23.449Z"
   },
   {
    "duration": 10,
    "start_time": "2024-03-11T18:30:23.453Z"
   },
   {
    "duration": 23,
    "start_time": "2024-03-11T18:30:23.464Z"
   },
   {
    "duration": 98,
    "start_time": "2024-03-11T18:30:23.489Z"
   },
   {
    "duration": 77,
    "start_time": "2024-03-11T18:30:23.589Z"
   },
   {
    "duration": 73,
    "start_time": "2024-03-11T18:30:23.668Z"
   },
   {
    "duration": 21,
    "start_time": "2024-03-11T18:30:23.743Z"
   },
   {
    "duration": 8,
    "start_time": "2024-03-11T18:30:23.768Z"
   },
   {
    "duration": 8,
    "start_time": "2024-03-11T18:30:23.778Z"
   },
   {
    "duration": 98,
    "start_time": "2024-03-11T18:30:23.788Z"
   },
   {
    "duration": 9,
    "start_time": "2024-03-11T18:30:23.888Z"
   },
   {
    "duration": 31,
    "start_time": "2024-03-11T18:30:23.898Z"
   },
   {
    "duration": 8,
    "start_time": "2024-03-11T18:30:23.931Z"
   },
   {
    "duration": 22,
    "start_time": "2024-03-11T18:30:23.941Z"
   },
   {
    "duration": 21,
    "start_time": "2024-03-11T18:30:23.964Z"
   },
   {
    "duration": 38,
    "start_time": "2024-03-11T18:30:23.986Z"
   },
   {
    "duration": 421,
    "start_time": "2024-03-11T18:30:24.026Z"
   },
   {
    "duration": 37,
    "start_time": "2024-03-11T18:30:24.448Z"
   },
   {
    "duration": 49,
    "start_time": "2024-03-11T18:30:24.486Z"
   },
   {
    "duration": 9,
    "start_time": "2024-03-11T18:30:24.536Z"
   },
   {
    "duration": 15,
    "start_time": "2024-03-11T18:30:24.547Z"
   },
   {
    "duration": 18,
    "start_time": "2024-03-11T18:30:24.564Z"
   },
   {
    "duration": 8,
    "start_time": "2024-03-11T18:30:24.583Z"
   },
   {
    "duration": 34,
    "start_time": "2024-03-11T18:30:24.624Z"
   },
   {
    "duration": 40,
    "start_time": "2024-03-11T18:30:24.659Z"
   },
   {
    "duration": 38,
    "start_time": "2024-03-11T18:30:24.701Z"
   },
   {
    "duration": 61,
    "start_time": "2024-03-11T18:30:24.740Z"
   },
   {
    "duration": 30,
    "start_time": "2024-03-11T18:30:24.803Z"
   },
   {
    "duration": 56,
    "start_time": "2024-03-11T18:30:24.835Z"
   },
   {
    "duration": 74,
    "start_time": "2024-03-11T18:30:24.893Z"
   },
   {
    "duration": 72,
    "start_time": "2024-03-11T18:30:24.969Z"
   },
   {
    "duration": 153,
    "start_time": "2024-03-11T18:30:25.043Z"
   },
   {
    "duration": 4,
    "start_time": "2024-03-11T18:30:25.197Z"
   },
   {
    "duration": 15,
    "start_time": "2024-03-11T18:30:25.203Z"
   },
   {
    "duration": 4,
    "start_time": "2024-03-11T18:30:25.226Z"
   },
   {
    "duration": 37,
    "start_time": "2024-03-11T18:30:25.231Z"
   },
   {
    "duration": 57,
    "start_time": "2024-03-11T18:30:25.270Z"
   },
   {
    "duration": 38,
    "start_time": "2024-03-11T18:30:25.329Z"
   },
   {
    "duration": 5,
    "start_time": "2024-03-11T18:30:25.369Z"
   },
   {
    "duration": 8,
    "start_time": "2024-03-11T18:30:25.376Z"
   },
   {
    "duration": 37,
    "start_time": "2024-03-11T18:30:25.386Z"
   },
   {
    "duration": 20,
    "start_time": "2024-03-11T18:30:25.425Z"
   },
   {
    "duration": 12,
    "start_time": "2024-03-11T18:30:25.446Z"
   },
   {
    "duration": 9,
    "start_time": "2024-03-11T18:30:25.460Z"
   },
   {
    "duration": 55,
    "start_time": "2024-03-11T18:30:25.471Z"
   },
   {
    "duration": 9,
    "start_time": "2024-03-11T18:30:25.528Z"
   },
   {
    "duration": 27,
    "start_time": "2024-03-11T18:30:25.539Z"
   },
   {
    "duration": 25,
    "start_time": "2024-03-11T18:30:25.567Z"
   },
   {
    "duration": 20,
    "start_time": "2024-03-11T18:30:25.594Z"
   },
   {
    "duration": 10,
    "start_time": "2024-03-11T18:30:25.615Z"
   },
   {
    "duration": 8,
    "start_time": "2024-03-11T18:30:25.627Z"
   },
   {
    "duration": 10,
    "start_time": "2024-03-11T18:30:25.637Z"
   },
   {
    "duration": 31,
    "start_time": "2024-03-11T18:30:25.649Z"
   },
   {
    "duration": 21,
    "start_time": "2024-03-11T18:30:25.682Z"
   },
   {
    "duration": 10,
    "start_time": "2024-03-11T18:30:25.706Z"
   },
   {
    "duration": 10,
    "start_time": "2024-03-11T18:30:25.718Z"
   },
   {
    "duration": 14,
    "start_time": "2024-03-11T18:30:25.729Z"
   },
   {
    "duration": 18,
    "start_time": "2024-03-11T18:30:25.744Z"
   },
   {
    "duration": 71,
    "start_time": "2024-03-12T05:51:52.977Z"
   },
   {
    "duration": 3,
    "start_time": "2024-03-12T06:28:41.153Z"
   },
   {
    "duration": 8,
    "start_time": "2024-03-12T06:28:53.746Z"
   },
   {
    "duration": 4,
    "start_time": "2024-03-12T06:29:09.421Z"
   },
   {
    "duration": 1289,
    "start_time": "2024-03-12T07:12:34.744Z"
   },
   {
    "duration": 579,
    "start_time": "2024-03-12T07:12:36.035Z"
   },
   {
    "duration": 8,
    "start_time": "2024-03-12T07:12:36.616Z"
   },
   {
    "duration": 148,
    "start_time": "2024-03-12T07:12:36.626Z"
   },
   {
    "duration": 7,
    "start_time": "2024-03-12T07:12:36.775Z"
   },
   {
    "duration": 25,
    "start_time": "2024-03-12T07:12:36.783Z"
   },
   {
    "duration": 3,
    "start_time": "2024-03-12T07:12:36.809Z"
   },
   {
    "duration": 11,
    "start_time": "2024-03-12T07:12:36.813Z"
   },
   {
    "duration": 24,
    "start_time": "2024-03-12T07:12:36.825Z"
   },
   {
    "duration": 64,
    "start_time": "2024-03-12T07:12:36.852Z"
   },
   {
    "duration": 70,
    "start_time": "2024-03-12T07:12:36.917Z"
   },
   {
    "duration": 52,
    "start_time": "2024-03-12T07:12:36.989Z"
   },
   {
    "duration": 25,
    "start_time": "2024-03-12T07:12:37.042Z"
   },
   {
    "duration": 8,
    "start_time": "2024-03-12T07:12:37.069Z"
   },
   {
    "duration": 8,
    "start_time": "2024-03-12T07:12:37.078Z"
   },
   {
    "duration": 95,
    "start_time": "2024-03-12T07:12:37.087Z"
   },
   {
    "duration": 11,
    "start_time": "2024-03-12T07:12:37.183Z"
   },
   {
    "duration": 18,
    "start_time": "2024-03-12T07:12:37.195Z"
   },
   {
    "duration": 6,
    "start_time": "2024-03-12T07:12:37.215Z"
   },
   {
    "duration": 16,
    "start_time": "2024-03-12T07:12:37.223Z"
   },
   {
    "duration": 41,
    "start_time": "2024-03-12T07:12:37.241Z"
   },
   {
    "duration": 29,
    "start_time": "2024-03-12T07:12:37.283Z"
   },
   {
    "duration": 371,
    "start_time": "2024-03-12T07:12:37.314Z"
   },
   {
    "duration": 33,
    "start_time": "2024-03-12T07:12:37.687Z"
   },
   {
    "duration": 43,
    "start_time": "2024-03-12T07:12:37.722Z"
   },
   {
    "duration": 6,
    "start_time": "2024-03-12T07:12:37.766Z"
   },
   {
    "duration": 15,
    "start_time": "2024-03-12T07:12:37.773Z"
   },
   {
    "duration": 27,
    "start_time": "2024-03-12T07:12:37.793Z"
   },
   {
    "duration": 7,
    "start_time": "2024-03-12T07:12:37.822Z"
   },
   {
    "duration": 62,
    "start_time": "2024-03-12T07:12:37.831Z"
   },
   {
    "duration": 36,
    "start_time": "2024-03-12T07:12:37.895Z"
   },
   {
    "duration": 36,
    "start_time": "2024-03-12T07:12:37.933Z"
   },
   {
    "duration": 54,
    "start_time": "2024-03-12T07:12:37.971Z"
   },
   {
    "duration": 12,
    "start_time": "2024-03-12T07:12:38.027Z"
   },
   {
    "duration": 52,
    "start_time": "2024-03-12T07:12:38.041Z"
   },
   {
    "duration": 47,
    "start_time": "2024-03-12T07:12:38.094Z"
   },
   {
    "duration": 69,
    "start_time": "2024-03-12T07:12:38.143Z"
   },
   {
    "duration": 61,
    "start_time": "2024-03-12T07:12:38.213Z"
   },
   {
    "duration": 4,
    "start_time": "2024-03-12T07:12:38.275Z"
   },
   {
    "duration": 5,
    "start_time": "2024-03-12T07:12:38.280Z"
   },
   {
    "duration": 5,
    "start_time": "2024-03-12T07:12:38.286Z"
   },
   {
    "duration": 111,
    "start_time": "2024-03-12T07:12:38.292Z"
   },
   {
    "duration": 0,
    "start_time": "2024-03-12T07:12:38.405Z"
   },
   {
    "duration": 0,
    "start_time": "2024-03-12T07:12:38.406Z"
   },
   {
    "duration": 0,
    "start_time": "2024-03-12T07:12:38.407Z"
   },
   {
    "duration": 0,
    "start_time": "2024-03-12T07:12:38.408Z"
   },
   {
    "duration": 0,
    "start_time": "2024-03-12T07:12:38.409Z"
   },
   {
    "duration": 0,
    "start_time": "2024-03-12T07:12:38.410Z"
   },
   {
    "duration": 0,
    "start_time": "2024-03-12T07:12:38.411Z"
   },
   {
    "duration": 0,
    "start_time": "2024-03-12T07:12:38.412Z"
   },
   {
    "duration": 0,
    "start_time": "2024-03-12T07:12:38.413Z"
   },
   {
    "duration": 0,
    "start_time": "2024-03-12T07:12:38.414Z"
   },
   {
    "duration": 0,
    "start_time": "2024-03-12T07:12:38.415Z"
   },
   {
    "duration": 0,
    "start_time": "2024-03-12T07:12:38.416Z"
   },
   {
    "duration": 0,
    "start_time": "2024-03-12T07:12:38.417Z"
   },
   {
    "duration": 0,
    "start_time": "2024-03-12T07:12:38.418Z"
   },
   {
    "duration": 0,
    "start_time": "2024-03-12T07:12:38.419Z"
   },
   {
    "duration": 0,
    "start_time": "2024-03-12T07:12:38.421Z"
   },
   {
    "duration": 0,
    "start_time": "2024-03-12T07:12:38.422Z"
   },
   {
    "duration": 0,
    "start_time": "2024-03-12T07:12:38.435Z"
   },
   {
    "duration": 0,
    "start_time": "2024-03-12T07:12:38.436Z"
   },
   {
    "duration": 0,
    "start_time": "2024-03-12T07:12:38.437Z"
   },
   {
    "duration": 0,
    "start_time": "2024-03-12T07:12:38.437Z"
   },
   {
    "duration": 0,
    "start_time": "2024-03-12T07:12:38.438Z"
   },
   {
    "duration": 0,
    "start_time": "2024-03-12T07:12:38.466Z"
   },
   {
    "duration": 0,
    "start_time": "2024-03-12T07:12:38.467Z"
   },
   {
    "duration": 8,
    "start_time": "2024-03-12T07:14:27.743Z"
   },
   {
    "duration": 89,
    "start_time": "2024-03-12T07:14:54.553Z"
   },
   {
    "duration": 33,
    "start_time": "2024-03-12T07:15:05.921Z"
   },
   {
    "duration": 1422,
    "start_time": "2024-03-12T15:29:13.460Z"
   },
   {
    "duration": 833,
    "start_time": "2024-03-12T15:29:14.884Z"
   },
   {
    "duration": 11,
    "start_time": "2024-03-12T15:29:15.719Z"
   },
   {
    "duration": 170,
    "start_time": "2024-03-12T15:29:15.732Z"
   },
   {
    "duration": 6,
    "start_time": "2024-03-12T15:29:15.905Z"
   },
   {
    "duration": 42,
    "start_time": "2024-03-12T15:29:15.912Z"
   },
   {
    "duration": 20,
    "start_time": "2024-03-12T15:29:15.956Z"
   },
   {
    "duration": 30,
    "start_time": "2024-03-12T15:29:15.977Z"
   },
   {
    "duration": 30,
    "start_time": "2024-03-12T15:29:16.008Z"
   },
   {
    "duration": 63,
    "start_time": "2024-03-12T15:29:16.039Z"
   },
   {
    "duration": 77,
    "start_time": "2024-03-12T15:29:16.104Z"
   },
   {
    "duration": 60,
    "start_time": "2024-03-12T15:29:16.183Z"
   },
   {
    "duration": 38,
    "start_time": "2024-03-12T15:29:16.244Z"
   },
   {
    "duration": 9,
    "start_time": "2024-03-12T15:29:16.285Z"
   },
   {
    "duration": 18,
    "start_time": "2024-03-12T15:29:16.296Z"
   },
   {
    "duration": 90,
    "start_time": "2024-03-12T15:29:16.316Z"
   },
   {
    "duration": 8,
    "start_time": "2024-03-12T15:29:16.408Z"
   },
   {
    "duration": 21,
    "start_time": "2024-03-12T15:29:16.417Z"
   },
   {
    "duration": 34,
    "start_time": "2024-03-12T15:29:16.439Z"
   },
   {
    "duration": 17,
    "start_time": "2024-03-12T15:29:16.475Z"
   },
   {
    "duration": 39,
    "start_time": "2024-03-12T15:29:16.493Z"
   },
   {
    "duration": 32,
    "start_time": "2024-03-12T15:29:16.534Z"
   },
   {
    "duration": 412,
    "start_time": "2024-03-12T15:29:16.568Z"
   },
   {
    "duration": 42,
    "start_time": "2024-03-12T15:29:16.981Z"
   },
   {
    "duration": 45,
    "start_time": "2024-03-12T15:29:17.025Z"
   },
   {
    "duration": 5,
    "start_time": "2024-03-12T15:29:17.072Z"
   },
   {
    "duration": 14,
    "start_time": "2024-03-12T15:29:17.079Z"
   },
   {
    "duration": 17,
    "start_time": "2024-03-12T15:29:17.095Z"
   },
   {
    "duration": 8,
    "start_time": "2024-03-12T15:29:17.113Z"
   },
   {
    "duration": 65,
    "start_time": "2024-03-12T15:29:17.123Z"
   },
   {
    "duration": 38,
    "start_time": "2024-03-12T15:29:17.190Z"
   },
   {
    "duration": 18,
    "start_time": "2024-03-12T15:29:17.229Z"
   },
   {
    "duration": 76,
    "start_time": "2024-03-12T15:29:17.249Z"
   },
   {
    "duration": 13,
    "start_time": "2024-03-12T15:29:17.327Z"
   },
   {
    "duration": 58,
    "start_time": "2024-03-12T15:29:17.342Z"
   },
   {
    "duration": 52,
    "start_time": "2024-03-12T15:29:17.402Z"
   },
   {
    "duration": 64,
    "start_time": "2024-03-12T15:29:17.456Z"
   },
   {
    "duration": 67,
    "start_time": "2024-03-12T15:29:17.522Z"
   },
   {
    "duration": 4,
    "start_time": "2024-03-12T15:29:17.590Z"
   },
   {
    "duration": 5,
    "start_time": "2024-03-12T15:29:17.596Z"
   },
   {
    "duration": 9,
    "start_time": "2024-03-12T15:29:17.605Z"
   },
   {
    "duration": 127,
    "start_time": "2024-03-12T15:29:17.615Z"
   },
   {
    "duration": 0,
    "start_time": "2024-03-12T15:29:17.744Z"
   },
   {
    "duration": 0,
    "start_time": "2024-03-12T15:29:17.745Z"
   },
   {
    "duration": 0,
    "start_time": "2024-03-12T15:29:17.746Z"
   },
   {
    "duration": 0,
    "start_time": "2024-03-12T15:29:17.748Z"
   },
   {
    "duration": 0,
    "start_time": "2024-03-12T15:29:17.749Z"
   },
   {
    "duration": 0,
    "start_time": "2024-03-12T15:29:17.750Z"
   },
   {
    "duration": 0,
    "start_time": "2024-03-12T15:29:17.751Z"
   },
   {
    "duration": 0,
    "start_time": "2024-03-12T15:29:17.770Z"
   },
   {
    "duration": 0,
    "start_time": "2024-03-12T15:29:17.771Z"
   },
   {
    "duration": 0,
    "start_time": "2024-03-12T15:29:17.772Z"
   },
   {
    "duration": 0,
    "start_time": "2024-03-12T15:29:17.773Z"
   },
   {
    "duration": 0,
    "start_time": "2024-03-12T15:29:17.774Z"
   },
   {
    "duration": 0,
    "start_time": "2024-03-12T15:29:17.775Z"
   },
   {
    "duration": 0,
    "start_time": "2024-03-12T15:29:17.776Z"
   },
   {
    "duration": 0,
    "start_time": "2024-03-12T15:29:17.778Z"
   },
   {
    "duration": 0,
    "start_time": "2024-03-12T15:29:17.779Z"
   },
   {
    "duration": 0,
    "start_time": "2024-03-12T15:29:17.780Z"
   },
   {
    "duration": 0,
    "start_time": "2024-03-12T15:29:17.781Z"
   },
   {
    "duration": 0,
    "start_time": "2024-03-12T15:29:17.782Z"
   },
   {
    "duration": 0,
    "start_time": "2024-03-12T15:29:17.783Z"
   },
   {
    "duration": 0,
    "start_time": "2024-03-12T15:29:17.784Z"
   },
   {
    "duration": 0,
    "start_time": "2024-03-12T15:29:17.785Z"
   },
   {
    "duration": 0,
    "start_time": "2024-03-12T15:29:17.786Z"
   },
   {
    "duration": 0,
    "start_time": "2024-03-12T15:29:17.787Z"
   },
   {
    "duration": 31,
    "start_time": "2024-03-12T15:29:36.867Z"
   },
   {
    "duration": 35,
    "start_time": "2024-03-12T15:29:37.290Z"
   },
   {
    "duration": 33,
    "start_time": "2024-03-12T15:29:37.506Z"
   },
   {
    "duration": 5,
    "start_time": "2024-03-12T15:29:37.883Z"
   },
   {
    "duration": 9,
    "start_time": "2024-03-12T15:29:38.090Z"
   },
   {
    "duration": 8,
    "start_time": "2024-03-12T15:29:42.958Z"
   },
   {
    "duration": 8,
    "start_time": "2024-03-12T15:29:43.381Z"
   },
   {
    "duration": 9,
    "start_time": "2024-03-12T15:29:43.808Z"
   },
   {
    "duration": 7,
    "start_time": "2024-03-12T15:29:44.227Z"
   },
   {
    "duration": 37,
    "start_time": "2024-03-12T15:29:45.340Z"
   },
   {
    "duration": 8,
    "start_time": "2024-03-12T15:29:45.772Z"
   },
   {
    "duration": 8,
    "start_time": "2024-03-12T15:29:46.461Z"
   },
   {
    "duration": 8,
    "start_time": "2024-03-12T15:29:46.932Z"
   },
   {
    "duration": 8,
    "start_time": "2024-03-12T15:29:47.422Z"
   },
   {
    "duration": 8,
    "start_time": "2024-03-12T15:29:48.115Z"
   },
   {
    "duration": 8,
    "start_time": "2024-03-12T15:29:48.582Z"
   },
   {
    "duration": 7,
    "start_time": "2024-03-12T15:29:49.092Z"
   },
   {
    "duration": 7,
    "start_time": "2024-03-12T15:29:49.564Z"
   },
   {
    "duration": 8,
    "start_time": "2024-03-12T15:29:50.269Z"
   },
   {
    "duration": 7,
    "start_time": "2024-03-12T15:29:50.774Z"
   },
   {
    "duration": 7,
    "start_time": "2024-03-12T15:29:51.287Z"
   },
   {
    "duration": 7,
    "start_time": "2024-03-12T15:29:51.815Z"
   },
   {
    "duration": 7,
    "start_time": "2024-03-12T15:29:52.442Z"
   },
   {
    "duration": 4,
    "start_time": "2024-03-12T15:29:53.305Z"
   },
   {
    "duration": 8,
    "start_time": "2024-03-12T15:30:09.311Z"
   },
   {
    "duration": 4,
    "start_time": "2024-03-12T15:30:24.551Z"
   },
   {
    "duration": 4,
    "start_time": "2024-03-12T15:44:29.746Z"
   },
   {
    "duration": 4,
    "start_time": "2024-03-12T15:44:53.650Z"
   },
   {
    "duration": 3,
    "start_time": "2024-03-12T15:48:38.619Z"
   },
   {
    "duration": 9,
    "start_time": "2024-03-12T15:56:04.016Z"
   },
   {
    "duration": 62,
    "start_time": "2024-03-12T15:56:12.079Z"
   },
   {
    "duration": 5,
    "start_time": "2024-03-12T15:56:14.543Z"
   },
   {
    "duration": 5,
    "start_time": "2024-03-12T15:56:39.910Z"
   },
   {
    "duration": 10,
    "start_time": "2024-03-12T16:08:20.044Z"
   },
   {
    "duration": 9,
    "start_time": "2024-03-12T16:08:45.676Z"
   },
   {
    "duration": 6,
    "start_time": "2024-03-12T16:10:36.361Z"
   },
   {
    "duration": 109,
    "start_time": "2024-03-12T16:30:31.317Z"
   },
   {
    "duration": 14,
    "start_time": "2024-03-12T16:32:34.859Z"
   },
   {
    "duration": 4,
    "start_time": "2024-03-12T16:34:02.640Z"
   },
   {
    "duration": 188,
    "start_time": "2024-03-12T16:34:15.400Z"
   },
   {
    "duration": 14,
    "start_time": "2024-03-12T16:35:02.510Z"
   },
   {
    "duration": 3,
    "start_time": "2024-03-12T16:36:11.285Z"
   },
   {
    "duration": 8,
    "start_time": "2024-03-12T16:36:44.236Z"
   },
   {
    "duration": 4,
    "start_time": "2024-03-12T16:36:45.715Z"
   },
   {
    "duration": 7,
    "start_time": "2024-03-12T16:36:54.006Z"
   },
   {
    "duration": 3,
    "start_time": "2024-03-12T16:37:03.914Z"
   },
   {
    "duration": 7,
    "start_time": "2024-03-12T16:37:05.379Z"
   },
   {
    "duration": 4,
    "start_time": "2024-03-12T16:39:53.219Z"
   },
   {
    "duration": 349,
    "start_time": "2024-03-12T16:39:53.224Z"
   },
   {
    "duration": 6,
    "start_time": "2024-03-12T16:39:53.575Z"
   },
   {
    "duration": 164,
    "start_time": "2024-03-12T16:39:53.582Z"
   },
   {
    "duration": 7,
    "start_time": "2024-03-12T16:39:53.748Z"
   },
   {
    "duration": 34,
    "start_time": "2024-03-12T16:39:53.757Z"
   },
   {
    "duration": 9,
    "start_time": "2024-03-12T16:39:53.792Z"
   },
   {
    "duration": 17,
    "start_time": "2024-03-12T16:39:53.802Z"
   },
   {
    "duration": 33,
    "start_time": "2024-03-12T16:39:53.820Z"
   },
   {
    "duration": 61,
    "start_time": "2024-03-12T16:39:53.854Z"
   },
   {
    "duration": 66,
    "start_time": "2024-03-12T16:39:53.917Z"
   },
   {
    "duration": 61,
    "start_time": "2024-03-12T16:39:53.985Z"
   },
   {
    "duration": 35,
    "start_time": "2024-03-12T16:39:54.048Z"
   },
   {
    "duration": 8,
    "start_time": "2024-03-12T16:39:54.086Z"
   },
   {
    "duration": 28,
    "start_time": "2024-03-12T16:39:54.096Z"
   },
   {
    "duration": 92,
    "start_time": "2024-03-12T16:39:54.126Z"
   },
   {
    "duration": 21,
    "start_time": "2024-03-12T16:39:54.220Z"
   },
   {
    "duration": 22,
    "start_time": "2024-03-12T16:39:54.243Z"
   },
   {
    "duration": 8,
    "start_time": "2024-03-12T16:39:54.266Z"
   },
   {
    "duration": 17,
    "start_time": "2024-03-12T16:39:54.275Z"
   },
   {
    "duration": 35,
    "start_time": "2024-03-12T16:39:54.293Z"
   },
   {
    "duration": 22,
    "start_time": "2024-03-12T16:39:54.330Z"
   },
   {
    "duration": 392,
    "start_time": "2024-03-12T16:39:54.354Z"
   },
   {
    "duration": 42,
    "start_time": "2024-03-12T16:39:54.747Z"
   },
   {
    "duration": 34,
    "start_time": "2024-03-12T16:39:54.791Z"
   },
   {
    "duration": 6,
    "start_time": "2024-03-12T16:39:54.826Z"
   },
   {
    "duration": 36,
    "start_time": "2024-03-12T16:39:54.834Z"
   },
   {
    "duration": 16,
    "start_time": "2024-03-12T16:39:54.872Z"
   },
   {
    "duration": 13,
    "start_time": "2024-03-12T16:39:54.890Z"
   },
   {
    "duration": 40,
    "start_time": "2024-03-12T16:39:54.905Z"
   },
   {
    "duration": 53,
    "start_time": "2024-03-12T16:39:54.947Z"
   },
   {
    "duration": 19,
    "start_time": "2024-03-12T16:39:55.002Z"
   },
   {
    "duration": 79,
    "start_time": "2024-03-12T16:39:55.022Z"
   },
   {
    "duration": 13,
    "start_time": "2024-03-12T16:39:55.103Z"
   },
   {
    "duration": 45,
    "start_time": "2024-03-12T16:39:55.117Z"
   },
   {
    "duration": 58,
    "start_time": "2024-03-12T16:39:55.164Z"
   },
   {
    "duration": 73,
    "start_time": "2024-03-12T16:39:55.224Z"
   },
   {
    "duration": 56,
    "start_time": "2024-03-12T16:39:55.298Z"
   },
   {
    "duration": 15,
    "start_time": "2024-03-12T16:39:55.355Z"
   },
   {
    "duration": 4,
    "start_time": "2024-03-12T16:39:55.372Z"
   },
   {
    "duration": 1572,
    "start_time": "2024-03-12T16:39:55.380Z"
   },
   {
    "duration": 0,
    "start_time": "2024-03-12T16:39:56.953Z"
   },
   {
    "duration": 0,
    "start_time": "2024-03-12T16:39:56.954Z"
   },
   {
    "duration": 0,
    "start_time": "2024-03-12T16:39:56.955Z"
   },
   {
    "duration": 0,
    "start_time": "2024-03-12T16:39:56.957Z"
   },
   {
    "duration": 0,
    "start_time": "2024-03-12T16:39:56.957Z"
   },
   {
    "duration": 0,
    "start_time": "2024-03-12T16:39:56.959Z"
   },
   {
    "duration": 0,
    "start_time": "2024-03-12T16:39:56.959Z"
   },
   {
    "duration": 0,
    "start_time": "2024-03-12T16:39:56.960Z"
   },
   {
    "duration": 0,
    "start_time": "2024-03-12T16:39:56.961Z"
   },
   {
    "duration": 0,
    "start_time": "2024-03-12T16:39:56.962Z"
   },
   {
    "duration": 0,
    "start_time": "2024-03-12T16:39:56.963Z"
   },
   {
    "duration": 0,
    "start_time": "2024-03-12T16:39:56.964Z"
   },
   {
    "duration": 0,
    "start_time": "2024-03-12T16:39:56.965Z"
   },
   {
    "duration": 0,
    "start_time": "2024-03-12T16:39:56.966Z"
   },
   {
    "duration": 0,
    "start_time": "2024-03-12T16:39:56.967Z"
   },
   {
    "duration": 0,
    "start_time": "2024-03-12T16:39:56.968Z"
   },
   {
    "duration": 0,
    "start_time": "2024-03-12T16:39:56.969Z"
   },
   {
    "duration": 0,
    "start_time": "2024-03-12T16:39:56.970Z"
   },
   {
    "duration": 0,
    "start_time": "2024-03-12T16:39:56.971Z"
   },
   {
    "duration": 0,
    "start_time": "2024-03-12T16:39:56.972Z"
   },
   {
    "duration": 0,
    "start_time": "2024-03-12T16:39:56.972Z"
   },
   {
    "duration": 0,
    "start_time": "2024-03-12T16:39:56.973Z"
   },
   {
    "duration": 0,
    "start_time": "2024-03-12T16:39:56.974Z"
   },
   {
    "duration": 0,
    "start_time": "2024-03-12T16:39:56.975Z"
   },
   {
    "duration": 0,
    "start_time": "2024-03-12T16:39:56.976Z"
   },
   {
    "duration": 0,
    "start_time": "2024-03-12T16:39:56.977Z"
   },
   {
    "duration": 0,
    "start_time": "2024-03-12T16:39:56.978Z"
   },
   {
    "duration": 0,
    "start_time": "2024-03-12T16:39:56.979Z"
   },
   {
    "duration": 0,
    "start_time": "2024-03-12T16:39:56.980Z"
   },
   {
    "duration": 0,
    "start_time": "2024-03-12T16:39:56.981Z"
   },
   {
    "duration": 0,
    "start_time": "2024-03-12T16:39:56.982Z"
   },
   {
    "duration": 0,
    "start_time": "2024-03-12T16:39:56.983Z"
   },
   {
    "duration": 0,
    "start_time": "2024-03-12T16:39:56.984Z"
   },
   {
    "duration": 0,
    "start_time": "2024-03-12T16:39:56.985Z"
   },
   {
    "duration": 0,
    "start_time": "2024-03-12T16:39:56.986Z"
   },
   {
    "duration": 0,
    "start_time": "2024-03-12T16:39:56.987Z"
   },
   {
    "duration": 0,
    "start_time": "2024-03-12T16:39:56.988Z"
   },
   {
    "duration": 0,
    "start_time": "2024-03-12T16:39:56.989Z"
   },
   {
    "duration": 0,
    "start_time": "2024-03-12T16:39:56.990Z"
   },
   {
    "duration": 0,
    "start_time": "2024-03-12T16:39:56.991Z"
   },
   {
    "duration": 3,
    "start_time": "2024-03-12T16:40:42.461Z"
   },
   {
    "duration": 306,
    "start_time": "2024-03-12T16:40:42.466Z"
   },
   {
    "duration": 6,
    "start_time": "2024-03-12T16:40:42.773Z"
   },
   {
    "duration": 155,
    "start_time": "2024-03-12T16:40:42.781Z"
   },
   {
    "duration": 7,
    "start_time": "2024-03-12T16:40:42.938Z"
   },
   {
    "duration": 32,
    "start_time": "2024-03-12T16:40:42.947Z"
   },
   {
    "duration": 3,
    "start_time": "2024-03-12T16:40:42.981Z"
   },
   {
    "duration": 14,
    "start_time": "2024-03-12T16:40:42.986Z"
   },
   {
    "duration": 20,
    "start_time": "2024-03-12T16:40:43.002Z"
   },
   {
    "duration": 76,
    "start_time": "2024-03-12T16:40:43.024Z"
   },
   {
    "duration": 78,
    "start_time": "2024-03-12T16:40:43.102Z"
   },
   {
    "duration": 59,
    "start_time": "2024-03-12T16:40:43.182Z"
   },
   {
    "duration": 31,
    "start_time": "2024-03-12T16:40:43.242Z"
   },
   {
    "duration": 8,
    "start_time": "2024-03-12T16:40:43.276Z"
   },
   {
    "duration": 9,
    "start_time": "2024-03-12T16:40:43.285Z"
   },
   {
    "duration": 98,
    "start_time": "2024-03-12T16:40:43.296Z"
   },
   {
    "duration": 8,
    "start_time": "2024-03-12T16:40:43.396Z"
   },
   {
    "duration": 19,
    "start_time": "2024-03-12T16:40:43.406Z"
   },
   {
    "duration": 13,
    "start_time": "2024-03-12T16:40:43.427Z"
   },
   {
    "duration": 29,
    "start_time": "2024-03-12T16:40:43.442Z"
   },
   {
    "duration": 20,
    "start_time": "2024-03-12T16:40:43.473Z"
   },
   {
    "duration": 22,
    "start_time": "2024-03-12T16:40:43.495Z"
   },
   {
    "duration": 394,
    "start_time": "2024-03-12T16:40:43.519Z"
   },
   {
    "duration": 34,
    "start_time": "2024-03-12T16:40:43.915Z"
   },
   {
    "duration": 49,
    "start_time": "2024-03-12T16:40:43.951Z"
   },
   {
    "duration": 7,
    "start_time": "2024-03-12T16:40:44.002Z"
   },
   {
    "duration": 15,
    "start_time": "2024-03-12T16:40:44.011Z"
   },
   {
    "duration": 42,
    "start_time": "2024-03-12T16:40:44.028Z"
   },
   {
    "duration": 10,
    "start_time": "2024-03-12T16:40:44.072Z"
   },
   {
    "duration": 33,
    "start_time": "2024-03-12T16:40:44.083Z"
   },
   {
    "duration": 59,
    "start_time": "2024-03-12T16:40:44.118Z"
   },
   {
    "duration": 18,
    "start_time": "2024-03-12T16:40:44.178Z"
   },
   {
    "duration": 73,
    "start_time": "2024-03-12T16:40:44.198Z"
   },
   {
    "duration": 13,
    "start_time": "2024-03-12T16:40:44.273Z"
   },
   {
    "duration": 34,
    "start_time": "2024-03-12T16:40:44.287Z"
   },
   {
    "duration": 71,
    "start_time": "2024-03-12T16:40:44.323Z"
   },
   {
    "duration": 56,
    "start_time": "2024-03-12T16:40:44.396Z"
   },
   {
    "duration": 70,
    "start_time": "2024-03-12T16:40:44.453Z"
   },
   {
    "duration": 3,
    "start_time": "2024-03-12T16:40:44.525Z"
   },
   {
    "duration": 8,
    "start_time": "2024-03-12T16:40:44.530Z"
   },
   {
    "duration": 3,
    "start_time": "2024-03-12T16:40:44.543Z"
   },
   {
    "duration": 29,
    "start_time": "2024-03-12T16:40:44.547Z"
   },
   {
    "duration": 32,
    "start_time": "2024-03-12T16:40:44.578Z"
   },
   {
    "duration": 63,
    "start_time": "2024-03-12T16:40:44.612Z"
   },
   {
    "duration": 33,
    "start_time": "2024-03-12T16:40:44.676Z"
   },
   {
    "duration": 5,
    "start_time": "2024-03-12T16:40:44.711Z"
   },
   {
    "duration": 8,
    "start_time": "2024-03-12T16:40:44.717Z"
   },
   {
    "duration": 8,
    "start_time": "2024-03-12T16:40:44.727Z"
   },
   {
    "duration": 35,
    "start_time": "2024-03-12T16:40:44.736Z"
   },
   {
    "duration": 7,
    "start_time": "2024-03-12T16:40:44.773Z"
   },
   {
    "duration": 7,
    "start_time": "2024-03-12T16:40:44.782Z"
   },
   {
    "duration": 14,
    "start_time": "2024-03-12T16:40:44.790Z"
   },
   {
    "duration": 8,
    "start_time": "2024-03-12T16:40:44.806Z"
   },
   {
    "duration": 8,
    "start_time": "2024-03-12T16:40:44.815Z"
   },
   {
    "duration": 5,
    "start_time": "2024-03-12T16:40:44.825Z"
   },
   {
    "duration": 66,
    "start_time": "2024-03-12T16:40:44.831Z"
   },
   {
    "duration": 7,
    "start_time": "2024-03-12T16:40:44.898Z"
   },
   {
    "duration": 13,
    "start_time": "2024-03-12T16:40:44.907Z"
   },
   {
    "duration": 7,
    "start_time": "2024-03-12T16:40:44.922Z"
   },
   {
    "duration": 7,
    "start_time": "2024-03-12T16:40:44.931Z"
   },
   {
    "duration": 7,
    "start_time": "2024-03-12T16:40:44.940Z"
   },
   {
    "duration": 23,
    "start_time": "2024-03-12T16:40:44.949Z"
   },
   {
    "duration": 7,
    "start_time": "2024-03-12T16:40:44.974Z"
   },
   {
    "duration": 7,
    "start_time": "2024-03-12T16:40:44.983Z"
   },
   {
    "duration": 11,
    "start_time": "2024-03-12T16:40:44.992Z"
   },
   {
    "duration": 64,
    "start_time": "2024-03-12T16:40:45.004Z"
   },
   {
    "duration": 18,
    "start_time": "2024-03-12T16:40:45.070Z"
   },
   {
    "duration": 42,
    "start_time": "2024-03-12T16:40:45.090Z"
   },
   {
    "duration": 18,
    "start_time": "2024-03-12T16:40:45.134Z"
   },
   {
    "duration": 54,
    "start_time": "2024-03-12T16:40:45.154Z"
   },
   {
    "duration": 33,
    "start_time": "2024-03-12T16:40:45.210Z"
   },
   {
    "duration": 40,
    "start_time": "2024-03-12T16:40:45.245Z"
   },
   {
    "duration": 42,
    "start_time": "2024-03-12T16:40:45.287Z"
   },
   {
    "duration": 17,
    "start_time": "2024-03-12T16:40:45.330Z"
   },
   {
    "duration": 18,
    "start_time": "2024-03-12T16:40:45.348Z"
   },
   {
    "duration": 39,
    "start_time": "2024-03-12T16:40:45.367Z"
   },
   {
    "duration": 21,
    "start_time": "2024-03-12T16:40:45.408Z"
   },
   {
    "duration": 12,
    "start_time": "2024-03-12T16:40:45.430Z"
   },
   {
    "duration": 26,
    "start_time": "2024-03-12T16:40:45.443Z"
   },
   {
    "duration": 19,
    "start_time": "2024-03-12T16:40:45.471Z"
   },
   {
    "duration": 20,
    "start_time": "2024-03-12T16:40:45.492Z"
   },
   {
    "duration": 25,
    "start_time": "2024-03-12T16:44:32.441Z"
   },
   {
    "duration": 18,
    "start_time": "2024-03-12T16:44:38.968Z"
   },
   {
    "duration": 11,
    "start_time": "2024-03-12T16:45:22.223Z"
   },
   {
    "duration": 38,
    "start_time": "2024-03-12T16:47:11.908Z"
   },
   {
    "duration": 10,
    "start_time": "2024-03-12T16:48:20.323Z"
   },
   {
    "duration": 39,
    "start_time": "2024-03-12T16:48:30.795Z"
   },
   {
    "duration": 62,
    "start_time": "2024-03-12T16:50:03.025Z"
   },
   {
    "duration": 68,
    "start_time": "2024-03-12T16:54:39.807Z"
   },
   {
    "duration": 86,
    "start_time": "2024-03-12T16:56:40.762Z"
   },
   {
    "duration": 3,
    "start_time": "2024-03-12T16:58:33.654Z"
   },
   {
    "duration": 321,
    "start_time": "2024-03-12T16:58:33.659Z"
   },
   {
    "duration": 6,
    "start_time": "2024-03-12T16:58:33.982Z"
   },
   {
    "duration": 165,
    "start_time": "2024-03-12T16:58:33.990Z"
   },
   {
    "duration": 10,
    "start_time": "2024-03-12T16:58:34.160Z"
   },
   {
    "duration": 22,
    "start_time": "2024-03-12T16:58:34.171Z"
   },
   {
    "duration": 3,
    "start_time": "2024-03-12T16:58:34.194Z"
   },
   {
    "duration": 19,
    "start_time": "2024-03-12T16:58:34.199Z"
   },
   {
    "duration": 20,
    "start_time": "2024-03-12T16:58:34.220Z"
   },
   {
    "duration": 74,
    "start_time": "2024-03-12T16:58:34.242Z"
   },
   {
    "duration": 67,
    "start_time": "2024-03-12T16:58:34.318Z"
   },
   {
    "duration": 62,
    "start_time": "2024-03-12T16:58:34.387Z"
   },
   {
    "duration": 40,
    "start_time": "2024-03-12T16:58:34.450Z"
   },
   {
    "duration": 7,
    "start_time": "2024-03-12T16:58:34.494Z"
   },
   {
    "duration": 10,
    "start_time": "2024-03-12T16:58:34.503Z"
   },
   {
    "duration": 103,
    "start_time": "2024-03-12T16:58:34.514Z"
   },
   {
    "duration": 9,
    "start_time": "2024-03-12T16:58:34.619Z"
   },
   {
    "duration": 25,
    "start_time": "2024-03-12T16:58:34.629Z"
   },
   {
    "duration": 17,
    "start_time": "2024-03-12T16:58:34.656Z"
   },
   {
    "duration": 24,
    "start_time": "2024-03-12T16:58:34.674Z"
   },
   {
    "duration": 26,
    "start_time": "2024-03-12T16:58:34.699Z"
   },
   {
    "duration": 22,
    "start_time": "2024-03-12T16:58:34.727Z"
   },
   {
    "duration": 455,
    "start_time": "2024-03-12T16:58:34.751Z"
   },
   {
    "duration": 33,
    "start_time": "2024-03-12T16:58:35.208Z"
   },
   {
    "duration": 56,
    "start_time": "2024-03-12T16:58:35.243Z"
   },
   {
    "duration": 6,
    "start_time": "2024-03-12T16:58:35.301Z"
   },
   {
    "duration": 32,
    "start_time": "2024-03-12T16:58:35.308Z"
   },
   {
    "duration": 25,
    "start_time": "2024-03-12T16:58:35.342Z"
   },
   {
    "duration": 9,
    "start_time": "2024-03-12T16:58:35.369Z"
   },
   {
    "duration": 31,
    "start_time": "2024-03-12T16:58:35.380Z"
   },
   {
    "duration": 38,
    "start_time": "2024-03-12T16:58:35.413Z"
   },
   {
    "duration": 18,
    "start_time": "2024-03-12T16:58:35.470Z"
   },
   {
    "duration": 75,
    "start_time": "2024-03-12T16:58:35.490Z"
   },
   {
    "duration": 11,
    "start_time": "2024-03-12T16:58:35.569Z"
   },
   {
    "duration": 51,
    "start_time": "2024-03-12T16:58:35.582Z"
   },
   {
    "duration": 51,
    "start_time": "2024-03-12T16:58:35.635Z"
   },
   {
    "duration": 56,
    "start_time": "2024-03-12T16:58:35.687Z"
   },
   {
    "duration": 63,
    "start_time": "2024-03-12T16:58:35.744Z"
   },
   {
    "duration": 4,
    "start_time": "2024-03-12T16:58:35.809Z"
   },
   {
    "duration": 22,
    "start_time": "2024-03-12T16:58:35.814Z"
   },
   {
    "duration": 4,
    "start_time": "2024-03-12T16:58:35.841Z"
   },
   {
    "duration": 27,
    "start_time": "2024-03-12T16:58:35.846Z"
   },
   {
    "duration": 31,
    "start_time": "2024-03-12T16:58:35.874Z"
   },
   {
    "duration": 35,
    "start_time": "2024-03-12T16:58:35.906Z"
   },
   {
    "duration": 51,
    "start_time": "2024-03-12T16:58:35.942Z"
   },
   {
    "duration": 5,
    "start_time": "2024-03-12T16:58:35.994Z"
   },
   {
    "duration": 8,
    "start_time": "2024-03-12T16:58:36.001Z"
   },
   {
    "duration": 7,
    "start_time": "2024-03-12T16:58:36.010Z"
   },
   {
    "duration": 5,
    "start_time": "2024-03-12T16:58:36.019Z"
   },
   {
    "duration": 29,
    "start_time": "2024-03-12T16:58:36.025Z"
   },
   {
    "duration": 16,
    "start_time": "2024-03-12T16:58:36.055Z"
   },
   {
    "duration": 8,
    "start_time": "2024-03-12T16:58:36.072Z"
   },
   {
    "duration": 27,
    "start_time": "2024-03-12T16:58:36.081Z"
   },
   {
    "duration": 8,
    "start_time": "2024-03-12T16:58:36.109Z"
   },
   {
    "duration": 7,
    "start_time": "2024-03-12T16:58:36.119Z"
   },
   {
    "duration": 45,
    "start_time": "2024-03-12T16:58:36.127Z"
   },
   {
    "duration": 8,
    "start_time": "2024-03-12T16:58:36.173Z"
   },
   {
    "duration": 9,
    "start_time": "2024-03-12T16:58:36.183Z"
   },
   {
    "duration": 11,
    "start_time": "2024-03-12T16:58:36.194Z"
   },
   {
    "duration": 6,
    "start_time": "2024-03-12T16:58:36.207Z"
   },
   {
    "duration": 12,
    "start_time": "2024-03-12T16:58:36.214Z"
   },
   {
    "duration": 19,
    "start_time": "2024-03-12T16:58:36.227Z"
   },
   {
    "duration": 9,
    "start_time": "2024-03-12T16:58:36.247Z"
   },
   {
    "duration": 13,
    "start_time": "2024-03-12T16:58:36.257Z"
   },
   {
    "duration": 9,
    "start_time": "2024-03-12T16:58:36.272Z"
   },
   {
    "duration": 8,
    "start_time": "2024-03-12T16:58:36.283Z"
   },
   {
    "duration": 9,
    "start_time": "2024-03-12T16:58:36.293Z"
   },
   {
    "duration": 6,
    "start_time": "2024-03-12T16:58:36.304Z"
   },
   {
    "duration": 9,
    "start_time": "2024-03-12T16:58:36.312Z"
   },
   {
    "duration": 12,
    "start_time": "2024-03-12T16:58:36.322Z"
   },
   {
    "duration": 35,
    "start_time": "2024-03-12T16:58:36.335Z"
   },
   {
    "duration": 16,
    "start_time": "2024-03-12T16:58:36.372Z"
   },
   {
    "duration": 31,
    "start_time": "2024-03-12T16:58:36.390Z"
   },
   {
    "duration": 25,
    "start_time": "2024-03-12T16:58:36.423Z"
   },
   {
    "duration": 6,
    "start_time": "2024-03-12T16:58:36.450Z"
   },
   {
    "duration": 8,
    "start_time": "2024-03-12T16:58:36.457Z"
   },
   {
    "duration": 7,
    "start_time": "2024-03-12T16:58:36.467Z"
   },
   {
    "duration": 8,
    "start_time": "2024-03-12T16:58:36.475Z"
   },
   {
    "duration": 9,
    "start_time": "2024-03-12T16:58:36.485Z"
   },
   {
    "duration": 9,
    "start_time": "2024-03-12T16:58:36.496Z"
   },
   {
    "duration": 4,
    "start_time": "2024-03-12T16:58:36.507Z"
   },
   {
    "duration": 3,
    "start_time": "2024-03-12T16:59:53.866Z"
   },
   {
    "duration": 314,
    "start_time": "2024-03-12T16:59:53.871Z"
   },
   {
    "duration": 6,
    "start_time": "2024-03-12T16:59:54.187Z"
   },
   {
    "duration": 158,
    "start_time": "2024-03-12T16:59:54.194Z"
   },
   {
    "duration": 8,
    "start_time": "2024-03-12T16:59:54.354Z"
   },
   {
    "duration": 22,
    "start_time": "2024-03-12T16:59:54.369Z"
   },
   {
    "duration": 3,
    "start_time": "2024-03-12T16:59:54.393Z"
   },
   {
    "duration": 13,
    "start_time": "2024-03-12T16:59:54.397Z"
   },
   {
    "duration": 19,
    "start_time": "2024-03-12T16:59:54.412Z"
   },
   {
    "duration": 80,
    "start_time": "2024-03-12T16:59:54.432Z"
   },
   {
    "duration": 71,
    "start_time": "2024-03-12T16:59:54.513Z"
   },
   {
    "duration": 60,
    "start_time": "2024-03-12T16:59:54.585Z"
   },
   {
    "duration": 30,
    "start_time": "2024-03-12T16:59:54.647Z"
   },
   {
    "duration": 6,
    "start_time": "2024-03-12T16:59:54.681Z"
   },
   {
    "duration": 20,
    "start_time": "2024-03-12T16:59:54.689Z"
   },
   {
    "duration": 83,
    "start_time": "2024-03-12T16:59:54.710Z"
   },
   {
    "duration": 9,
    "start_time": "2024-03-12T16:59:54.794Z"
   },
   {
    "duration": 15,
    "start_time": "2024-03-12T16:59:54.805Z"
   },
   {
    "duration": 9,
    "start_time": "2024-03-12T16:59:54.822Z"
   },
   {
    "duration": 37,
    "start_time": "2024-03-12T16:59:54.833Z"
   },
   {
    "duration": 21,
    "start_time": "2024-03-12T16:59:54.872Z"
   },
   {
    "duration": 19,
    "start_time": "2024-03-12T16:59:54.895Z"
   },
   {
    "duration": 408,
    "start_time": "2024-03-12T16:59:54.915Z"
   },
   {
    "duration": 36,
    "start_time": "2024-03-12T16:59:55.324Z"
   },
   {
    "duration": 32,
    "start_time": "2024-03-12T16:59:55.369Z"
   },
   {
    "duration": 6,
    "start_time": "2024-03-12T16:59:55.403Z"
   },
   {
    "duration": 15,
    "start_time": "2024-03-12T16:59:55.410Z"
   },
   {
    "duration": 44,
    "start_time": "2024-03-12T16:59:55.426Z"
   },
   {
    "duration": 8,
    "start_time": "2024-03-12T16:59:55.472Z"
   },
   {
    "duration": 37,
    "start_time": "2024-03-12T16:59:55.482Z"
   },
   {
    "duration": 63,
    "start_time": "2024-03-12T16:59:55.521Z"
   },
   {
    "duration": 18,
    "start_time": "2024-03-12T16:59:55.585Z"
   },
   {
    "duration": 72,
    "start_time": "2024-03-12T16:59:55.605Z"
   },
   {
    "duration": 12,
    "start_time": "2024-03-12T16:59:55.679Z"
   },
   {
    "duration": 48,
    "start_time": "2024-03-12T16:59:55.693Z"
   },
   {
    "duration": 55,
    "start_time": "2024-03-12T16:59:55.743Z"
   },
   {
    "duration": 55,
    "start_time": "2024-03-12T16:59:55.800Z"
   },
   {
    "duration": 62,
    "start_time": "2024-03-12T16:59:55.856Z"
   },
   {
    "duration": 4,
    "start_time": "2024-03-12T16:59:55.920Z"
   },
   {
    "duration": 12,
    "start_time": "2024-03-12T16:59:55.925Z"
   },
   {
    "duration": 4,
    "start_time": "2024-03-12T16:59:55.941Z"
   },
   {
    "duration": 30,
    "start_time": "2024-03-12T16:59:55.946Z"
   },
   {
    "duration": 30,
    "start_time": "2024-03-12T16:59:55.978Z"
   },
   {
    "duration": 34,
    "start_time": "2024-03-12T16:59:56.009Z"
   },
   {
    "duration": 55,
    "start_time": "2024-03-12T16:59:56.044Z"
   },
   {
    "duration": 5,
    "start_time": "2024-03-12T16:59:56.100Z"
   },
   {
    "duration": 9,
    "start_time": "2024-03-12T16:59:56.106Z"
   },
   {
    "duration": 9,
    "start_time": "2024-03-12T16:59:56.116Z"
   },
   {
    "duration": 6,
    "start_time": "2024-03-12T16:59:56.126Z"
   },
   {
    "duration": 38,
    "start_time": "2024-03-12T16:59:56.133Z"
   },
   {
    "duration": 15,
    "start_time": "2024-03-12T16:59:56.173Z"
   },
   {
    "duration": 8,
    "start_time": "2024-03-12T16:59:56.189Z"
   },
   {
    "duration": 12,
    "start_time": "2024-03-12T16:59:56.198Z"
   },
   {
    "duration": 7,
    "start_time": "2024-03-12T16:59:56.212Z"
   },
   {
    "duration": 6,
    "start_time": "2024-03-12T16:59:56.221Z"
   },
   {
    "duration": 55,
    "start_time": "2024-03-12T16:59:56.229Z"
   },
   {
    "duration": 7,
    "start_time": "2024-03-12T16:59:56.286Z"
   },
   {
    "duration": 5,
    "start_time": "2024-03-12T16:59:56.294Z"
   },
   {
    "duration": 8,
    "start_time": "2024-03-12T16:59:56.300Z"
   },
   {
    "duration": 9,
    "start_time": "2024-03-12T16:59:56.309Z"
   },
   {
    "duration": 15,
    "start_time": "2024-03-12T16:59:56.319Z"
   },
   {
    "duration": 5,
    "start_time": "2024-03-12T16:59:56.335Z"
   },
   {
    "duration": 8,
    "start_time": "2024-03-12T16:59:56.341Z"
   },
   {
    "duration": 3,
    "start_time": "2024-03-12T16:59:56.370Z"
   },
   {
    "duration": 8,
    "start_time": "2024-03-12T16:59:56.374Z"
   },
   {
    "duration": 11,
    "start_time": "2024-03-12T16:59:56.384Z"
   },
   {
    "duration": 7,
    "start_time": "2024-03-12T16:59:56.397Z"
   },
   {
    "duration": 5,
    "start_time": "2024-03-12T16:59:56.406Z"
   },
   {
    "duration": 10,
    "start_time": "2024-03-12T16:59:56.412Z"
   },
   {
    "duration": 5,
    "start_time": "2024-03-12T16:59:56.424Z"
   },
   {
    "duration": 7,
    "start_time": "2024-03-12T16:59:56.431Z"
   },
   {
    "duration": 3,
    "start_time": "2024-03-12T16:59:56.470Z"
   },
   {
    "duration": 18,
    "start_time": "2024-03-12T16:59:56.474Z"
   },
   {
    "duration": 9,
    "start_time": "2024-03-12T16:59:56.493Z"
   },
   {
    "duration": 15,
    "start_time": "2024-03-12T16:59:56.503Z"
   },
   {
    "duration": 16,
    "start_time": "2024-03-12T16:59:56.520Z"
   },
   {
    "duration": 9,
    "start_time": "2024-03-12T16:59:56.537Z"
   },
   {
    "duration": 10,
    "start_time": "2024-03-12T16:59:56.547Z"
   },
   {
    "duration": 11,
    "start_time": "2024-03-12T16:59:56.558Z"
   },
   {
    "duration": 8,
    "start_time": "2024-03-12T16:59:56.571Z"
   },
   {
    "duration": 7,
    "start_time": "2024-03-12T16:59:56.580Z"
   },
   {
    "duration": 1196,
    "start_time": "2024-03-12T20:52:47.339Z"
   },
   {
    "duration": 543,
    "start_time": "2024-03-12T20:52:48.536Z"
   },
   {
    "duration": 9,
    "start_time": "2024-03-12T20:52:49.081Z"
   },
   {
    "duration": 124,
    "start_time": "2024-03-12T20:52:49.091Z"
   },
   {
    "duration": 7,
    "start_time": "2024-03-12T20:52:49.217Z"
   },
   {
    "duration": 17,
    "start_time": "2024-03-12T20:52:49.225Z"
   },
   {
    "duration": 3,
    "start_time": "2024-03-12T20:52:49.243Z"
   },
   {
    "duration": 6,
    "start_time": "2024-03-12T20:52:49.256Z"
   },
   {
    "duration": 16,
    "start_time": "2024-03-12T20:52:49.263Z"
   },
   {
    "duration": 51,
    "start_time": "2024-03-12T20:52:49.280Z"
   },
   {
    "duration": 58,
    "start_time": "2024-03-12T20:52:49.332Z"
   },
   {
    "duration": 54,
    "start_time": "2024-03-12T20:52:49.392Z"
   },
   {
    "duration": 18,
    "start_time": "2024-03-12T20:52:49.457Z"
   },
   {
    "duration": 8,
    "start_time": "2024-03-12T20:52:49.479Z"
   },
   {
    "duration": 13,
    "start_time": "2024-03-12T20:52:49.488Z"
   },
   {
    "duration": 61,
    "start_time": "2024-03-12T20:52:49.502Z"
   },
   {
    "duration": 15,
    "start_time": "2024-03-12T20:52:49.564Z"
   },
   {
    "duration": 27,
    "start_time": "2024-03-12T20:52:49.580Z"
   },
   {
    "duration": 14,
    "start_time": "2024-03-12T20:52:49.608Z"
   },
   {
    "duration": 14,
    "start_time": "2024-03-12T20:52:49.623Z"
   },
   {
    "duration": 26,
    "start_time": "2024-03-12T20:52:49.638Z"
   },
   {
    "duration": 15,
    "start_time": "2024-03-12T20:52:49.665Z"
   },
   {
    "duration": 312,
    "start_time": "2024-03-12T20:52:49.681Z"
   },
   {
    "duration": 30,
    "start_time": "2024-03-12T20:52:49.994Z"
   },
   {
    "duration": 32,
    "start_time": "2024-03-12T20:52:50.025Z"
   },
   {
    "duration": 5,
    "start_time": "2024-03-12T20:52:50.058Z"
   },
   {
    "duration": 20,
    "start_time": "2024-03-12T20:52:50.065Z"
   },
   {
    "duration": 19,
    "start_time": "2024-03-12T20:52:50.086Z"
   },
   {
    "duration": 10,
    "start_time": "2024-03-12T20:52:50.106Z"
   },
   {
    "duration": 27,
    "start_time": "2024-03-12T20:52:50.117Z"
   },
   {
    "duration": 38,
    "start_time": "2024-03-12T20:52:50.145Z"
   },
   {
    "duration": 17,
    "start_time": "2024-03-12T20:52:50.184Z"
   },
   {
    "duration": 81,
    "start_time": "2024-03-12T20:52:50.202Z"
   },
   {
    "duration": 12,
    "start_time": "2024-03-12T20:52:50.285Z"
   },
   {
    "duration": 28,
    "start_time": "2024-03-12T20:52:50.298Z"
   },
   {
    "duration": 53,
    "start_time": "2024-03-12T20:52:50.327Z"
   },
   {
    "duration": 44,
    "start_time": "2024-03-12T20:52:50.381Z"
   },
   {
    "duration": 54,
    "start_time": "2024-03-12T20:52:50.426Z"
   },
   {
    "duration": 3,
    "start_time": "2024-03-12T20:52:50.482Z"
   },
   {
    "duration": 17,
    "start_time": "2024-03-12T20:52:50.487Z"
   },
   {
    "duration": 33,
    "start_time": "2024-03-12T20:52:50.507Z"
   },
   {
    "duration": 258,
    "start_time": "2024-03-12T20:52:50.541Z"
   },
   {
    "duration": 27,
    "start_time": "2024-03-12T20:52:50.800Z"
   },
   {
    "duration": 53,
    "start_time": "2024-03-12T20:52:50.828Z"
   },
   {
    "duration": 80,
    "start_time": "2024-03-12T20:52:50.883Z"
   },
   {
    "duration": 4,
    "start_time": "2024-03-12T20:52:50.965Z"
   },
   {
    "duration": 12,
    "start_time": "2024-03-12T20:52:50.970Z"
   },
   {
    "duration": 18,
    "start_time": "2024-03-12T20:52:50.984Z"
   },
   {
    "duration": 20,
    "start_time": "2024-03-12T20:52:51.003Z"
   },
   {
    "duration": 14,
    "start_time": "2024-03-12T20:52:51.024Z"
   },
   {
    "duration": 18,
    "start_time": "2024-03-12T20:52:51.039Z"
   },
   {
    "duration": 12,
    "start_time": "2024-03-12T20:52:51.058Z"
   },
   {
    "duration": 26,
    "start_time": "2024-03-12T20:52:51.071Z"
   },
   {
    "duration": 20,
    "start_time": "2024-03-12T20:52:51.098Z"
   },
   {
    "duration": 13,
    "start_time": "2024-03-12T20:52:51.119Z"
   },
   {
    "duration": 36,
    "start_time": "2024-03-12T20:52:51.133Z"
   },
   {
    "duration": 6,
    "start_time": "2024-03-12T20:52:51.170Z"
   },
   {
    "duration": 39,
    "start_time": "2024-03-12T20:52:51.177Z"
   },
   {
    "duration": 23,
    "start_time": "2024-03-12T20:52:51.217Z"
   },
   {
    "duration": 34,
    "start_time": "2024-03-12T20:52:51.241Z"
   },
   {
    "duration": 8,
    "start_time": "2024-03-12T20:52:51.276Z"
   },
   {
    "duration": 18,
    "start_time": "2024-03-12T20:52:51.285Z"
   },
   {
    "duration": 23,
    "start_time": "2024-03-12T20:52:51.304Z"
   },
   {
    "duration": 10,
    "start_time": "2024-03-12T20:52:51.328Z"
   },
   {
    "duration": 17,
    "start_time": "2024-03-12T20:52:51.339Z"
   },
   {
    "duration": 41,
    "start_time": "2024-03-12T20:52:51.357Z"
   },
   {
    "duration": 9,
    "start_time": "2024-03-12T20:52:51.400Z"
   },
   {
    "duration": 18,
    "start_time": "2024-03-12T20:52:51.410Z"
   },
   {
    "duration": 19,
    "start_time": "2024-03-12T20:52:51.429Z"
   },
   {
    "duration": 13,
    "start_time": "2024-03-12T20:52:51.448Z"
   },
   {
    "duration": 20,
    "start_time": "2024-03-12T20:52:51.462Z"
   },
   {
    "duration": 33,
    "start_time": "2024-03-12T20:52:51.483Z"
   },
   {
    "duration": 11,
    "start_time": "2024-03-12T20:52:51.517Z"
   },
   {
    "duration": 21,
    "start_time": "2024-03-12T20:52:51.529Z"
   },
   {
    "duration": 24,
    "start_time": "2024-03-12T20:52:51.551Z"
   },
   {
    "duration": 34,
    "start_time": "2024-03-12T20:52:51.576Z"
   },
   {
    "duration": 26,
    "start_time": "2024-03-12T20:52:51.612Z"
   },
   {
    "duration": 31,
    "start_time": "2024-03-12T20:52:51.639Z"
   },
   {
    "duration": 21,
    "start_time": "2024-03-12T20:52:51.671Z"
   },
   {
    "duration": 19,
    "start_time": "2024-03-12T20:52:51.693Z"
   },
   {
    "duration": 20,
    "start_time": "2024-03-12T20:52:51.713Z"
   },
   {
    "duration": 1194,
    "start_time": "2024-08-06T19:19:49.249Z"
   },
   {
    "duration": 1117,
    "start_time": "2024-08-06T19:19:50.445Z"
   },
   {
    "duration": 11,
    "start_time": "2024-08-06T19:19:51.563Z"
   },
   {
    "duration": 204,
    "start_time": "2024-08-06T19:19:51.575Z"
   },
   {
    "duration": 7,
    "start_time": "2024-08-06T19:19:51.781Z"
   },
   {
    "duration": 53,
    "start_time": "2024-08-06T19:19:51.789Z"
   },
   {
    "duration": 92,
    "start_time": "2024-08-06T19:19:51.844Z"
   },
   {
    "duration": 16,
    "start_time": "2024-08-06T19:19:51.938Z"
   },
   {
    "duration": 20,
    "start_time": "2024-08-06T19:19:51.956Z"
   },
   {
    "duration": 63,
    "start_time": "2024-08-06T19:19:51.978Z"
   },
   {
    "duration": 66,
    "start_time": "2024-08-06T19:19:52.043Z"
   },
   {
    "duration": 60,
    "start_time": "2024-08-06T19:19:52.110Z"
   },
   {
    "duration": 33,
    "start_time": "2024-08-06T19:19:52.172Z"
   },
   {
    "duration": 12,
    "start_time": "2024-08-06T19:19:52.207Z"
   },
   {
    "duration": 24,
    "start_time": "2024-08-06T19:19:52.221Z"
   },
   {
    "duration": 79,
    "start_time": "2024-08-06T19:19:52.246Z"
   },
   {
    "duration": 8,
    "start_time": "2024-08-06T19:19:52.327Z"
   },
   {
    "duration": 68,
    "start_time": "2024-08-06T19:19:52.336Z"
   },
   {
    "duration": 28,
    "start_time": "2024-08-06T19:19:52.406Z"
   },
   {
    "duration": 16,
    "start_time": "2024-08-06T19:19:52.436Z"
   },
   {
    "duration": 21,
    "start_time": "2024-08-06T19:19:52.454Z"
   },
   {
    "duration": 60,
    "start_time": "2024-08-06T19:19:52.476Z"
   },
   {
    "duration": 397,
    "start_time": "2024-08-06T19:19:52.538Z"
   },
   {
    "duration": 37,
    "start_time": "2024-08-06T19:19:52.937Z"
   },
   {
    "duration": 51,
    "start_time": "2024-08-06T19:19:52.976Z"
   },
   {
    "duration": 16,
    "start_time": "2024-08-06T19:19:53.028Z"
   },
   {
    "duration": 23,
    "start_time": "2024-08-06T19:19:53.045Z"
   },
   {
    "duration": 46,
    "start_time": "2024-08-06T19:19:53.070Z"
   },
   {
    "duration": 42,
    "start_time": "2024-08-06T19:19:53.118Z"
   },
   {
    "duration": 36,
    "start_time": "2024-08-06T19:19:53.162Z"
   },
   {
    "duration": 42,
    "start_time": "2024-08-06T19:19:53.200Z"
   },
   {
    "duration": 19,
    "start_time": "2024-08-06T19:19:53.243Z"
   },
   {
    "duration": 69,
    "start_time": "2024-08-06T19:19:53.264Z"
   },
   {
    "duration": 13,
    "start_time": "2024-08-06T19:19:53.335Z"
   },
   {
    "duration": 49,
    "start_time": "2024-08-06T19:19:53.350Z"
   },
   {
    "duration": 50,
    "start_time": "2024-08-06T19:19:53.401Z"
   },
   {
    "duration": 71,
    "start_time": "2024-08-06T19:19:53.453Z"
   },
   {
    "duration": 54,
    "start_time": "2024-08-06T19:19:53.525Z"
   },
   {
    "duration": 4,
    "start_time": "2024-08-06T19:19:53.596Z"
   },
   {
    "duration": 20,
    "start_time": "2024-08-06T19:19:53.602Z"
   },
   {
    "duration": 13,
    "start_time": "2024-08-06T19:19:53.626Z"
   },
   {
    "duration": 177,
    "start_time": "2024-08-06T19:19:53.640Z"
   },
   {
    "duration": 31,
    "start_time": "2024-08-06T19:19:53.818Z"
   },
   {
    "duration": 71,
    "start_time": "2024-08-06T19:19:53.851Z"
   },
   {
    "duration": 33,
    "start_time": "2024-08-06T19:19:53.924Z"
   },
   {
    "duration": 6,
    "start_time": "2024-08-06T19:19:53.996Z"
   },
   {
    "duration": 19,
    "start_time": "2024-08-06T19:19:54.003Z"
   },
   {
    "duration": 15,
    "start_time": "2024-08-06T19:19:54.023Z"
   },
   {
    "duration": 9,
    "start_time": "2024-08-06T19:19:54.039Z"
   },
   {
    "duration": 10,
    "start_time": "2024-08-06T19:19:54.050Z"
   },
   {
    "duration": 37,
    "start_time": "2024-08-06T19:19:54.061Z"
   },
   {
    "duration": 21,
    "start_time": "2024-08-06T19:19:54.100Z"
   },
   {
    "duration": 7,
    "start_time": "2024-08-06T19:19:54.122Z"
   },
   {
    "duration": 11,
    "start_time": "2024-08-06T19:19:54.130Z"
   },
   {
    "duration": 17,
    "start_time": "2024-08-06T19:19:54.143Z"
   },
   {
    "duration": 46,
    "start_time": "2024-08-06T19:19:54.162Z"
   },
   {
    "duration": 7,
    "start_time": "2024-08-06T19:19:54.209Z"
   },
   {
    "duration": 10,
    "start_time": "2024-08-06T19:19:54.218Z"
   },
   {
    "duration": 7,
    "start_time": "2024-08-06T19:19:54.229Z"
   },
   {
    "duration": 7,
    "start_time": "2024-08-06T19:19:54.238Z"
   },
   {
    "duration": 29,
    "start_time": "2024-08-06T19:19:54.247Z"
   },
   {
    "duration": 11,
    "start_time": "2024-08-06T19:19:54.277Z"
   },
   {
    "duration": 40,
    "start_time": "2024-08-06T19:19:54.289Z"
   },
   {
    "duration": 86,
    "start_time": "2024-08-06T19:19:54.330Z"
   },
   {
    "duration": 13,
    "start_time": "2024-08-06T19:19:54.417Z"
   },
   {
    "duration": 11,
    "start_time": "2024-08-06T19:19:54.432Z"
   },
   {
    "duration": 21,
    "start_time": "2024-08-06T19:19:54.444Z"
   },
   {
    "duration": 38,
    "start_time": "2024-08-06T19:19:54.467Z"
   },
   {
    "duration": 16,
    "start_time": "2024-08-06T19:19:54.507Z"
   },
   {
    "duration": 5,
    "start_time": "2024-08-06T19:19:54.525Z"
   },
   {
    "duration": 7,
    "start_time": "2024-08-06T19:19:54.532Z"
   },
   {
    "duration": 11,
    "start_time": "2024-08-06T19:19:54.541Z"
   },
   {
    "duration": 12,
    "start_time": "2024-08-06T19:19:54.554Z"
   },
   {
    "duration": 10,
    "start_time": "2024-08-06T19:19:54.568Z"
   },
   {
    "duration": 24,
    "start_time": "2024-08-06T19:19:54.579Z"
   },
   {
    "duration": 9,
    "start_time": "2024-08-06T19:19:54.605Z"
   },
   {
    "duration": 6,
    "start_time": "2024-08-06T19:19:54.615Z"
   },
   {
    "duration": 7,
    "start_time": "2024-08-06T19:19:54.622Z"
   },
   {
    "duration": 5,
    "start_time": "2024-08-06T19:19:54.631Z"
   },
   {
    "duration": 7,
    "start_time": "2024-08-06T19:19:54.637Z"
   },
   {
    "duration": 5,
    "start_time": "2024-08-06T19:19:54.646Z"
   },
   {
    "duration": 3,
    "start_time": "2024-08-06T19:31:35.692Z"
   },
   {
    "duration": 324,
    "start_time": "2024-08-06T19:31:35.698Z"
   },
   {
    "duration": 5,
    "start_time": "2024-08-06T19:31:36.024Z"
   },
   {
    "duration": 165,
    "start_time": "2024-08-06T19:31:36.031Z"
   },
   {
    "duration": 7,
    "start_time": "2024-08-06T19:31:36.198Z"
   },
   {
    "duration": 27,
    "start_time": "2024-08-06T19:31:36.206Z"
   },
   {
    "duration": 4,
    "start_time": "2024-08-06T19:31:36.234Z"
   },
   {
    "duration": 11,
    "start_time": "2024-08-06T19:31:36.239Z"
   },
   {
    "duration": 16,
    "start_time": "2024-08-06T19:31:36.251Z"
   },
   {
    "duration": 76,
    "start_time": "2024-08-06T19:31:36.268Z"
   },
   {
    "duration": 64,
    "start_time": "2024-08-06T19:31:36.345Z"
   },
   {
    "duration": 60,
    "start_time": "2024-08-06T19:31:36.411Z"
   },
   {
    "duration": 32,
    "start_time": "2024-08-06T19:31:36.473Z"
   },
   {
    "duration": 7,
    "start_time": "2024-08-06T19:31:36.508Z"
   },
   {
    "duration": 13,
    "start_time": "2024-08-06T19:31:36.516Z"
   },
   {
    "duration": 89,
    "start_time": "2024-08-06T19:31:36.530Z"
   },
   {
    "duration": 8,
    "start_time": "2024-08-06T19:31:36.621Z"
   },
   {
    "duration": 14,
    "start_time": "2024-08-06T19:31:36.630Z"
   },
   {
    "duration": 5,
    "start_time": "2024-08-06T19:31:36.646Z"
   },
   {
    "duration": 15,
    "start_time": "2024-08-06T19:31:36.652Z"
   },
   {
    "duration": 44,
    "start_time": "2024-08-06T19:31:36.668Z"
   },
   {
    "duration": 18,
    "start_time": "2024-08-06T19:31:36.713Z"
   },
   {
    "duration": 364,
    "start_time": "2024-08-06T19:31:36.732Z"
   },
   {
    "duration": 33,
    "start_time": "2024-08-06T19:31:37.098Z"
   },
   {
    "duration": 34,
    "start_time": "2024-08-06T19:31:37.132Z"
   },
   {
    "duration": 31,
    "start_time": "2024-08-06T19:31:37.168Z"
   },
   {
    "duration": 14,
    "start_time": "2024-08-06T19:31:37.200Z"
   },
   {
    "duration": 15,
    "start_time": "2024-08-06T19:31:37.216Z"
   },
   {
    "duration": 8,
    "start_time": "2024-08-06T19:31:37.233Z"
   },
   {
    "duration": 55,
    "start_time": "2024-08-06T19:31:37.242Z"
   },
   {
    "duration": 37,
    "start_time": "2024-08-06T19:31:37.298Z"
   },
   {
    "duration": 19,
    "start_time": "2024-08-06T19:31:37.336Z"
   },
   {
    "duration": 71,
    "start_time": "2024-08-06T19:31:37.357Z"
   },
   {
    "duration": 13,
    "start_time": "2024-08-06T19:31:37.430Z"
   },
   {
    "duration": 31,
    "start_time": "2024-08-06T19:31:37.444Z"
   },
   {
    "duration": 64,
    "start_time": "2024-08-06T19:31:37.476Z"
   },
   {
    "duration": 65,
    "start_time": "2024-08-06T19:31:37.541Z"
   },
   {
    "duration": 50,
    "start_time": "2024-08-06T19:31:37.607Z"
   },
   {
    "duration": 3,
    "start_time": "2024-08-06T19:31:37.659Z"
   },
   {
    "duration": 6,
    "start_time": "2024-08-06T19:31:37.663Z"
   },
   {
    "duration": 3,
    "start_time": "2024-08-06T19:31:37.696Z"
   },
   {
    "duration": 14,
    "start_time": "2024-08-06T19:31:37.701Z"
   },
   {
    "duration": 34,
    "start_time": "2024-08-06T19:31:37.717Z"
   },
   {
    "duration": 51,
    "start_time": "2024-08-06T19:31:37.752Z"
   },
   {
    "duration": 34,
    "start_time": "2024-08-06T19:31:37.804Z"
   },
   {
    "duration": 6,
    "start_time": "2024-08-06T19:31:37.839Z"
   },
   {
    "duration": 10,
    "start_time": "2024-08-06T19:31:37.847Z"
   },
   {
    "duration": 38,
    "start_time": "2024-08-06T19:31:37.859Z"
   },
   {
    "duration": 58,
    "start_time": "2024-08-06T19:31:37.899Z"
   },
   {
    "duration": 7,
    "start_time": "2024-08-06T19:31:37.959Z"
   },
   {
    "duration": 47,
    "start_time": "2024-08-06T19:31:37.968Z"
   },
   {
    "duration": 9,
    "start_time": "2024-08-06T19:31:38.017Z"
   },
   {
    "duration": 9,
    "start_time": "2024-08-06T19:31:38.027Z"
   },
   {
    "duration": 8,
    "start_time": "2024-08-06T19:31:38.037Z"
   },
   {
    "duration": 4,
    "start_time": "2024-08-06T19:31:38.046Z"
   },
   {
    "duration": 36,
    "start_time": "2024-08-06T19:31:38.052Z"
   },
   {
    "duration": 7,
    "start_time": "2024-08-06T19:31:38.090Z"
   },
   {
    "duration": 14,
    "start_time": "2024-08-06T19:31:38.098Z"
   },
   {
    "duration": 9,
    "start_time": "2024-08-06T19:31:38.114Z"
   },
   {
    "duration": 3,
    "start_time": "2024-08-06T19:31:38.125Z"
   },
   {
    "duration": 8,
    "start_time": "2024-08-06T19:31:38.130Z"
   },
   {
    "duration": 9,
    "start_time": "2024-08-06T19:31:38.140Z"
   },
   {
    "duration": 19,
    "start_time": "2024-08-06T19:31:38.151Z"
   },
   {
    "duration": 25,
    "start_time": "2024-08-06T19:31:38.172Z"
   },
   {
    "duration": 9,
    "start_time": "2024-08-06T19:31:38.198Z"
   },
   {
    "duration": 7,
    "start_time": "2024-08-06T19:31:38.209Z"
   },
   {
    "duration": 9,
    "start_time": "2024-08-06T19:31:38.217Z"
   },
   {
    "duration": 8,
    "start_time": "2024-08-06T19:31:38.227Z"
   },
   {
    "duration": 8,
    "start_time": "2024-08-06T19:31:38.237Z"
   },
   {
    "duration": 4,
    "start_time": "2024-08-06T19:31:38.247Z"
   },
   {
    "duration": 44,
    "start_time": "2024-08-06T19:31:38.252Z"
   },
   {
    "duration": 4,
    "start_time": "2024-08-06T19:31:38.297Z"
   },
   {
    "duration": 7,
    "start_time": "2024-08-06T19:31:38.302Z"
   },
   {
    "duration": 17,
    "start_time": "2024-08-06T19:31:38.311Z"
   },
   {
    "duration": 6,
    "start_time": "2024-08-06T19:31:38.329Z"
   },
   {
    "duration": 9,
    "start_time": "2024-08-06T19:31:38.336Z"
   },
   {
    "duration": 4,
    "start_time": "2024-08-06T19:31:38.347Z"
   },
   {
    "duration": 90,
    "start_time": "2024-08-06T19:31:38.353Z"
   },
   {
    "duration": 8,
    "start_time": "2024-08-06T19:31:38.445Z"
   },
   {
    "duration": 9,
    "start_time": "2024-08-06T19:31:38.455Z"
   },
   {
    "duration": 14,
    "start_time": "2024-08-06T19:31:38.465Z"
   }
  ],
  "kernelspec": {
   "display_name": "Python 3 (ipykernel)",
   "language": "python",
   "name": "python3"
  },
  "language_info": {
   "codemirror_mode": {
    "name": "ipython",
    "version": 3
   },
   "file_extension": ".py",
   "mimetype": "text/x-python",
   "name": "python",
   "nbconvert_exporter": "python",
   "pygments_lexer": "ipython3",
   "version": "3.9.5"
  },
  "toc": {
   "base_numbering": 1,
   "nav_menu": {},
   "number_sections": true,
   "sideBar": true,
   "skip_h1_title": true,
   "title_cell": "Table of Contents",
   "title_sidebar": "Contents",
   "toc_cell": false,
   "toc_position": {},
   "toc_section_display": true,
   "toc_window_display": true
  }
 },
 "nbformat": 4,
 "nbformat_minor": 2
}
